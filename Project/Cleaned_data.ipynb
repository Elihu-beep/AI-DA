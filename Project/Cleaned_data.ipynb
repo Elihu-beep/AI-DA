{
 "cells": [
  {
   "cell_type": "markdown",
   "id": "79c1e565",
   "metadata": {},
   "source": [
    "### Importing data and libraries"
   ]
  },
  {
   "cell_type": "code",
   "execution_count": 167,
   "id": "429333b0",
   "metadata": {},
   "outputs": [],
   "source": [
    "# import pandas as pd\n",
    "# import numpy as np\n",
    "# import matplotlib.pyplot as plt\n",
    "# import seaborn as sns \n",
    "\n",
    "# pd.set_option('display.max_columns', None)\n",
    "# pd.set_option(\"display.max_rows\", None)\n",
    "\n",
    "# df = pd.read_csv(\"C:/Users/Elias/Documents/Koulu/Aida_projekti/archive/used_cars_data.csv\", nrows=100000, low_memory=False, index_col='vin')\n",
    "\n",
    "# df.head()"
   ]
  },
  {
   "cell_type": "code",
   "execution_count": 165,
   "id": "2d4abd7a",
   "metadata": {},
   "outputs": [
    {
     "name": "stdout",
     "output_type": "stream",
     "text": [
      "<class 'pandas.core.frame.DataFrame'>\n",
      "Index: 100000 entries, ZACNJABB5KPJ92081 to LRBFXBSA3LD097990\n",
      "Data columns (total 65 columns):\n",
      " #   Column                   Non-Null Count   Dtype  \n",
      "---  ------                   --------------   -----  \n",
      " 0   back_legroom             95046 non-null   object \n",
      " 1   bed                      607 non-null     object \n",
      " 2   bed_height               8123 non-null    object \n",
      " 3   bed_length               8123 non-null    object \n",
      " 4   body_type                99599 non-null   object \n",
      " 5   cabin                    1667 non-null    object \n",
      " 6   city                     100000 non-null  object \n",
      " 7   city_fuel_economy        83984 non-null   float64\n",
      " 8   combine_fuel_economy     0 non-null       float64\n",
      " 9   daysonmarket             100000 non-null  int64  \n",
      " 10  dealer_zip               100000 non-null  int64  \n",
      " 11  description              97457 non-null   object \n",
      " 12  engine_cylinders         97002 non-null   object \n",
      " 13  engine_displacement      94661 non-null   float64\n",
      " 14  engine_type              97002 non-null   object \n",
      " 15  exterior_color           100000 non-null  object \n",
      " 16  fleet                    56925 non-null   object \n",
      " 17  frame_damaged            56925 non-null   object \n",
      " 18  franchise_dealer         100000 non-null  bool   \n",
      " 19  franchise_make           74584 non-null   object \n",
      " 20  front_legroom            95046 non-null   object \n",
      " 21  fuel_tank_volume         95046 non-null   object \n",
      " 22  fuel_type                97541 non-null   object \n",
      " 23  has_accidents            56925 non-null   object \n",
      " 24  height                   95046 non-null   object \n",
      " 25  highway_fuel_economy     83984 non-null   float64\n",
      " 26  horsepower               94661 non-null   float64\n",
      " 27  interior_color           100000 non-null  object \n",
      " 28  isCab                    56925 non-null   object \n",
      " 29  is_certified             0 non-null       float64\n",
      " 30  is_cpo                   8730 non-null    object \n",
      " 31  is_new                   100000 non-null  bool   \n",
      " 32  is_oemcpo                6110 non-null    object \n",
      " 33  latitude                 100000 non-null  float64\n",
      " 34  length                   95046 non-null   object \n",
      " 35  listed_date              100000 non-null  object \n",
      " 36  listing_color            100000 non-null  object \n",
      " 37  listing_id               100000 non-null  int64  \n",
      " 38  longitude                100000 non-null  float64\n",
      " 39  main_picture_url         85008 non-null   object \n",
      " 40  major_options            93516 non-null   object \n",
      " 41  make_name                100000 non-null  object \n",
      " 42  maximum_seating          95046 non-null   object \n",
      " 43  mileage                  96443 non-null   float64\n",
      " 44  model_name               100000 non-null  object \n",
      " 45  owner_count              54278 non-null   float64\n",
      " 46  power                    85697 non-null   object \n",
      " 47  price                    100000 non-null  float64\n",
      " 48  salvage                  56925 non-null   object \n",
      " 49  savings_amount           100000 non-null  int64  \n",
      " 50  seller_rating            99358 non-null   float64\n",
      " 51  sp_id                    100000 non-null  int64  \n",
      " 52  sp_name                  100000 non-null  object \n",
      " 53  theft_title              56925 non-null   object \n",
      " 54  torque                   84650 non-null   object \n",
      " 55  transmission             98999 non-null   object \n",
      " 56  transmission_display     98999 non-null   object \n",
      " 57  trimId                   96177 non-null   object \n",
      " 58  trim_name                96159 non-null   object \n",
      " 59  vehicle_damage_category  0 non-null       float64\n",
      " 60  wheel_system             95376 non-null   object \n",
      " 61  wheel_system_display     95376 non-null   object \n",
      " 62  wheelbase                95046 non-null   object \n",
      " 63  width                    95046 non-null   object \n",
      " 64  year                     100000 non-null  int64  \n",
      "dtypes: bool(2), float64(13), int64(6), object(44)\n",
      "memory usage: 49.0+ MB\n"
     ]
    }
   ],
   "source": [
    "# Tarkastellaan datatyyppejä, NaN:ien määrää.\n",
    "df.info()"
   ]
  },
  {
   "cell_type": "code",
   "execution_count": 166,
   "id": "2fa87fbb",
   "metadata": {},
   "outputs": [
    {
     "data": {
      "text/html": [
       "<div>\n",
       "<style scoped>\n",
       "    .dataframe tbody tr th:only-of-type {\n",
       "        vertical-align: middle;\n",
       "    }\n",
       "\n",
       "    .dataframe tbody tr th {\n",
       "        vertical-align: top;\n",
       "    }\n",
       "\n",
       "    .dataframe thead th {\n",
       "        text-align: right;\n",
       "    }\n",
       "</style>\n",
       "<table border=\"1\" class=\"dataframe\">\n",
       "  <thead>\n",
       "    <tr style=\"text-align: right;\">\n",
       "      <th></th>\n",
       "      <th>city_fuel_economy</th>\n",
       "      <th>combine_fuel_economy</th>\n",
       "      <th>daysonmarket</th>\n",
       "      <th>dealer_zip</th>\n",
       "      <th>engine_displacement</th>\n",
       "      <th>highway_fuel_economy</th>\n",
       "      <th>horsepower</th>\n",
       "      <th>is_certified</th>\n",
       "      <th>latitude</th>\n",
       "      <th>listing_id</th>\n",
       "      <th>longitude</th>\n",
       "      <th>mileage</th>\n",
       "      <th>owner_count</th>\n",
       "      <th>price</th>\n",
       "      <th>savings_amount</th>\n",
       "      <th>seller_rating</th>\n",
       "      <th>sp_id</th>\n",
       "      <th>vehicle_damage_category</th>\n",
       "      <th>year</th>\n",
       "    </tr>\n",
       "  </thead>\n",
       "  <tbody>\n",
       "    <tr>\n",
       "      <th>count</th>\n",
       "      <td>83984.000000</td>\n",
       "      <td>0.0</td>\n",
       "      <td>100000.000000</td>\n",
       "      <td>100000.000000</td>\n",
       "      <td>94661.000000</td>\n",
       "      <td>83984.000000</td>\n",
       "      <td>94661.000000</td>\n",
       "      <td>0.0</td>\n",
       "      <td>100000.000000</td>\n",
       "      <td>1.000000e+05</td>\n",
       "      <td>100000.000000</td>\n",
       "      <td>96443.000000</td>\n",
       "      <td>54278.000000</td>\n",
       "      <td>1.000000e+05</td>\n",
       "      <td>100000.000000</td>\n",
       "      <td>99358.000000</td>\n",
       "      <td>100000.000000</td>\n",
       "      <td>0.0</td>\n",
       "      <td>100000.000000</td>\n",
       "    </tr>\n",
       "    <tr>\n",
       "      <th>mean</th>\n",
       "      <td>22.236700</td>\n",
       "      <td>NaN</td>\n",
       "      <td>77.682170</td>\n",
       "      <td>14346.712650</td>\n",
       "      <td>2802.220555</td>\n",
       "      <td>29.091696</td>\n",
       "      <td>245.387414</td>\n",
       "      <td>NaN</td>\n",
       "      <td>41.418281</td>\n",
       "      <td>2.752572e+08</td>\n",
       "      <td>-74.962234</td>\n",
       "      <td>31130.643437</td>\n",
       "      <td>1.454346</td>\n",
       "      <td>3.049952e+04</td>\n",
       "      <td>711.255090</td>\n",
       "      <td>4.115767</td>\n",
       "      <td>242369.599200</td>\n",
       "      <td>NaN</td>\n",
       "      <td>2017.549320</td>\n",
       "    </tr>\n",
       "    <tr>\n",
       "      <th>std</th>\n",
       "      <td>7.807983</td>\n",
       "      <td>NaN</td>\n",
       "      <td>109.629986</td>\n",
       "      <td>15502.216726</td>\n",
       "      <td>1159.202851</td>\n",
       "      <td>7.058758</td>\n",
       "      <td>86.521390</td>\n",
       "      <td>NaN</td>\n",
       "      <td>1.106694</td>\n",
       "      <td>8.943492e+06</td>\n",
       "      <td>3.935869</td>\n",
       "      <td>42835.631267</td>\n",
       "      <td>0.815929</td>\n",
       "      <td>2.091578e+04</td>\n",
       "      <td>1320.821225</td>\n",
       "      <td>0.575305</td>\n",
       "      <td>130572.657133</td>\n",
       "      <td>NaN</td>\n",
       "      <td>3.804504</td>\n",
       "    </tr>\n",
       "    <tr>\n",
       "      <th>min</th>\n",
       "      <td>8.000000</td>\n",
       "      <td>NaN</td>\n",
       "      <td>0.000000</td>\n",
       "      <td>922.000000</td>\n",
       "      <td>700.000000</td>\n",
       "      <td>11.000000</td>\n",
       "      <td>70.000000</td>\n",
       "      <td>NaN</td>\n",
       "      <td>18.346700</td>\n",
       "      <td>9.873062e+07</td>\n",
       "      <td>-122.320000</td>\n",
       "      <td>0.000000</td>\n",
       "      <td>1.000000</td>\n",
       "      <td>7.950000e+02</td>\n",
       "      <td>0.000000</td>\n",
       "      <td>1.000000</td>\n",
       "      <td>41593.000000</td>\n",
       "      <td>NaN</td>\n",
       "      <td>1930.000000</td>\n",
       "    </tr>\n",
       "    <tr>\n",
       "      <th>25%</th>\n",
       "      <td>18.000000</td>\n",
       "      <td>NaN</td>\n",
       "      <td>14.000000</td>\n",
       "      <td>6704.000000</td>\n",
       "      <td>2000.000000</td>\n",
       "      <td>25.000000</td>\n",
       "      <td>176.000000</td>\n",
       "      <td>NaN</td>\n",
       "      <td>40.755800</td>\n",
       "      <td>2.744280e+08</td>\n",
       "      <td>-74.331500</td>\n",
       "      <td>7.000000</td>\n",
       "      <td>1.000000</td>\n",
       "      <td>1.799500e+04</td>\n",
       "      <td>0.000000</td>\n",
       "      <td>3.727273</td>\n",
       "      <td>65696.000000</td>\n",
       "      <td>NaN</td>\n",
       "      <td>2017.000000</td>\n",
       "    </tr>\n",
       "    <tr>\n",
       "      <th>50%</th>\n",
       "      <td>21.000000</td>\n",
       "      <td>NaN</td>\n",
       "      <td>36.000000</td>\n",
       "      <td>7960.000000</td>\n",
       "      <td>2500.000000</td>\n",
       "      <td>28.000000</td>\n",
       "      <td>241.000000</td>\n",
       "      <td>NaN</td>\n",
       "      <td>41.126400</td>\n",
       "      <td>2.783952e+08</td>\n",
       "      <td>-73.830500</td>\n",
       "      <td>15236.000000</td>\n",
       "      <td>1.000000</td>\n",
       "      <td>2.699500e+04</td>\n",
       "      <td>22.000000</td>\n",
       "      <td>4.222222</td>\n",
       "      <td>282435.000000</td>\n",
       "      <td>NaN</td>\n",
       "      <td>2019.000000</td>\n",
       "    </tr>\n",
       "    <tr>\n",
       "      <th>75%</th>\n",
       "      <td>25.000000</td>\n",
       "      <td>NaN</td>\n",
       "      <td>82.000000</td>\n",
       "      <td>11743.000000</td>\n",
       "      <td>3500.000000</td>\n",
       "      <td>32.000000</td>\n",
       "      <td>295.000000</td>\n",
       "      <td>NaN</td>\n",
       "      <td>42.300500</td>\n",
       "      <td>2.803310e+08</td>\n",
       "      <td>-73.021800</td>\n",
       "      <td>43304.000000</td>\n",
       "      <td>2.000000</td>\n",
       "      <td>3.872100e+04</td>\n",
       "      <td>1030.000000</td>\n",
       "      <td>4.550000</td>\n",
       "      <td>342815.000000</td>\n",
       "      <td>NaN</td>\n",
       "      <td>2020.000000</td>\n",
       "    </tr>\n",
       "    <tr>\n",
       "      <th>max</th>\n",
       "      <td>127.000000</td>\n",
       "      <td>NaN</td>\n",
       "      <td>2150.000000</td>\n",
       "      <td>98108.000000</td>\n",
       "      <td>8400.000000</td>\n",
       "      <td>127.000000</td>\n",
       "      <td>808.000000</td>\n",
       "      <td>NaN</td>\n",
       "      <td>47.549200</td>\n",
       "      <td>2.816772e+08</td>\n",
       "      <td>-66.078500</td>\n",
       "      <td>785778.000000</td>\n",
       "      <td>15.000000</td>\n",
       "      <td>1.390000e+06</td>\n",
       "      <td>95484.000000</td>\n",
       "      <td>5.000000</td>\n",
       "      <td>440485.000000</td>\n",
       "      <td>NaN</td>\n",
       "      <td>2021.000000</td>\n",
       "    </tr>\n",
       "  </tbody>\n",
       "</table>\n",
       "</div>"
      ],
      "text/plain": [
       "       city_fuel_economy  combine_fuel_economy   daysonmarket     dealer_zip  \\\n",
       "count       83984.000000                   0.0  100000.000000  100000.000000   \n",
       "mean           22.236700                   NaN      77.682170   14346.712650   \n",
       "std             7.807983                   NaN     109.629986   15502.216726   \n",
       "min             8.000000                   NaN       0.000000     922.000000   \n",
       "25%            18.000000                   NaN      14.000000    6704.000000   \n",
       "50%            21.000000                   NaN      36.000000    7960.000000   \n",
       "75%            25.000000                   NaN      82.000000   11743.000000   \n",
       "max           127.000000                   NaN    2150.000000   98108.000000   \n",
       "\n",
       "       engine_displacement  highway_fuel_economy    horsepower  is_certified  \\\n",
       "count         94661.000000          83984.000000  94661.000000           0.0   \n",
       "mean           2802.220555             29.091696    245.387414           NaN   \n",
       "std            1159.202851              7.058758     86.521390           NaN   \n",
       "min             700.000000             11.000000     70.000000           NaN   \n",
       "25%            2000.000000             25.000000    176.000000           NaN   \n",
       "50%            2500.000000             28.000000    241.000000           NaN   \n",
       "75%            3500.000000             32.000000    295.000000           NaN   \n",
       "max            8400.000000            127.000000    808.000000           NaN   \n",
       "\n",
       "            latitude    listing_id      longitude        mileage  \\\n",
       "count  100000.000000  1.000000e+05  100000.000000   96443.000000   \n",
       "mean       41.418281  2.752572e+08     -74.962234   31130.643437   \n",
       "std         1.106694  8.943492e+06       3.935869   42835.631267   \n",
       "min        18.346700  9.873062e+07    -122.320000       0.000000   \n",
       "25%        40.755800  2.744280e+08     -74.331500       7.000000   \n",
       "50%        41.126400  2.783952e+08     -73.830500   15236.000000   \n",
       "75%        42.300500  2.803310e+08     -73.021800   43304.000000   \n",
       "max        47.549200  2.816772e+08     -66.078500  785778.000000   \n",
       "\n",
       "        owner_count         price  savings_amount  seller_rating  \\\n",
       "count  54278.000000  1.000000e+05   100000.000000   99358.000000   \n",
       "mean       1.454346  3.049952e+04      711.255090       4.115767   \n",
       "std        0.815929  2.091578e+04     1320.821225       0.575305   \n",
       "min        1.000000  7.950000e+02        0.000000       1.000000   \n",
       "25%        1.000000  1.799500e+04        0.000000       3.727273   \n",
       "50%        1.000000  2.699500e+04       22.000000       4.222222   \n",
       "75%        2.000000  3.872100e+04     1030.000000       4.550000   \n",
       "max       15.000000  1.390000e+06    95484.000000       5.000000   \n",
       "\n",
       "               sp_id  vehicle_damage_category           year  \n",
       "count  100000.000000                      0.0  100000.000000  \n",
       "mean   242369.599200                      NaN    2017.549320  \n",
       "std    130572.657133                      NaN       3.804504  \n",
       "min     41593.000000                      NaN    1930.000000  \n",
       "25%     65696.000000                      NaN    2017.000000  \n",
       "50%    282435.000000                      NaN    2019.000000  \n",
       "75%    342815.000000                      NaN    2020.000000  \n",
       "max    440485.000000                      NaN    2021.000000  "
      ]
     },
     "execution_count": 166,
     "metadata": {},
     "output_type": "execute_result"
    }
   ],
   "source": [
    "df.describe()"
   ]
  },
  {
   "cell_type": "markdown",
   "id": "114998fd",
   "metadata": {},
   "source": [
    "#### Koko 3 miljoonan rivin data menee tällä läpi"
   ]
  },
  {
   "cell_type": "code",
   "execution_count": 4,
   "id": "3834ccdc",
   "metadata": {},
   "outputs": [],
   "source": [
    "import pandas as pd\n",
    "import numpy as np\n",
    "import matplotlib.pyplot as plt\n",
    "import seaborn as sns \n",
    "\n",
    "\n",
    "chunksize = 20000\n",
    "chunks = pd.read_csv(\"C:/Users/Elias/Documents/Koulu/Aida_projekti/archive/used_cars_data.csv\", chunksize=chunksize, low_memory=False, index_col='vin')\n",
    "\n",
    "df_list = []\n",
    "\n",
    "for chunk in chunks:\n",
    "    df_list.append(chunk)\n",
    "\n",
    "df = pd.concat(df_list, axis=0)"
   ]
  },
  {
   "cell_type": "markdown",
   "id": "b1f1e6a6",
   "metadata": {},
   "source": [
    "### Cleaning the data\n",
    "\n",
    "df.infon perusteella voidaan jo pudottaa tiettyjä sarakkeita, esimerkiksi niitä, joissa on suuri määrä null-arvoja."
   ]
  },
  {
   "cell_type": "code",
   "execution_count": 5,
   "id": "5ad49380",
   "metadata": {},
   "outputs": [
    {
     "name": "stdout",
     "output_type": "stream",
     "text": [
      "40\n"
     ]
    }
   ],
   "source": [
    "df = df.drop(['bed', 'bed_height', 'bed_length', 'cabin', 'combine_fuel_economy',\n",
    "              'is_certified', 'is_cpo', 'is_oemcpo', 'vehicle_damage_category', 'owner_count'], axis=1)\n",
    "\n",
    "# Tarkastetaan montako duplikaattia\n",
    "print(df.duplicated().sum())"
   ]
  },
  {
   "cell_type": "code",
   "execution_count": 6,
   "id": "a1d3372d",
   "metadata": {},
   "outputs": [],
   "source": [
    "# Luodaan dataframesta kopio\n",
    "car_df = df.copy()"
   ]
  },
  {
   "cell_type": "markdown",
   "id": "54c6d88e",
   "metadata": {},
   "source": [
    "### Back legroom"
   ]
  },
  {
   "cell_type": "code",
   "execution_count": 7,
   "id": "51d317a1",
   "metadata": {},
   "outputs": [
    {
     "name": "stdout",
     "output_type": "stream",
     "text": [
      "<class 'pandas.core.series.Series'>\n",
      "Index: 3000040 entries, ZACNJABB5KPJ92081 to JN8AT2MT1HW400805\n",
      "Series name: back_legroom\n",
      "Non-Null Count    Dtype \n",
      "--------------    ----- \n",
      "2840771 non-null  object\n",
      "dtypes: object(1)\n",
      "memory usage: 45.8+ MB\n",
      "None\n",
      "38.3 in    113891\n",
      "43.6 in    102491\n",
      "37.4 in     87363\n",
      "--          83458\n",
      "35.7 in     77162\n",
      "            ...  \n",
      "47.1 in         1\n",
      "27.9 in         1\n",
      "23.5 in         1\n",
      "25.7 in         1\n",
      "52.8 in         1\n",
      "Name: back_legroom, Length: 219, dtype: int64\n",
      "['35.1 in' '38.1 in' '35.4 in' '37.6 in' '37.1 in' '33.8 in' '--' '35 in'\n",
      " '39.6 in' '35.7 in' '27.3 in' '38.4 in' '36.8 in' '38.6 in' '39.4 in' nan\n",
      " '34.1 in' '39.5 in' '36.2 in' '39.9 in' '37 in' '37.2 in' '38.3 in'\n",
      " '27.1 in' '40.1 in' '34.6 in' '35.3 in' '37.4 in' '38 in' '39.7 in'\n",
      " '35.6 in' '42.6 in' '33.7 in' '39 in' '38.2 in' '33 in' '37.9 in'\n",
      " '29.9 in' '37.8 in' '36.1 in' '34.2 in' '37.3 in' '40.3 in' '35.8 in'\n",
      " '39.3 in' '38.7 in' '39.1 in' '43.6 in' '41.7 in' '36.3 in' '45.2 in'\n",
      " '30.6 in' '43.4 in' '36.6 in' '33.1 in' '35.5 in' '39.8 in' '35.2 in'\n",
      " '40.9 in' '38.5 in' '36.5 in' '35.9 in' '44.3 in' '34.3 in' '33.4 in'\n",
      " '32.2 in' '33.3 in' '34.8 in' '30.8 in' '31.4 in' '37.7 in' '31.7 in'\n",
      " '36.4 in' '32.6 in' '40.4 in' '34.7 in' '40 in' '41.9 in' '30.5 in'\n",
      " '30.3 in' '33.5 in' '33.9 in' '29.2 in' '38.8 in' '28.2 in' '0 in'\n",
      " '43 in' '42.3 in' '38.9 in' '40.6 in' '31.2 in' '41.1 in' '27.2 in'\n",
      " '33.2 in' '40.2 in' '36.9 in' '34 in' '43.3 in' '41.4 in' '34.4 in'\n",
      " '29.8 in' '29 in' '34.5 in' '28.5 in' '28.6 in' '41.6 in' '31.3 in'\n",
      " '37.5 in' '31.9 in' '42.4 in' '32 in' '32.4 in' '40.8 in' '44.4 in'\n",
      " '30.1 in' '36 in' '41 in' '32.8 in' '39.2 in' '42.9 in' '42 in' '31.1 in'\n",
      " '31.6 in' '41.8 in' '32.9 in' '41.3 in' '41.5 in' '31.5 in' '32.7 in'\n",
      " '28.9 in' '32.3 in' '36.7 in' '33.6 in' '20.2 in' '43.5 in' '40.7 in'\n",
      " '42.1 in' '31.8 in' '34.9 in' '47.5 in' '32.1 in' '25.4 in' '24.6 in'\n",
      " '42.8 in' '29.3 in' '41.2 in' '30.4 in' '29.5 in' '44.1 in' '23.1 in'\n",
      " '43.1 in' '30.9 in' '30.2 in' '40.5 in' '13 in' '31 in' '24.8 in'\n",
      " '32.5 in' '26.8 in' '42.2 in' '43.7 in' '49 in' '47.4 in' '30 in' '27 in'\n",
      " '30.7 in' '26.4 in' '28.1 in' '46.8 in' '23.7 in' '43.2 in' '28.7 in'\n",
      " '44.5 in' '27.5 in' '28 in' '28.8 in' '24 in' '43.9 in' '14 in' '27.4 in'\n",
      " '25.8 in' '29.4 in' '45.9 in' '27.6 in' '28.4 in' '27.8 in' '3.5 in'\n",
      " '23 in' '29.6 in' '24.9 in' '45.4 in' '44.2 in' '25.9 in' '22.7 in'\n",
      " '28.3 in' '45.3 in' '22.1 in' '46.9 in' '59.8 in' '17.1 in' '26.6 in'\n",
      " '23.4 in' '25 in' '23.8 in' '27.7 in' '42.5 in' '18.9 in' '26.7 in'\n",
      " '26.5 in' '27.9 in' '47.1 in' '47 in' '25.2 in' '45.1 in' '23.5 in'\n",
      " '26 in' '25.7 in' '24.7 in' '53.1 in' '52.8 in']\n"
     ]
    }
   ],
   "source": [
    "# Tarkistellaan back_legroom-saraketta. Value countsilla ja uniquella nähdään, montako tiettyä arvoa on, \n",
    "# monta uniikkia arvoa on, sekä, missä muodossa data on.\n",
    "print(car_df['back_legroom'].info())\n",
    "print(car_df['back_legroom'].value_counts())\n",
    "print(car_df['back_legroom'].unique())"
   ]
  },
  {
   "cell_type": "code",
   "execution_count": 8,
   "id": "f71e1e68",
   "metadata": {},
   "outputs": [],
   "source": [
    "# Otetaan vain lukuarvo talteen, korvataat arvot \"--\", muutetaan floateiksi ja täytetään tyhjät arvot\n",
    "# keskiarvolla.\n",
    "car_df['back_legroom'] = car_df['back_legroom'].str.split(' ').str[0]\n",
    "car_df['back_legroom'].replace('--', np.nan, inplace=True)\n",
    "car_df['back_legroom'] = pd.to_numeric(car_df['back_legroom'], downcast='float')\n",
    "car_df['back_legroom'].fillna(car_df['back_legroom'].mean(), inplace=True)"
   ]
  },
  {
   "cell_type": "markdown",
   "id": "211af9c5",
   "metadata": {},
   "source": [
    "### Body type"
   ]
  },
  {
   "cell_type": "code",
   "execution_count": 9,
   "id": "c9f4a14c",
   "metadata": {},
   "outputs": [
    {
     "name": "stdout",
     "output_type": "stream",
     "text": [
      "SUV / Crossover    1416402\n",
      "Sedan               742036\n",
      "Pickup Truck        474595\n",
      "Hatchback            88374\n",
      "Minivan              79802\n",
      "Coupe                71607\n",
      "Van                  47166\n",
      "Wagon                40505\n",
      "Convertible          26010\n",
      "Name: body_type, dtype: int64\n",
      "NaN: 13543\n"
     ]
    }
   ],
   "source": [
    "# Tutkitaan body_typeä, montako NaN-arvoa on.\n",
    "print(car_df['body_type'].value_counts())\n",
    "print(f\"NaN: {car_df['body_type'].isna().sum()}\")\n"
   ]
  },
  {
   "cell_type": "code",
   "execution_count": 10,
   "id": "1712b2cc",
   "metadata": {},
   "outputs": [
    {
     "data": {
      "text/html": [
       "<div>\n",
       "<style scoped>\n",
       "    .dataframe tbody tr th:only-of-type {\n",
       "        vertical-align: middle;\n",
       "    }\n",
       "\n",
       "    .dataframe tbody tr th {\n",
       "        vertical-align: top;\n",
       "    }\n",
       "\n",
       "    .dataframe thead th {\n",
       "        text-align: right;\n",
       "    }\n",
       "</style>\n",
       "<table border=\"1\" class=\"dataframe\">\n",
       "  <thead>\n",
       "    <tr style=\"text-align: right;\">\n",
       "      <th></th>\n",
       "      <th>body_type</th>\n",
       "      <th>make_name</th>\n",
       "      <th>model_name</th>\n",
       "    </tr>\n",
       "    <tr>\n",
       "      <th>vin</th>\n",
       "      <th></th>\n",
       "      <th></th>\n",
       "      <th></th>\n",
       "    </tr>\n",
       "  </thead>\n",
       "  <tbody>\n",
       "    <tr>\n",
       "      <th>5XXG14J28MG001288</th>\n",
       "      <td>NaN</td>\n",
       "      <td>Kia</td>\n",
       "      <td>K5</td>\n",
       "    </tr>\n",
       "    <tr>\n",
       "      <th>5XXG14J2XMG006458</th>\n",
       "      <td>NaN</td>\n",
       "      <td>Kia</td>\n",
       "      <td>K5</td>\n",
       "    </tr>\n",
       "    <tr>\n",
       "      <th>5XXG14J28MG006443</th>\n",
       "      <td>NaN</td>\n",
       "      <td>Kia</td>\n",
       "      <td>K5</td>\n",
       "    </tr>\n",
       "    <tr>\n",
       "      <th>5XXG14J22MG003974</th>\n",
       "      <td>NaN</td>\n",
       "      <td>Kia</td>\n",
       "      <td>K5</td>\n",
       "    </tr>\n",
       "    <tr>\n",
       "      <th>5XXG64J29MG017274</th>\n",
       "      <td>NaN</td>\n",
       "      <td>Kia</td>\n",
       "      <td>K5</td>\n",
       "    </tr>\n",
       "  </tbody>\n",
       "</table>\n",
       "</div>"
      ],
      "text/plain": [
       "                  body_type make_name model_name\n",
       "vin                                             \n",
       "5XXG14J28MG001288       NaN       Kia         K5\n",
       "5XXG14J2XMG006458       NaN       Kia         K5\n",
       "5XXG14J28MG006443       NaN       Kia         K5\n",
       "5XXG14J22MG003974       NaN       Kia         K5\n",
       "5XXG64J29MG017274       NaN       Kia         K5"
      ]
     },
     "execution_count": 10,
     "metadata": {},
     "output_type": "execute_result"
    }
   ],
   "source": [
    "# Katsotaan tarkemmin, missä automalleissa on NaN-arvo.\n",
    "car_df.loc[:,['body_type', 'make_name', 'model_name']][car_df['body_type'].isna()].head()"
   ]
  },
  {
   "cell_type": "code",
   "execution_count": 11,
   "id": "98500322",
   "metadata": {},
   "outputs": [
    {
     "data": {
      "text/plain": [
       "0"
      ]
     },
     "execution_count": 11,
     "metadata": {},
     "output_type": "execute_result"
    }
   ],
   "source": [
    "# Täyteään NaN-arvot 'SUV/Crossover', sillä se esiintyy useiten sarakkeessa. Tarkastetaan vielä, että \n",
    "# varmasti kaikki tyhjät arvot on täytetty.\n",
    "car_df['body_type'].replace(np.nan, 'SUV / Crossover', inplace=True)\n",
    "body_na = car_df['body_type'].isna().sum()\n",
    "\n",
    "body_na"
   ]
  },
  {
   "cell_type": "markdown",
   "id": "83903dbd",
   "metadata": {},
   "source": [
    "### City fuel economy"
   ]
  },
  {
   "cell_type": "code",
   "execution_count": 12,
   "id": "a8cc9a38",
   "metadata": {},
   "outputs": [
    {
     "name": "stdout",
     "output_type": "stream",
     "text": [
      "NaN: 491285\n",
      "7.0           2\n",
      "112.0         3\n",
      "93.0          3\n",
      "98.0          5\n",
      "83.0          6\n",
      "          ...  \n",
      "20.0     169255\n",
      "21.0     170910\n",
      "22.0     174756\n",
      "18.0     191823\n",
      "19.0     198958\n",
      "Name: city_fuel_economy, Length: 100, dtype: int64\n"
     ]
    }
   ],
   "source": [
    "print(f\"NaN: {car_df['city_fuel_economy'].isna().sum()}\")\n",
    "print(car_df['city_fuel_economy'].value_counts().sort_values())"
   ]
  },
  {
   "cell_type": "code",
   "execution_count": 13,
   "id": "3346afc2",
   "metadata": {},
   "outputs": [
    {
     "data": {
      "text/html": [
       "<div>\n",
       "<style scoped>\n",
       "    .dataframe tbody tr th:only-of-type {\n",
       "        vertical-align: middle;\n",
       "    }\n",
       "\n",
       "    .dataframe tbody tr th {\n",
       "        vertical-align: top;\n",
       "    }\n",
       "\n",
       "    .dataframe thead th {\n",
       "        text-align: right;\n",
       "    }\n",
       "</style>\n",
       "<table border=\"1\" class=\"dataframe\">\n",
       "  <thead>\n",
       "    <tr style=\"text-align: right;\">\n",
       "      <th></th>\n",
       "      <th>make_name</th>\n",
       "      <th>model_name</th>\n",
       "      <th>city_fuel_economy</th>\n",
       "      <th>engine_type</th>\n",
       "      <th>fuel_type</th>\n",
       "    </tr>\n",
       "    <tr>\n",
       "      <th>vin</th>\n",
       "      <th></th>\n",
       "      <th></th>\n",
       "      <th></th>\n",
       "      <th></th>\n",
       "      <th></th>\n",
       "    </tr>\n",
       "  </thead>\n",
       "  <tbody>\n",
       "    <tr>\n",
       "      <th>WBAJB1C52KB375534</th>\n",
       "      <td>BMW</td>\n",
       "      <td>5 Series</td>\n",
       "      <td>66.0</td>\n",
       "      <td>I4</td>\n",
       "      <td>Gasoline</td>\n",
       "    </tr>\n",
       "    <tr>\n",
       "      <th>KMHC75LH4HU008626</th>\n",
       "      <td>Hyundai</td>\n",
       "      <td>Ioniq Electric</td>\n",
       "      <td>127.0</td>\n",
       "      <td>NaN</td>\n",
       "      <td>Electric</td>\n",
       "    </tr>\n",
       "    <tr>\n",
       "      <th>WBAJA9C56JB252397</th>\n",
       "      <td>BMW</td>\n",
       "      <td>5 Series</td>\n",
       "      <td>70.0</td>\n",
       "      <td>I4</td>\n",
       "      <td>Gasoline</td>\n",
       "    </tr>\n",
       "    <tr>\n",
       "      <th>KM8K53AG7LU067341</th>\n",
       "      <td>Hyundai</td>\n",
       "      <td>Kona Electric</td>\n",
       "      <td>127.0</td>\n",
       "      <td>NaN</td>\n",
       "      <td>Electric</td>\n",
       "    </tr>\n",
       "    <tr>\n",
       "      <th>KM8K53AGXLU065888</th>\n",
       "      <td>Hyundai</td>\n",
       "      <td>Kona Electric</td>\n",
       "      <td>127.0</td>\n",
       "      <td>NaN</td>\n",
       "      <td>Electric</td>\n",
       "    </tr>\n",
       "  </tbody>\n",
       "</table>\n",
       "</div>"
      ],
      "text/plain": [
       "                  make_name      model_name  city_fuel_economy engine_type  \\\n",
       "vin                                                                          \n",
       "WBAJB1C52KB375534       BMW        5 Series               66.0          I4   \n",
       "KMHC75LH4HU008626   Hyundai  Ioniq Electric              127.0         NaN   \n",
       "WBAJA9C56JB252397       BMW        5 Series               70.0          I4   \n",
       "KM8K53AG7LU067341   Hyundai   Kona Electric              127.0         NaN   \n",
       "KM8K53AGXLU065888   Hyundai   Kona Electric              127.0         NaN   \n",
       "\n",
       "                  fuel_type  \n",
       "vin                          \n",
       "WBAJB1C52KB375534  Gasoline  \n",
       "KMHC75LH4HU008626  Electric  \n",
       "WBAJA9C56JB252397  Gasoline  \n",
       "KM8K53AG7LU067341  Electric  \n",
       "KM8K53AGXLU065888  Electric  "
      ]
     },
     "execution_count": 13,
     "metadata": {},
     "output_type": "execute_result"
    }
   ],
   "source": [
    "# Tarkastellaan poikkeamia\n",
    "car_df.loc[:,['make_name','model_name','city_fuel_economy','engine_type','fuel_type']][car_df['city_fuel_economy'] > 60].head(5)"
   ]
  },
  {
   "cell_type": "code",
   "execution_count": 14,
   "id": "17c0370f",
   "metadata": {},
   "outputs": [
    {
     "data": {
      "text/plain": [
       "0"
      ]
     },
     "execution_count": 14,
     "metadata": {},
     "output_type": "execute_result"
    }
   ],
   "source": [
    "# Täytetään NaN-arvot keskiarvolla ja tarkastetaan, että tyhjiä ei ole jäljellä.\n",
    "car_df['city_fuel_economy'].replace(np.nan, car_df['city_fuel_economy'].mean(), inplace=True)\n",
    "car_df['city_fuel_economy'].isna().sum()"
   ]
  },
  {
   "cell_type": "markdown",
   "id": "2aa77453",
   "metadata": {},
   "source": [
    "### Highway fuel economy"
   ]
  },
  {
   "cell_type": "code",
   "execution_count": 15,
   "id": "ebe1043d",
   "metadata": {},
   "outputs": [
    {
     "name": "stdout",
     "output_type": "stream",
     "text": [
      "NaN: 491285\n",
      "120.0         1\n",
      "56.0          1\n",
      "83.0          2\n",
      "91.0          3\n",
      "77.0          5\n",
      "          ...  \n",
      "22.0     148459\n",
      "30.0     157121\n",
      "28.0     160344\n",
      "27.0     163239\n",
      "25.0     163572\n",
      "Name: highway_fuel_economy, Length: 99, dtype: int64\n"
     ]
    }
   ],
   "source": [
    "print(f\"NaN: {car_df['highway_fuel_economy'].isna().sum()}\")\n",
    "print(car_df['highway_fuel_economy'].value_counts().sort_values())"
   ]
  },
  {
   "cell_type": "code",
   "execution_count": 16,
   "id": "1267c994",
   "metadata": {},
   "outputs": [
    {
     "data": {
      "text/plain": [
       "0"
      ]
     },
     "execution_count": 16,
     "metadata": {},
     "output_type": "execute_result"
    }
   ],
   "source": [
    "# Täytetään NaN-arvot keskiarvolla ja tarkastetaan, että tyhjiä ei ole jäljellä.\n",
    "car_df['highway_fuel_economy'].fillna(car_df['highway_fuel_economy'].mean(), inplace=True)\n",
    "car_df['highway_fuel_economy'].isna().sum()"
   ]
  },
  {
   "cell_type": "code",
   "execution_count": 17,
   "id": "be63679d",
   "metadata": {},
   "outputs": [
    {
     "data": {
      "text/html": [
       "<div>\n",
       "<style scoped>\n",
       "    .dataframe tbody tr th:only-of-type {\n",
       "        vertical-align: middle;\n",
       "    }\n",
       "\n",
       "    .dataframe tbody tr th {\n",
       "        vertical-align: top;\n",
       "    }\n",
       "\n",
       "    .dataframe thead th {\n",
       "        text-align: right;\n",
       "    }\n",
       "</style>\n",
       "<table border=\"1\" class=\"dataframe\">\n",
       "  <thead>\n",
       "    <tr style=\"text-align: right;\">\n",
       "      <th></th>\n",
       "      <th>back_legroom</th>\n",
       "      <th>body_type</th>\n",
       "      <th>city</th>\n",
       "      <th>daysonmarket</th>\n",
       "      <th>dealer_zip</th>\n",
       "      <th>description</th>\n",
       "      <th>engine_cylinders</th>\n",
       "      <th>engine_displacement</th>\n",
       "      <th>engine_type</th>\n",
       "      <th>exterior_color</th>\n",
       "      <th>...</th>\n",
       "      <th>transmission</th>\n",
       "      <th>transmission_display</th>\n",
       "      <th>trimId</th>\n",
       "      <th>trim_name</th>\n",
       "      <th>wheel_system</th>\n",
       "      <th>wheel_system_display</th>\n",
       "      <th>wheelbase</th>\n",
       "      <th>width</th>\n",
       "      <th>year</th>\n",
       "      <th>combined_fuel_economy</th>\n",
       "    </tr>\n",
       "    <tr>\n",
       "      <th>vin</th>\n",
       "      <th></th>\n",
       "      <th></th>\n",
       "      <th></th>\n",
       "      <th></th>\n",
       "      <th></th>\n",
       "      <th></th>\n",
       "      <th></th>\n",
       "      <th></th>\n",
       "      <th></th>\n",
       "      <th></th>\n",
       "      <th></th>\n",
       "      <th></th>\n",
       "      <th></th>\n",
       "      <th></th>\n",
       "      <th></th>\n",
       "      <th></th>\n",
       "      <th></th>\n",
       "      <th></th>\n",
       "      <th></th>\n",
       "      <th></th>\n",
       "      <th></th>\n",
       "    </tr>\n",
       "  </thead>\n",
       "  <tbody>\n",
       "    <tr>\n",
       "      <th>ZACNJABB5KPJ92081</th>\n",
       "      <td>35.099998</td>\n",
       "      <td>SUV / Crossover</td>\n",
       "      <td>Bayamon</td>\n",
       "      <td>522</td>\n",
       "      <td>960</td>\n",
       "      <td>[!@@Additional Info@@!]Engine: 2.4L I4 ZERO EV...</td>\n",
       "      <td>I4</td>\n",
       "      <td>1300.0</td>\n",
       "      <td>I4</td>\n",
       "      <td>Solar Yellow</td>\n",
       "      <td>...</td>\n",
       "      <td>A</td>\n",
       "      <td>9-Speed Automatic Overdrive</td>\n",
       "      <td>t83804</td>\n",
       "      <td>Latitude FWD</td>\n",
       "      <td>FWD</td>\n",
       "      <td>Front-Wheel Drive</td>\n",
       "      <td>101.2 in</td>\n",
       "      <td>79.6 in</td>\n",
       "      <td>2019</td>\n",
       "      <td>26.08331</td>\n",
       "    </tr>\n",
       "    <tr>\n",
       "      <th>SALCJ2FX1LH858117</th>\n",
       "      <td>38.099998</td>\n",
       "      <td>SUV / Crossover</td>\n",
       "      <td>San Juan</td>\n",
       "      <td>207</td>\n",
       "      <td>922</td>\n",
       "      <td>[!@@Additional Info@@!]Keyless Entry,Ebony Mor...</td>\n",
       "      <td>I4</td>\n",
       "      <td>2000.0</td>\n",
       "      <td>I4</td>\n",
       "      <td>Narvik Black</td>\n",
       "      <td>...</td>\n",
       "      <td>A</td>\n",
       "      <td>9-Speed Automatic Overdrive</td>\n",
       "      <td>t86759</td>\n",
       "      <td>S AWD</td>\n",
       "      <td>AWD</td>\n",
       "      <td>All-Wheel Drive</td>\n",
       "      <td>107.9 in</td>\n",
       "      <td>85.6 in</td>\n",
       "      <td>2020</td>\n",
       "      <td>26.08331</td>\n",
       "    </tr>\n",
       "    <tr>\n",
       "      <th>JF1VA2M67G9829723</th>\n",
       "      <td>35.400002</td>\n",
       "      <td>Sedan</td>\n",
       "      <td>Guaynabo</td>\n",
       "      <td>1233</td>\n",
       "      <td>969</td>\n",
       "      <td>NaN</td>\n",
       "      <td>H4</td>\n",
       "      <td>2500.0</td>\n",
       "      <td>H4</td>\n",
       "      <td>None</td>\n",
       "      <td>...</td>\n",
       "      <td>M</td>\n",
       "      <td>6-Speed Manual</td>\n",
       "      <td>t58994</td>\n",
       "      <td>Base</td>\n",
       "      <td>AWD</td>\n",
       "      <td>All-Wheel Drive</td>\n",
       "      <td>104.3 in</td>\n",
       "      <td>78.9 in</td>\n",
       "      <td>2016</td>\n",
       "      <td>20.00000</td>\n",
       "    </tr>\n",
       "    <tr>\n",
       "      <th>SALRR2RV0L2433391</th>\n",
       "      <td>37.599998</td>\n",
       "      <td>SUV / Crossover</td>\n",
       "      <td>San Juan</td>\n",
       "      <td>196</td>\n",
       "      <td>922</td>\n",
       "      <td>[!@@Additional Info@@!]Fog Lights,7 Seat Packa...</td>\n",
       "      <td>V6</td>\n",
       "      <td>3000.0</td>\n",
       "      <td>V6</td>\n",
       "      <td>Eiger Gray</td>\n",
       "      <td>...</td>\n",
       "      <td>A</td>\n",
       "      <td>8-Speed Automatic Overdrive</td>\n",
       "      <td>t86074</td>\n",
       "      <td>V6 HSE AWD</td>\n",
       "      <td>AWD</td>\n",
       "      <td>All-Wheel Drive</td>\n",
       "      <td>115 in</td>\n",
       "      <td>87.4 in</td>\n",
       "      <td>2020</td>\n",
       "      <td>26.08331</td>\n",
       "    </tr>\n",
       "    <tr>\n",
       "      <th>SALCJ2FXXLH862327</th>\n",
       "      <td>38.099998</td>\n",
       "      <td>SUV / Crossover</td>\n",
       "      <td>San Juan</td>\n",
       "      <td>137</td>\n",
       "      <td>922</td>\n",
       "      <td>[!@@Additional Info@@!]Keyless Entry,Ebony Mor...</td>\n",
       "      <td>I4</td>\n",
       "      <td>2000.0</td>\n",
       "      <td>I4</td>\n",
       "      <td>Narvik Black</td>\n",
       "      <td>...</td>\n",
       "      <td>A</td>\n",
       "      <td>9-Speed Automatic Overdrive</td>\n",
       "      <td>t86759</td>\n",
       "      <td>S AWD</td>\n",
       "      <td>AWD</td>\n",
       "      <td>All-Wheel Drive</td>\n",
       "      <td>107.9 in</td>\n",
       "      <td>85.6 in</td>\n",
       "      <td>2020</td>\n",
       "      <td>26.08331</td>\n",
       "    </tr>\n",
       "  </tbody>\n",
       "</table>\n",
       "<p>5 rows × 54 columns</p>\n",
       "</div>"
      ],
      "text/plain": [
       "                   back_legroom        body_type      city  daysonmarket  \\\n",
       "vin                                                                        \n",
       "ZACNJABB5KPJ92081     35.099998  SUV / Crossover   Bayamon           522   \n",
       "SALCJ2FX1LH858117     38.099998  SUV / Crossover  San Juan           207   \n",
       "JF1VA2M67G9829723     35.400002            Sedan  Guaynabo          1233   \n",
       "SALRR2RV0L2433391     37.599998  SUV / Crossover  San Juan           196   \n",
       "SALCJ2FXXLH862327     38.099998  SUV / Crossover  San Juan           137   \n",
       "\n",
       "                  dealer_zip  \\\n",
       "vin                            \n",
       "ZACNJABB5KPJ92081        960   \n",
       "SALCJ2FX1LH858117        922   \n",
       "JF1VA2M67G9829723        969   \n",
       "SALRR2RV0L2433391        922   \n",
       "SALCJ2FXXLH862327        922   \n",
       "\n",
       "                                                         description  \\\n",
       "vin                                                                    \n",
       "ZACNJABB5KPJ92081  [!@@Additional Info@@!]Engine: 2.4L I4 ZERO EV...   \n",
       "SALCJ2FX1LH858117  [!@@Additional Info@@!]Keyless Entry,Ebony Mor...   \n",
       "JF1VA2M67G9829723                                                NaN   \n",
       "SALRR2RV0L2433391  [!@@Additional Info@@!]Fog Lights,7 Seat Packa...   \n",
       "SALCJ2FXXLH862327  [!@@Additional Info@@!]Keyless Entry,Ebony Mor...   \n",
       "\n",
       "                  engine_cylinders  engine_displacement engine_type  \\\n",
       "vin                                                                   \n",
       "ZACNJABB5KPJ92081               I4               1300.0          I4   \n",
       "SALCJ2FX1LH858117               I4               2000.0          I4   \n",
       "JF1VA2M67G9829723               H4               2500.0          H4   \n",
       "SALRR2RV0L2433391               V6               3000.0          V6   \n",
       "SALCJ2FXXLH862327               I4               2000.0          I4   \n",
       "\n",
       "                  exterior_color  ... transmission  \\\n",
       "vin                               ...                \n",
       "ZACNJABB5KPJ92081   Solar Yellow  ...            A   \n",
       "SALCJ2FX1LH858117   Narvik Black  ...            A   \n",
       "JF1VA2M67G9829723           None  ...            M   \n",
       "SALRR2RV0L2433391     Eiger Gray  ...            A   \n",
       "SALCJ2FXXLH862327   Narvik Black  ...            A   \n",
       "\n",
       "                          transmission_display  trimId     trim_name  \\\n",
       "vin                                                                    \n",
       "ZACNJABB5KPJ92081  9-Speed Automatic Overdrive  t83804  Latitude FWD   \n",
       "SALCJ2FX1LH858117  9-Speed Automatic Overdrive  t86759         S AWD   \n",
       "JF1VA2M67G9829723               6-Speed Manual  t58994          Base   \n",
       "SALRR2RV0L2433391  8-Speed Automatic Overdrive  t86074    V6 HSE AWD   \n",
       "SALCJ2FXXLH862327  9-Speed Automatic Overdrive  t86759         S AWD   \n",
       "\n",
       "                  wheel_system wheel_system_display wheelbase    width  year  \\\n",
       "vin                                                                            \n",
       "ZACNJABB5KPJ92081          FWD    Front-Wheel Drive  101.2 in  79.6 in  2019   \n",
       "SALCJ2FX1LH858117          AWD      All-Wheel Drive  107.9 in  85.6 in  2020   \n",
       "JF1VA2M67G9829723          AWD      All-Wheel Drive  104.3 in  78.9 in  2016   \n",
       "SALRR2RV0L2433391          AWD      All-Wheel Drive    115 in  87.4 in  2020   \n",
       "SALCJ2FXXLH862327          AWD      All-Wheel Drive  107.9 in  85.6 in  2020   \n",
       "\n",
       "                   combined_fuel_economy  \n",
       "vin                                       \n",
       "ZACNJABB5KPJ92081               26.08331  \n",
       "SALCJ2FX1LH858117               26.08331  \n",
       "JF1VA2M67G9829723               20.00000  \n",
       "SALRR2RV0L2433391               26.08331  \n",
       "SALCJ2FXXLH862327               26.08331  \n",
       "\n",
       "[5 rows x 54 columns]"
      ]
     },
     "execution_count": 17,
     "metadata": {},
     "output_type": "execute_result"
    }
   ],
   "source": [
    "# Luodaan uusi sarake, jossa yhdistetään polttoaineen kulutukset.\n",
    "car_df['combined_fuel_economy'] = (car_df['city_fuel_economy'] + car_df['highway_fuel_economy']) / 2\n",
    "car_df.drop(['city_fuel_economy', 'highway_fuel_economy'], axis=1, inplace=True)\n",
    "\n",
    "car_df.head()"
   ]
  },
  {
   "cell_type": "markdown",
   "id": "fb7c6627",
   "metadata": {},
   "source": [
    "### Description"
   ]
  },
  {
   "cell_type": "code",
   "execution_count": 18,
   "id": "76daffd4",
   "metadata": {},
   "outputs": [
    {
     "data": {
      "text/plain": [
       "vin\n",
       "ZACNJABB5KPJ92081    [!@@Additional Info@@!]Engine: 2.4L I4 ZERO EV...\n",
       "SALCJ2FX1LH858117    [!@@Additional Info@@!]Keyless Entry,Ebony Mor...\n",
       "JF1VA2M67G9829723                                                  NaN\n",
       "SALRR2RV0L2433391    [!@@Additional Info@@!]Fog Lights,7 Seat Packa...\n",
       "SALCJ2FXXLH862327    [!@@Additional Info@@!]Keyless Entry,Ebony Mor...\n",
       "                                           ...                        \n",
       "2GNAXJEV0J6261526    CarMax Curbside is now available at select sto...\n",
       "1GNERFKW0LJ225508    Prices do not include government fees and taxe...\n",
       "3FA6P0HD3GR134062    Introducing the 2016 Ford Fusion! Offering an ...\n",
       "SAJAJ4BNXHA968809    CarMax Curbside is now available at select sto...\n",
       "JN8AT2MT1HW400805    Here it is!! In these economic times, a super ...\n",
       "Name: description, Length: 3000040, dtype: object"
      ]
     },
     "execution_count": 18,
     "metadata": {},
     "output_type": "execute_result"
    }
   ],
   "source": [
    "car_df['description']"
   ]
  },
  {
   "cell_type": "code",
   "execution_count": 19,
   "id": "dd812b43",
   "metadata": {},
   "outputs": [],
   "source": [
    "# Pudotetaan sarake, sisältää paljon ei niin tärkeää tietoa, tai tietoa, joka on löydettävissä\n",
    "# muista sarakkeista.\n",
    "car_df.drop('description', axis=1, inplace=True)"
   ]
  },
  {
   "cell_type": "markdown",
   "id": "7aba41d6",
   "metadata": {},
   "source": [
    "### Engine cylinders"
   ]
  },
  {
   "cell_type": "code",
   "execution_count": 20,
   "id": "2e7cd0f3",
   "metadata": {},
   "outputs": [
    {
     "data": {
      "text/plain": [
       "vin\n",
       "ZACNJABB5KPJ92081    I4\n",
       "SALCJ2FX1LH858117    I4\n",
       "JF1VA2M67G9829723    H4\n",
       "SALRR2RV0L2433391    V6\n",
       "SALCJ2FXXLH862327    I4\n",
       "Name: engine_cylinders, dtype: object"
      ]
     },
     "execution_count": 20,
     "metadata": {},
     "output_type": "execute_result"
    }
   ],
   "source": [
    "car_df['engine_cylinders'].head()"
   ]
  },
  {
   "cell_type": "code",
   "execution_count": 21,
   "id": "b50d5ccf",
   "metadata": {},
   "outputs": [
    {
     "data": {
      "text/plain": [
       "vin\n",
       "ZACNJABB5KPJ92081    I4\n",
       "SALCJ2FX1LH858117    I4\n",
       "JF1VA2M67G9829723    H4\n",
       "SALRR2RV0L2433391    V6\n",
       "SALCJ2FXXLH862327    I4\n",
       "Name: engine_type, dtype: object"
      ]
     },
     "execution_count": 21,
     "metadata": {},
     "output_type": "execute_result"
    }
   ],
   "source": [
    "car_df['engine_type'].head()"
   ]
  },
  {
   "cell_type": "code",
   "execution_count": 22,
   "id": "c1bb82d5",
   "metadata": {},
   "outputs": [],
   "source": [
    "# Pudotetaan sarake, sillä tiedot on löydettävissä toisesta sarakkeesta.\n",
    "car_df.drop('engine_cylinders', axis=1, inplace=True)"
   ]
  },
  {
   "cell_type": "markdown",
   "id": "a5538e96",
   "metadata": {},
   "source": [
    "### Enginge displacement"
   ]
  },
  {
   "cell_type": "code",
   "execution_count": 23,
   "id": "3b853f97",
   "metadata": {},
   "outputs": [
    {
     "data": {
      "text/plain": [
       "vin\n",
       "ZACNJABB5KPJ92081    1300.0\n",
       "SALCJ2FX1LH858117    2000.0\n",
       "JF1VA2M67G9829723    2500.0\n",
       "SALRR2RV0L2433391    3000.0\n",
       "SALCJ2FXXLH862327    2000.0\n",
       "                      ...  \n",
       "2GNAXJEV0J6261526    1500.0\n",
       "1GNERFKW0LJ225508    3600.0\n",
       "3FA6P0HD3GR134062    2000.0\n",
       "SAJAJ4BNXHA968809    2000.0\n",
       "JN8AT2MT1HW400805    2500.0\n",
       "Name: engine_displacement, Length: 3000040, dtype: float64"
      ]
     },
     "execution_count": 23,
     "metadata": {},
     "output_type": "execute_result"
    }
   ],
   "source": [
    "car_df['engine_displacement']"
   ]
  },
  {
   "cell_type": "code",
   "execution_count": 24,
   "id": "b03c4de9",
   "metadata": {},
   "outputs": [
    {
     "name": "stdout",
     "output_type": "stream",
     "text": [
      "172386\n",
      "count    2.827654e+06\n",
      "mean     2.968488e+03\n",
      "std      1.348905e+03\n",
      "min      7.000000e+02\n",
      "25%      2.000000e+03\n",
      "50%      2.500000e+03\n",
      "75%      3.600000e+03\n",
      "max      8.400000e+03\n",
      "Name: engine_displacement, dtype: float64\n"
     ]
    }
   ],
   "source": [
    "print(car_df['engine_displacement'].isna().sum())\n",
    "print(car_df['engine_displacement'].describe())"
   ]
  },
  {
   "cell_type": "code",
   "execution_count": 25,
   "id": "1d7742e2",
   "metadata": {},
   "outputs": [],
   "source": [
    "# Täytetään NaN-arvot keskiarvolla\n",
    "car_df['engine_displacement'].fillna(car_df['engine_displacement'].mean(), inplace=True)"
   ]
  },
  {
   "cell_type": "markdown",
   "id": "ab54e747",
   "metadata": {},
   "source": [
    "### Exterior color"
   ]
  },
  {
   "cell_type": "code",
   "execution_count": 26,
   "id": "dad2fe5f",
   "metadata": {},
   "outputs": [
    {
     "data": {
      "text/plain": [
       "vin\n",
       "ZACNJABB5KPJ92081             Solar Yellow\n",
       "SALCJ2FX1LH858117             Narvik Black\n",
       "JF1VA2M67G9829723                     None\n",
       "SALRR2RV0L2433391               Eiger Gray\n",
       "SALCJ2FXXLH862327             Narvik Black\n",
       "                             ...          \n",
       "2GNAXJEV0J6261526                   Silver\n",
       "1GNERFKW0LJ225508    Mosaic Black Metallic\n",
       "3FA6P0HD3GR134062                     Gray\n",
       "SAJAJ4BNXHA968809                    Green\n",
       "JN8AT2MT1HW400805         Brilliant Silver\n",
       "Name: exterior_color, Length: 3000040, dtype: object"
      ]
     },
     "execution_count": 26,
     "metadata": {},
     "output_type": "execute_result"
    }
   ],
   "source": [
    "car_df['exterior_color']"
   ]
  },
  {
   "cell_type": "code",
   "execution_count": 27,
   "id": "af94162c",
   "metadata": {},
   "outputs": [
    {
     "data": {
      "text/plain": [
       "26"
      ]
     },
     "execution_count": 27,
     "metadata": {},
     "output_type": "execute_result"
    }
   ],
   "source": [
    "car_df['exterior_color'].isna().sum()"
   ]
  },
  {
   "cell_type": "code",
   "execution_count": 28,
   "id": "f33f21af",
   "metadata": {},
   "outputs": [
    {
     "data": {
      "text/plain": [
       "Black                                  162463\n",
       "White                                  126560\n",
       "Summit White                            96432\n",
       "Silver                                  78908\n",
       "Gray                                    77562\n",
       "                                        ...  \n",
       "Blue Dusk Clearcoat Metallic                1\n",
       "Dark Performancesian Green Metallic         1\n",
       "BRILLANT                                    1\n",
       "WHITE MET                                   1\n",
       "Cosmic                                      1\n",
       "Name: exterior_color, Length: 28665, dtype: int64"
      ]
     },
     "execution_count": 28,
     "metadata": {},
     "output_type": "execute_result"
    }
   ],
   "source": [
    "car_df['exterior_color'].value_counts()"
   ]
  },
  {
   "cell_type": "code",
   "execution_count": 29,
   "id": "b0468368",
   "metadata": {},
   "outputs": [],
   "source": [
    "# Täytetään NaN-arvot mustalla, sillä se esiintyy useiten.\n",
    "car_df['exterior_color'].fillna(\"Black\", inplace=True)"
   ]
  },
  {
   "cell_type": "code",
   "execution_count": 30,
   "id": "549b1692",
   "metadata": {},
   "outputs": [],
   "source": [
    "# Uniikkeja värejä on todella paljon. Huomataan, että datassa esiintyy esimerkikssi\n",
    "# musta väri monella eri nimellä. Yhdistetään värit 13 ryhmään.\n",
    "colors = ['White', 'Black', 'Gray', 'Silver',\n",
    "          'Red', 'Blue', 'Brown', 'Green', 'Beige',\n",
    "          'Orange', 'Gold', 'Yellow', 'Purple']\n",
    "\n",
    "car_df['exterior_color'] = car_df['exterior_color'].str.findall('|'.join(colors)).apply(set).str.join(', ')"
   ]
  },
  {
   "cell_type": "code",
   "execution_count": 31,
   "id": "01873cd8",
   "metadata": {},
   "outputs": [
    {
     "data": {
      "text/plain": [
       "array(['Yellow', 'Black', '', 'Gray', 'White', 'Red', 'Silver', 'Blue',\n",
       "       'Orange', 'Brown', 'Blue, White', 'Green', 'Orange, Black', 'Gold',\n",
       "       'Beige', 'Black, White', 'Purple', 'Gold, White', 'Black, Green',\n",
       "       'Gray, Black', 'White, Silver', 'Gray, White', 'Black, Silver',\n",
       "       'Red, Black', 'Gray, Green', 'Blue, Silver', 'Red, Silver',\n",
       "       'Blue, Gray', 'Orange, Gray', 'Gold, Black', 'Blue, Black',\n",
       "       'Gray, Silver', 'Red, Gray', 'Yellow, Gold', 'Brown, Black',\n",
       "       'Yellow, Gray', 'Yellow, Black', 'White, Green', 'Black, Purple',\n",
       "       'Red, White', 'Orange, White', 'Brown, Gray', 'Blue, Gold',\n",
       "       'Silver, Green', 'Blue, Beige', 'Red, Orange', 'Brown, Silver',\n",
       "       'Brown, White', 'Black, Beige', 'Silver, Beige', 'White, Beige',\n",
       "       'Gold, Beige', 'Blue, Green', 'Blue, Purple', 'Red, Beige',\n",
       "       'Gold, Gray', 'Red, Gold', 'Brown, Beige', 'Gold, Silver',\n",
       "       'Black, White, Silver', 'Blue, Brown', 'Orange, Silver',\n",
       "       'Red, Gold, White', 'Yellow, White', 'Gold, White, Gray',\n",
       "       'Gold, Green', 'Brown, Purple', 'Gray, Beige', 'Brown, Gold',\n",
       "       'Blue, Black, Silver', 'Beige, Green', 'Yellow, Green',\n",
       "       'Blue, Black, White', 'Blue, Silver, Green', 'Red, Yellow',\n",
       "       'Purple, Green', 'Gray, Black, Green', 'Blue, Gray, Black',\n",
       "       'Blue, Gold, White'], dtype=object)"
      ]
     },
     "execution_count": 31,
     "metadata": {},
     "output_type": "execute_result"
    }
   ],
   "source": [
    "car_df['exterior_color'].unique()"
   ]
  },
  {
   "cell_type": "code",
   "execution_count": 32,
   "id": "88719fe4",
   "metadata": {},
   "outputs": [],
   "source": [
    "car_df.loc[car_df['exterior_color'].str.contains(','), 'exterior_color'] = 'Mixed Color'\n"
   ]
  },
  {
   "cell_type": "code",
   "execution_count": 33,
   "id": "d5811610",
   "metadata": {},
   "outputs": [
    {
     "data": {
      "text/plain": [
       "               738325\n",
       "White          633508\n",
       "Black          538927\n",
       "Silver         343230\n",
       "Blue           233988\n",
       "Red            223340\n",
       "Gray           216821\n",
       "Green           20495\n",
       "Mixed Color     11263\n",
       "Brown           11052\n",
       "Orange          10536\n",
       "Gold             8691\n",
       "Beige            4479\n",
       "Yellow           4424\n",
       "Purple            961\n",
       "Name: exterior_color, dtype: int64"
      ]
     },
     "execution_count": 33,
     "metadata": {},
     "output_type": "execute_result"
    }
   ],
   "source": [
    "car_df['exterior_color'].value_counts()"
   ]
  },
  {
   "cell_type": "code",
   "execution_count": 34,
   "id": "5d0730d2",
   "metadata": {},
   "outputs": [
    {
     "data": {
      "text/plain": [
       "Other Color    738325\n",
       "White          633508\n",
       "Black          538927\n",
       "Silver         343230\n",
       "Blue           233988\n",
       "Red            223340\n",
       "Gray           216821\n",
       "Green           20495\n",
       "Mixed Color     11263\n",
       "Brown           11052\n",
       "Orange          10536\n",
       "Gold             8691\n",
       "Beige            4479\n",
       "Yellow           4424\n",
       "Purple            961\n",
       "Name: exterior_color, dtype: int64"
      ]
     },
     "execution_count": 34,
     "metadata": {},
     "output_type": "execute_result"
    }
   ],
   "source": [
    "car_df['exterior_color'].replace(\"\", \"Other Color\", inplace=True)\n",
    "car_df['exterior_color'].value_counts()"
   ]
  },
  {
   "cell_type": "markdown",
   "id": "6920dcca",
   "metadata": {},
   "source": [
    "### Fleet"
   ]
  },
  {
   "cell_type": "code",
   "execution_count": 35,
   "id": "75442b00",
   "metadata": {},
   "outputs": [
    {
     "data": {
      "text/plain": [
       "vin\n",
       "ZACNJABB5KPJ92081      NaN\n",
       "SALCJ2FX1LH858117      NaN\n",
       "JF1VA2M67G9829723    False\n",
       "SALRR2RV0L2433391      NaN\n",
       "SALCJ2FXXLH862327      NaN\n",
       "                     ...  \n",
       "2GNAXJEV0J6261526     True\n",
       "1GNERFKW0LJ225508      NaN\n",
       "3FA6P0HD3GR134062    False\n",
       "SAJAJ4BNXHA968809    False\n",
       "JN8AT2MT1HW400805    False\n",
       "Name: fleet, Length: 3000040, dtype: object"
      ]
     },
     "execution_count": 35,
     "metadata": {},
     "output_type": "execute_result"
    }
   ],
   "source": [
    "car_df['fleet']"
   ]
  },
  {
   "cell_type": "code",
   "execution_count": 36,
   "id": "5910e0c7",
   "metadata": {},
   "outputs": [
    {
     "name": "stdout",
     "output_type": "stream",
     "text": [
      "1426595\n",
      "count     1573445\n",
      "unique          2\n",
      "top         False\n",
      "freq      1238507\n",
      "Name: fleet, dtype: object\n"
     ]
    }
   ],
   "source": [
    "print(car_df['fleet'].isna().sum())\n",
    "print(car_df['fleet'].describe())"
   ]
  },
  {
   "cell_type": "code",
   "execution_count": 37,
   "id": "4446a6b8",
   "metadata": {},
   "outputs": [
    {
     "data": {
      "text/html": [
       "<div>\n",
       "<style scoped>\n",
       "    .dataframe tbody tr th:only-of-type {\n",
       "        vertical-align: middle;\n",
       "    }\n",
       "\n",
       "    .dataframe tbody tr th {\n",
       "        vertical-align: top;\n",
       "    }\n",
       "\n",
       "    .dataframe thead th {\n",
       "        text-align: right;\n",
       "    }\n",
       "</style>\n",
       "<table border=\"1\" class=\"dataframe\">\n",
       "  <thead>\n",
       "    <tr style=\"text-align: right;\">\n",
       "      <th></th>\n",
       "      <th>0</th>\n",
       "    </tr>\n",
       "  </thead>\n",
       "  <tbody>\n",
       "    <tr>\n",
       "      <th>engine_type</th>\n",
       "      <td>3.352655</td>\n",
       "    </tr>\n",
       "    <tr>\n",
       "      <th>fleet</th>\n",
       "      <td>47.552533</td>\n",
       "    </tr>\n",
       "    <tr>\n",
       "      <th>frame_damaged</th>\n",
       "      <td>47.552533</td>\n",
       "    </tr>\n",
       "    <tr>\n",
       "      <th>franchise_make</th>\n",
       "      <td>19.087579</td>\n",
       "    </tr>\n",
       "    <tr>\n",
       "      <th>front_legroom</th>\n",
       "      <td>5.308896</td>\n",
       "    </tr>\n",
       "    <tr>\n",
       "      <th>fuel_tank_volume</th>\n",
       "      <td>5.308896</td>\n",
       "    </tr>\n",
       "    <tr>\n",
       "      <th>fuel_type</th>\n",
       "      <td>2.757430</td>\n",
       "    </tr>\n",
       "    <tr>\n",
       "      <th>has_accidents</th>\n",
       "      <td>47.552533</td>\n",
       "    </tr>\n",
       "    <tr>\n",
       "      <th>height</th>\n",
       "      <td>5.308896</td>\n",
       "    </tr>\n",
       "    <tr>\n",
       "      <th>horsepower</th>\n",
       "      <td>5.746123</td>\n",
       "    </tr>\n",
       "    <tr>\n",
       "      <th>interior_color</th>\n",
       "      <td>0.005500</td>\n",
       "    </tr>\n",
       "    <tr>\n",
       "      <th>isCab</th>\n",
       "      <td>47.552533</td>\n",
       "    </tr>\n",
       "    <tr>\n",
       "      <th>length</th>\n",
       "      <td>5.308896</td>\n",
       "    </tr>\n",
       "    <tr>\n",
       "      <th>main_picture_url</th>\n",
       "      <td>12.302936</td>\n",
       "    </tr>\n",
       "    <tr>\n",
       "      <th>major_options</th>\n",
       "      <td>6.668178</td>\n",
       "    </tr>\n",
       "    <tr>\n",
       "      <th>maximum_seating</th>\n",
       "      <td>5.308896</td>\n",
       "    </tr>\n",
       "    <tr>\n",
       "      <th>mileage</th>\n",
       "      <td>4.812836</td>\n",
       "    </tr>\n",
       "    <tr>\n",
       "      <th>power</th>\n",
       "      <td>16.047319</td>\n",
       "    </tr>\n",
       "    <tr>\n",
       "      <th>salvage</th>\n",
       "      <td>47.552533</td>\n",
       "    </tr>\n",
       "    <tr>\n",
       "      <th>seller_rating</th>\n",
       "      <td>1.362382</td>\n",
       "    </tr>\n",
       "    <tr>\n",
       "      <th>sp_id</th>\n",
       "      <td>0.003200</td>\n",
       "    </tr>\n",
       "    <tr>\n",
       "      <th>theft_title</th>\n",
       "      <td>47.552533</td>\n",
       "    </tr>\n",
       "    <tr>\n",
       "      <th>torque</th>\n",
       "      <td>17.259537</td>\n",
       "    </tr>\n",
       "    <tr>\n",
       "      <th>transmission</th>\n",
       "      <td>2.139471</td>\n",
       "    </tr>\n",
       "    <tr>\n",
       "      <th>transmission_display</th>\n",
       "      <td>2.139471</td>\n",
       "    </tr>\n",
       "    <tr>\n",
       "      <th>trimId</th>\n",
       "      <td>3.860849</td>\n",
       "    </tr>\n",
       "    <tr>\n",
       "      <th>trim_name</th>\n",
       "      <td>3.876415</td>\n",
       "    </tr>\n",
       "    <tr>\n",
       "      <th>wheel_system</th>\n",
       "      <td>4.891001</td>\n",
       "    </tr>\n",
       "    <tr>\n",
       "      <th>wheel_system_display</th>\n",
       "      <td>4.891001</td>\n",
       "    </tr>\n",
       "    <tr>\n",
       "      <th>wheelbase</th>\n",
       "      <td>5.308896</td>\n",
       "    </tr>\n",
       "    <tr>\n",
       "      <th>width</th>\n",
       "      <td>5.308896</td>\n",
       "    </tr>\n",
       "  </tbody>\n",
       "</table>\n",
       "</div>"
      ],
      "text/plain": [
       "                              0\n",
       "engine_type            3.352655\n",
       "fleet                 47.552533\n",
       "frame_damaged         47.552533\n",
       "franchise_make        19.087579\n",
       "front_legroom          5.308896\n",
       "fuel_tank_volume       5.308896\n",
       "fuel_type              2.757430\n",
       "has_accidents         47.552533\n",
       "height                 5.308896\n",
       "horsepower             5.746123\n",
       "interior_color         0.005500\n",
       "isCab                 47.552533\n",
       "length                 5.308896\n",
       "main_picture_url      12.302936\n",
       "major_options          6.668178\n",
       "maximum_seating        5.308896\n",
       "mileage                4.812836\n",
       "power                 16.047319\n",
       "salvage               47.552533\n",
       "seller_rating          1.362382\n",
       "sp_id                  0.003200\n",
       "theft_title           47.552533\n",
       "torque                17.259537\n",
       "transmission           2.139471\n",
       "transmission_display   2.139471\n",
       "trimId                 3.860849\n",
       "trim_name              3.876415\n",
       "wheel_system           4.891001\n",
       "wheel_system_display   4.891001\n",
       "wheelbase              5.308896\n",
       "width                  5.308896"
      ]
     },
     "execution_count": 37,
     "metadata": {},
     "output_type": "execute_result"
    }
   ],
   "source": [
    "percentage = car_df.isna().sum()/car_df.shape[0]*100\n",
    "nulls = percentage[percentage > 0]\n",
    "\n",
    "pd.DataFrame(nulls)"
   ]
  },
  {
   "cell_type": "code",
   "execution_count": 38,
   "id": "b7b845a2",
   "metadata": {},
   "outputs": [],
   "source": [
    " car_df = car_df.drop(['frame_damaged', 'has_accidents', 'isCab', 'salvage', 'theft_title'], axis=1)"
   ]
  },
  {
   "cell_type": "code",
   "execution_count": 39,
   "id": "b18d5d46",
   "metadata": {},
   "outputs": [
    {
     "data": {
      "text/plain": [
       "0"
      ]
     },
     "execution_count": 39,
     "metadata": {},
     "output_type": "execute_result"
    }
   ],
   "source": [
    "car_df['fleet'].fillna('False', inplace=True)\n",
    "car_df['fleet'] = car_df['fleet'].replace({'False': False}).astype(bool)\n",
    "car_df['fleet'].isna().sum()"
   ]
  },
  {
   "cell_type": "markdown",
   "id": "2de179db",
   "metadata": {},
   "source": [
    "### Franchise make"
   ]
  },
  {
   "cell_type": "code",
   "execution_count": 40,
   "id": "40228f55",
   "metadata": {},
   "outputs": [
    {
     "data": {
      "text/plain": [
       "vin\n",
       "ZACNJABB5KPJ92081          Jeep\n",
       "SALCJ2FX1LH858117    Land Rover\n",
       "JF1VA2M67G9829723          FIAT\n",
       "SALRR2RV0L2433391    Land Rover\n",
       "SALCJ2FXXLH862327    Land Rover\n",
       "                        ...    \n",
       "2GNAXJEV0J6261526           NaN\n",
       "1GNERFKW0LJ225508     Chevrolet\n",
       "3FA6P0HD3GR134062          Jeep\n",
       "SAJAJ4BNXHA968809           NaN\n",
       "JN8AT2MT1HW400805        Nissan\n",
       "Name: franchise_make, Length: 3000040, dtype: object"
      ]
     },
     "execution_count": 40,
     "metadata": {},
     "output_type": "execute_result"
    }
   ],
   "source": [
    "# Tarkastellaan franchise_makea\n",
    "car_df['franchise_make']"
   ]
  },
  {
   "cell_type": "code",
   "execution_count": 41,
   "id": "a5c50371",
   "metadata": {},
   "outputs": [
    {
     "name": "stdout",
     "output_type": "stream",
     "text": [
      "count     2427405\n",
      "unique         48\n",
      "top          Ford\n",
      "freq       395521\n",
      "Name: franchise_make, dtype: object\n",
      "['Jeep' 'Land Rover' 'FIAT' 'Chevrolet' 'Cadillac' 'Chrysler' 'Dodge'\n",
      " 'RAM' nan 'Kia' 'Mazda' 'Audi' 'Hyundai' 'Ford' 'Toyota' 'Lincoln'\n",
      " 'Volvo' 'GMC' 'Volkswagen' 'BMW' 'Lexus' 'Buick' 'Subaru' 'Scion' 'Honda'\n",
      " 'Nissan' 'Acura' 'INFINITI' 'Porsche' 'Rolls-Royce' 'Bentley'\n",
      " 'Lamborghini' 'Mercedes-Benz' 'Jaguar' 'Maserati' 'Alfa Romeo' 'Ferrari'\n",
      " 'MINI' 'Mitsubishi' 'Aston Martin' 'Lotus' 'McLaren' 'Pagani' 'Genesis'\n",
      " 'SRT' 'smart' 'Rover' 'Shelby' 'Freightliner']\n"
     ]
    }
   ],
   "source": [
    "print(car_df['franchise_make'].describe())\n",
    "print(car_df['franchise_make'].unique())"
   ]
  },
  {
   "cell_type": "code",
   "execution_count": 42,
   "id": "d3af9612",
   "metadata": {},
   "outputs": [
    {
     "name": "stdout",
     "output_type": "stream",
     "text": [
      "572635\n",
      "0\n"
     ]
    }
   ],
   "source": [
    "# Tarkastetaan NaN-arvoje määrä\n",
    "print(car_df['franchise_make'].isna().sum())\n",
    "print(car_df['make_name'].isna().sum())"
   ]
  },
  {
   "cell_type": "code",
   "execution_count": 43,
   "id": "1d0d1fd9",
   "metadata": {},
   "outputs": [],
   "source": [
    "# Koska make_name ja franchise_make kertovat samaa tietoa, ja franchise-makessa on suuri määrä NaN-arvoja,\n",
    "# pudotetaan sarake\n",
    "car_df = car_df.drop(['franchise_make'], axis=1)"
   ]
  },
  {
   "cell_type": "markdown",
   "id": "62db6ab7",
   "metadata": {},
   "source": [
    "### Front legroom"
   ]
  },
  {
   "cell_type": "code",
   "execution_count": 44,
   "id": "aced910d",
   "metadata": {},
   "outputs": [
    {
     "data": {
      "text/plain": [
       "vin\n",
       "ZACNJABB5KPJ92081    41.2 in\n",
       "SALCJ2FX1LH858117    39.1 in\n",
       "JF1VA2M67G9829723    43.3 in\n",
       "SALRR2RV0L2433391      39 in\n",
       "SALCJ2FXXLH862327    39.1 in\n",
       "                      ...   \n",
       "2GNAXJEV0J6261526    40.9 in\n",
       "1GNERFKW0LJ225508      41 in\n",
       "3FA6P0HD3GR134062    44.3 in\n",
       "SAJAJ4BNXHA968809    41.5 in\n",
       "JN8AT2MT1HW400805      43 in\n",
       "Name: front_legroom, Length: 3000040, dtype: object"
      ]
     },
     "execution_count": 44,
     "metadata": {},
     "output_type": "execute_result"
    }
   ],
   "source": [
    "# Tarkastellaan front_legroomia\n",
    "car_df['front_legroom']"
   ]
  },
  {
   "cell_type": "code",
   "execution_count": 45,
   "id": "ffcdf5d6",
   "metadata": {},
   "outputs": [
    {
     "name": "stdout",
     "output_type": "stream",
     "text": [
      "count     2840771\n",
      "unique        101\n",
      "top       40.9 in\n",
      "freq       229552\n",
      "Name: front_legroom, dtype: object\n",
      "['41.2 in' '39.1 in' '43.3 in' '39 in' '40.2 in' '42.3 in' '40 in'\n",
      " '42.7 in' '42 in' '41.7 in' '41 in' '42.2 in' '45.4 in' '41.3 in'\n",
      " '40.3 in' '40.6 in' nan '42.6 in' '40.4 in' '42.4 in' '39.5 in' '40.9 in'\n",
      " '41.8 in' '45.3 in' '42.5 in' '44.1 in' '--' '45.5 in' '42.9 in'\n",
      " '43.9 in' '41.5 in' '41.1 in' '43 in' '40.8 in' '45 in' '40.1 in'\n",
      " '44.5 in' '38.9 in' '45.8 in' '67 in' '41.4 in' '40.7 in' '40.5 in'\n",
      " '42.8 in' '44.8 in' '43.6 in' '41.9 in' '43.7 in' '43.8 in' '42.1 in'\n",
      " '52.5 in' '43.1 in' '39.9 in' '41.6 in' '45.7 in' '43.5 in' '44.4 in'\n",
      " '44.3 in' '43.2 in' '38.8 in' '46.1 in' '39.8 in' '44.6 in' '44.2 in'\n",
      " '45.1 in' '37.7 in' '46.4 in' '35.8 in' '39.6 in' '46.9 in' '39.4 in'\n",
      " '44.7 in' '46.3 in' '43.4 in' '38.7 in' '39.3 in' '44 in' '36.6 in'\n",
      " '38 in' '39.2 in' '53.6 in' '38.6 in' '46 in' '46.5 in' '0 in' '45.9 in'\n",
      " '33.5 in' '38.5 in' '37.8 in' '38.1 in' '33 in' '29 in' '37.9 in'\n",
      " '54.4 in' '38.4 in' '37 in' '49.2 in' '47.3 in' '38.2 in' '38.3 in'\n",
      " '36 in' '61.4 in']\n"
     ]
    }
   ],
   "source": [
    "print(car_df['front_legroom'].describe())\n",
    "print(car_df['front_legroom'].unique())"
   ]
  },
  {
   "cell_type": "code",
   "execution_count": 46,
   "id": "5efae5b3",
   "metadata": {},
   "outputs": [
    {
     "data": {
      "text/plain": [
       "159269"
      ]
     },
     "execution_count": 46,
     "metadata": {},
     "output_type": "execute_result"
    }
   ],
   "source": [
    "# NaN-arvojen määrä\n",
    "car_df['front_legroom'].isna().sum()"
   ]
  },
  {
   "cell_type": "code",
   "execution_count": 47,
   "id": "4a50d95c",
   "metadata": {},
   "outputs": [],
   "source": [
    "# Otetaan vain lukuarvo talteen, täytetään tyhjät arvot, muutetaan floateiksi.\n",
    "car_df['front_legroom'] = car_df['front_legroom'].str.split(' ').str[0]\n",
    "car_df['front_legroom'].replace('--', np.nan, inplace=True)\n",
    "car_df['front_legroom'] = pd.to_numeric(car_df['front_legroom'], downcast='float')"
   ]
  },
  {
   "cell_type": "code",
   "execution_count": 48,
   "id": "b7e66549",
   "metadata": {},
   "outputs": [
    {
     "data": {
      "text/plain": [
       "count    2.824583e+06\n",
       "mean     4.164296e+01\n",
       "std      1.610130e+00\n",
       "min      0.000000e+00\n",
       "25%      4.100000e+01\n",
       "50%      4.200000e+01\n",
       "75%      4.300000e+01\n",
       "max      6.700000e+01\n",
       "Name: front_legroom, dtype: float64"
      ]
     },
     "execution_count": 48,
     "metadata": {},
     "output_type": "execute_result"
    }
   ],
   "source": [
    "car_df['front_legroom'].describe()"
   ]
  },
  {
   "cell_type": "code",
   "execution_count": 49,
   "id": "44ea7640",
   "metadata": {},
   "outputs": [
    {
     "data": {
      "text/plain": [
       "0"
      ]
     },
     "execution_count": 49,
     "metadata": {},
     "output_type": "execute_result"
    }
   ],
   "source": [
    "# Täytetään NaNit keskiarvolla.\n",
    "car_df['front_legroom'].fillna(car_df['front_legroom'].mean(), inplace=True)\n",
    "car_df['front_legroom'].isna().sum()"
   ]
  },
  {
   "cell_type": "code",
   "execution_count": 50,
   "id": "026fddae",
   "metadata": {},
   "outputs": [],
   "source": [
    "# Yhdistetään front_legroom ja back_legroom yhdeksi sarakkeeksi\n",
    "car_df['legroom'] = car_df['front_legroom'] + car_df['back_legroom']\n",
    "car_df = car_df.drop(['front_legroom', 'back_legroom'], axis=1)"
   ]
  },
  {
   "cell_type": "code",
   "execution_count": 51,
   "id": "7d4fd2ab",
   "metadata": {},
   "outputs": [
    {
     "data": {
      "text/html": [
       "<div>\n",
       "<style scoped>\n",
       "    .dataframe tbody tr th:only-of-type {\n",
       "        vertical-align: middle;\n",
       "    }\n",
       "\n",
       "    .dataframe tbody tr th {\n",
       "        vertical-align: top;\n",
       "    }\n",
       "\n",
       "    .dataframe thead th {\n",
       "        text-align: right;\n",
       "    }\n",
       "</style>\n",
       "<table border=\"1\" class=\"dataframe\">\n",
       "  <thead>\n",
       "    <tr style=\"text-align: right;\">\n",
       "      <th></th>\n",
       "      <th>body_type</th>\n",
       "      <th>city</th>\n",
       "      <th>daysonmarket</th>\n",
       "      <th>dealer_zip</th>\n",
       "      <th>engine_displacement</th>\n",
       "      <th>engine_type</th>\n",
       "      <th>exterior_color</th>\n",
       "      <th>fleet</th>\n",
       "      <th>franchise_dealer</th>\n",
       "      <th>fuel_tank_volume</th>\n",
       "      <th>...</th>\n",
       "      <th>transmission_display</th>\n",
       "      <th>trimId</th>\n",
       "      <th>trim_name</th>\n",
       "      <th>wheel_system</th>\n",
       "      <th>wheel_system_display</th>\n",
       "      <th>wheelbase</th>\n",
       "      <th>width</th>\n",
       "      <th>year</th>\n",
       "      <th>combined_fuel_economy</th>\n",
       "      <th>legroom</th>\n",
       "    </tr>\n",
       "    <tr>\n",
       "      <th>vin</th>\n",
       "      <th></th>\n",
       "      <th></th>\n",
       "      <th></th>\n",
       "      <th></th>\n",
       "      <th></th>\n",
       "      <th></th>\n",
       "      <th></th>\n",
       "      <th></th>\n",
       "      <th></th>\n",
       "      <th></th>\n",
       "      <th></th>\n",
       "      <th></th>\n",
       "      <th></th>\n",
       "      <th></th>\n",
       "      <th></th>\n",
       "      <th></th>\n",
       "      <th></th>\n",
       "      <th></th>\n",
       "      <th></th>\n",
       "      <th></th>\n",
       "      <th></th>\n",
       "    </tr>\n",
       "  </thead>\n",
       "  <tbody>\n",
       "    <tr>\n",
       "      <th>ZACNJABB5KPJ92081</th>\n",
       "      <td>SUV / Crossover</td>\n",
       "      <td>Bayamon</td>\n",
       "      <td>522</td>\n",
       "      <td>960</td>\n",
       "      <td>1300.0</td>\n",
       "      <td>I4</td>\n",
       "      <td>Yellow</td>\n",
       "      <td>False</td>\n",
       "      <td>True</td>\n",
       "      <td>12.7 gal</td>\n",
       "      <td>...</td>\n",
       "      <td>9-Speed Automatic Overdrive</td>\n",
       "      <td>t83804</td>\n",
       "      <td>Latitude FWD</td>\n",
       "      <td>FWD</td>\n",
       "      <td>Front-Wheel Drive</td>\n",
       "      <td>101.2 in</td>\n",
       "      <td>79.6 in</td>\n",
       "      <td>2019</td>\n",
       "      <td>26.08331</td>\n",
       "      <td>76.300003</td>\n",
       "    </tr>\n",
       "    <tr>\n",
       "      <th>SALCJ2FX1LH858117</th>\n",
       "      <td>SUV / Crossover</td>\n",
       "      <td>San Juan</td>\n",
       "      <td>207</td>\n",
       "      <td>922</td>\n",
       "      <td>2000.0</td>\n",
       "      <td>I4</td>\n",
       "      <td>Black</td>\n",
       "      <td>False</td>\n",
       "      <td>True</td>\n",
       "      <td>17.7 gal</td>\n",
       "      <td>...</td>\n",
       "      <td>9-Speed Automatic Overdrive</td>\n",
       "      <td>t86759</td>\n",
       "      <td>S AWD</td>\n",
       "      <td>AWD</td>\n",
       "      <td>All-Wheel Drive</td>\n",
       "      <td>107.9 in</td>\n",
       "      <td>85.6 in</td>\n",
       "      <td>2020</td>\n",
       "      <td>26.08331</td>\n",
       "      <td>77.199997</td>\n",
       "    </tr>\n",
       "    <tr>\n",
       "      <th>JF1VA2M67G9829723</th>\n",
       "      <td>Sedan</td>\n",
       "      <td>Guaynabo</td>\n",
       "      <td>1233</td>\n",
       "      <td>969</td>\n",
       "      <td>2500.0</td>\n",
       "      <td>H4</td>\n",
       "      <td>Other Color</td>\n",
       "      <td>False</td>\n",
       "      <td>True</td>\n",
       "      <td>15.9 gal</td>\n",
       "      <td>...</td>\n",
       "      <td>6-Speed Manual</td>\n",
       "      <td>t58994</td>\n",
       "      <td>Base</td>\n",
       "      <td>AWD</td>\n",
       "      <td>All-Wheel Drive</td>\n",
       "      <td>104.3 in</td>\n",
       "      <td>78.9 in</td>\n",
       "      <td>2016</td>\n",
       "      <td>20.00000</td>\n",
       "      <td>78.699997</td>\n",
       "    </tr>\n",
       "    <tr>\n",
       "      <th>SALRR2RV0L2433391</th>\n",
       "      <td>SUV / Crossover</td>\n",
       "      <td>San Juan</td>\n",
       "      <td>196</td>\n",
       "      <td>922</td>\n",
       "      <td>3000.0</td>\n",
       "      <td>V6</td>\n",
       "      <td>Gray</td>\n",
       "      <td>False</td>\n",
       "      <td>True</td>\n",
       "      <td>23.5 gal</td>\n",
       "      <td>...</td>\n",
       "      <td>8-Speed Automatic Overdrive</td>\n",
       "      <td>t86074</td>\n",
       "      <td>V6 HSE AWD</td>\n",
       "      <td>AWD</td>\n",
       "      <td>All-Wheel Drive</td>\n",
       "      <td>115 in</td>\n",
       "      <td>87.4 in</td>\n",
       "      <td>2020</td>\n",
       "      <td>26.08331</td>\n",
       "      <td>76.599998</td>\n",
       "    </tr>\n",
       "    <tr>\n",
       "      <th>SALCJ2FXXLH862327</th>\n",
       "      <td>SUV / Crossover</td>\n",
       "      <td>San Juan</td>\n",
       "      <td>137</td>\n",
       "      <td>922</td>\n",
       "      <td>2000.0</td>\n",
       "      <td>I4</td>\n",
       "      <td>Black</td>\n",
       "      <td>False</td>\n",
       "      <td>True</td>\n",
       "      <td>17.7 gal</td>\n",
       "      <td>...</td>\n",
       "      <td>9-Speed Automatic Overdrive</td>\n",
       "      <td>t86759</td>\n",
       "      <td>S AWD</td>\n",
       "      <td>AWD</td>\n",
       "      <td>All-Wheel Drive</td>\n",
       "      <td>107.9 in</td>\n",
       "      <td>85.6 in</td>\n",
       "      <td>2020</td>\n",
       "      <td>26.08331</td>\n",
       "      <td>77.199997</td>\n",
       "    </tr>\n",
       "  </tbody>\n",
       "</table>\n",
       "<p>5 rows × 45 columns</p>\n",
       "</div>"
      ],
      "text/plain": [
       "                         body_type      city  daysonmarket dealer_zip  \\\n",
       "vin                                                                     \n",
       "ZACNJABB5KPJ92081  SUV / Crossover   Bayamon           522        960   \n",
       "SALCJ2FX1LH858117  SUV / Crossover  San Juan           207        922   \n",
       "JF1VA2M67G9829723            Sedan  Guaynabo          1233        969   \n",
       "SALRR2RV0L2433391  SUV / Crossover  San Juan           196        922   \n",
       "SALCJ2FXXLH862327  SUV / Crossover  San Juan           137        922   \n",
       "\n",
       "                   engine_displacement engine_type exterior_color  fleet  \\\n",
       "vin                                                                        \n",
       "ZACNJABB5KPJ92081               1300.0          I4         Yellow  False   \n",
       "SALCJ2FX1LH858117               2000.0          I4          Black  False   \n",
       "JF1VA2M67G9829723               2500.0          H4    Other Color  False   \n",
       "SALRR2RV0L2433391               3000.0          V6           Gray  False   \n",
       "SALCJ2FXXLH862327               2000.0          I4          Black  False   \n",
       "\n",
       "                   franchise_dealer fuel_tank_volume  ...  \\\n",
       "vin                                                   ...   \n",
       "ZACNJABB5KPJ92081              True         12.7 gal  ...   \n",
       "SALCJ2FX1LH858117              True         17.7 gal  ...   \n",
       "JF1VA2M67G9829723              True         15.9 gal  ...   \n",
       "SALRR2RV0L2433391              True         23.5 gal  ...   \n",
       "SALCJ2FXXLH862327              True         17.7 gal  ...   \n",
       "\n",
       "                          transmission_display  trimId     trim_name  \\\n",
       "vin                                                                    \n",
       "ZACNJABB5KPJ92081  9-Speed Automatic Overdrive  t83804  Latitude FWD   \n",
       "SALCJ2FX1LH858117  9-Speed Automatic Overdrive  t86759         S AWD   \n",
       "JF1VA2M67G9829723               6-Speed Manual  t58994          Base   \n",
       "SALRR2RV0L2433391  8-Speed Automatic Overdrive  t86074    V6 HSE AWD   \n",
       "SALCJ2FXXLH862327  9-Speed Automatic Overdrive  t86759         S AWD   \n",
       "\n",
       "                  wheel_system  wheel_system_display  wheelbase    width  \\\n",
       "vin                                                                        \n",
       "ZACNJABB5KPJ92081          FWD     Front-Wheel Drive   101.2 in  79.6 in   \n",
       "SALCJ2FX1LH858117          AWD       All-Wheel Drive   107.9 in  85.6 in   \n",
       "JF1VA2M67G9829723          AWD       All-Wheel Drive   104.3 in  78.9 in   \n",
       "SALRR2RV0L2433391          AWD       All-Wheel Drive     115 in  87.4 in   \n",
       "SALCJ2FXXLH862327          AWD       All-Wheel Drive   107.9 in  85.6 in   \n",
       "\n",
       "                   year combined_fuel_economy    legroom  \n",
       "vin                                                       \n",
       "ZACNJABB5KPJ92081  2019              26.08331  76.300003  \n",
       "SALCJ2FX1LH858117  2020              26.08331  77.199997  \n",
       "JF1VA2M67G9829723  2016              20.00000  78.699997  \n",
       "SALRR2RV0L2433391  2020              26.08331  76.599998  \n",
       "SALCJ2FXXLH862327  2020              26.08331  77.199997  \n",
       "\n",
       "[5 rows x 45 columns]"
      ]
     },
     "execution_count": 51,
     "metadata": {},
     "output_type": "execute_result"
    }
   ],
   "source": [
    "car_df.head()"
   ]
  },
  {
   "cell_type": "markdown",
   "id": "55695bcd",
   "metadata": {},
   "source": [
    "### Fuel tank volume"
   ]
  },
  {
   "cell_type": "code",
   "execution_count": 52,
   "id": "3e29442f",
   "metadata": {},
   "outputs": [
    {
     "data": {
      "text/plain": [
       "vin\n",
       "ZACNJABB5KPJ92081    12.7 gal\n",
       "SALCJ2FX1LH858117    17.7 gal\n",
       "JF1VA2M67G9829723    15.9 gal\n",
       "SALRR2RV0L2433391    23.5 gal\n",
       "SALCJ2FXXLH862327    17.7 gal\n",
       "                       ...   \n",
       "2GNAXJEV0J6261526    14.9 gal\n",
       "1GNERFKW0LJ225508    19.4 gal\n",
       "3FA6P0HD3GR134062    16.5 gal\n",
       "SAJAJ4BNXHA968809    14.8 gal\n",
       "JN8AT2MT1HW400805    14.5 gal\n",
       "Name: fuel_tank_volume, Length: 3000040, dtype: object"
      ]
     },
     "execution_count": 52,
     "metadata": {},
     "output_type": "execute_result"
    }
   ],
   "source": [
    "car_df['fuel_tank_volume']\n"
   ]
  },
  {
   "cell_type": "code",
   "execution_count": 53,
   "id": "fe95fe2b",
   "metadata": {},
   "outputs": [
    {
     "name": "stdout",
     "output_type": "stream",
     "text": [
      " NaN: 159269\n",
      "count     2840771\n",
      "unique        182\n",
      "top        26 gal\n",
      "freq       202824\n",
      "Name: fuel_tank_volume, dtype: object\n",
      "['12.7 gal' '17.7 gal' '15.9 gal' '23.5 gal' '16.6 gal' '13.2 gal'\n",
      " '10.5 gal' '15.8 gal' '22.5 gal' '14.8 gal' '14 gal' '17.4 gal'\n",
      " '19.4 gal' '22 gal' '24.6 gal' '13.5 gal' nan '16.9 gal' '18.8 gal'\n",
      " '27.6 gal' '21.5 gal' '15.6 gal' '18.5 gal' '26 gal' '12.4 gal'\n",
      " '19.2 gal' '18.6 gal' '14.9 gal' '23.2 gal' '24 gal' '16.4 gal'\n",
      " '13.7 gal' '19 gal' '14.5 gal' '31 gal' '24.1 gal' '18.1 gal' '18 gal'\n",
      " '21.7 gal' '23.8 gal' '15.3 gal' '34 gal' '21 gal' '19.5 gal' '16 gal'\n",
      " '28 gal' '26.4 gal' '27.7 gal' '36 gal' '35 gal' '20 gal' '21.6 gal'\n",
      " '15.1 gal' '21.1 gal' '12.8 gal' '11 gal' '22.2 gal' '16.1 gal'\n",
      " '17.2 gal' '19.8 gal' '20.5 gal' '17 gal' '9.3 gal' '25.1 gal' '25.4 gal'\n",
      " '25 gal' '13 gal' '11.1 gal' '21.9 gal' '23 gal' '11.9 gal' '14.2 gal'\n",
      " '14.3 gal' '16.5 gal' '11.4 gal' '17.8 gal' '17.1 gal' '--' '9.2 gal'\n",
      " '17.5 gal' '16.8 gal' '12.1 gal' '15.5 gal' '11.3 gal' '10.6 gal'\n",
      " '13.6 gal' '15 gal' '32 gal' '15.7 gal' '23.3 gal' '20.6 gal' '22.4 gal'\n",
      " '16.3 gal' '27 gal' '16.2 gal' '15.4 gal' '20.1 gal' '10.8 gal'\n",
      " '20.3 gal' '38 gal' '28.3 gal' '23.7 gal' '30 gal' '14.4 gal' '24.5 gal'\n",
      " '27.8 gal' '12.2 gal' '19.3 gal' '33.5 gal' '9 gal' '17.9 gal' '19.1 gal'\n",
      " '14.7 gal' '9.5 gal' '48 gal' '23.6 gal' '12 gal' '18.4 gal' '11.8 gal'\n",
      " '11.6 gal' '20.4 gal' '8.7 gal' '33 gal' '30.5 gal' '22.8 gal' '21.8 gal'\n",
      " '40 gal' '8.9 gal' '13.1 gal' '1.9 gal' '17.3 gal' '44 gal' '29 gal'\n",
      " '22.7 gal' '7 gal' '2.3 gal' '2.4 gal' '27.3 gal' '21.4 gal' '18.2 gal'\n",
      " '7.7 gal' '15.2 gal' '10 gal' '8.5 gal' '37 gal' '14.6 gal' '31.5 gal'\n",
      " '39 gal' '52 gal' '17.6 gal' '25.6 gal' '23.9 gal' '24.3 gal' '12.6 gal'\n",
      " '18.3 gal' '63.5 gal' '29.1 gal' '37.5 gal' '20.2 gal' '10.3 gal'\n",
      " '50 gal' '28.5 gal' '16.7 gal' '26.5 gal' '18.7 gal' '21.2 gal'\n",
      " '22.3 gal' '12.3 gal' '42 gal' '63 gal' '64 gal' '7.8 gal' '40.7 gal'\n",
      " '22.6 gal' '8 gal' '51 gal' '11.5 gal' '25.5 gal' '25.3 gal' '23.1 gal'\n",
      " '13.3 gal' '25.2 gal' '26.3 gal']\n"
     ]
    }
   ],
   "source": [
    "print(f\" NaN: {car_df['fuel_tank_volume'].isna().sum()}\")\n",
    "print(car_df['fuel_tank_volume'].describe())\n",
    "print(car_df['fuel_tank_volume'].unique())"
   ]
  },
  {
   "cell_type": "code",
   "execution_count": 54,
   "id": "cee871e9",
   "metadata": {},
   "outputs": [
    {
     "data": {
      "text/html": [
       "<div>\n",
       "<style scoped>\n",
       "    .dataframe tbody tr th:only-of-type {\n",
       "        vertical-align: middle;\n",
       "    }\n",
       "\n",
       "    .dataframe tbody tr th {\n",
       "        vertical-align: top;\n",
       "    }\n",
       "\n",
       "    .dataframe thead th {\n",
       "        text-align: right;\n",
       "    }\n",
       "</style>\n",
       "<table border=\"1\" class=\"dataframe\">\n",
       "  <thead>\n",
       "    <tr style=\"text-align: right;\">\n",
       "      <th></th>\n",
       "      <th>fuel_tank_volume</th>\n",
       "      <th>fuel_type</th>\n",
       "    </tr>\n",
       "    <tr>\n",
       "      <th>vin</th>\n",
       "      <th></th>\n",
       "      <th></th>\n",
       "    </tr>\n",
       "  </thead>\n",
       "  <tbody>\n",
       "    <tr>\n",
       "      <th>KNDJP3AE3H7024713</th>\n",
       "      <td>NaN</td>\n",
       "      <td>Electric</td>\n",
       "    </tr>\n",
       "    <tr>\n",
       "      <th>KNDCC3LG4K5009935</th>\n",
       "      <td>NaN</td>\n",
       "      <td>Electric</td>\n",
       "    </tr>\n",
       "    <tr>\n",
       "      <th>1G1FZ6S05L4121127</th>\n",
       "      <td>NaN</td>\n",
       "      <td>Electric</td>\n",
       "    </tr>\n",
       "    <tr>\n",
       "      <th>1G1FZ6S06L4123999</th>\n",
       "      <td>NaN</td>\n",
       "      <td>Electric</td>\n",
       "    </tr>\n",
       "    <tr>\n",
       "      <th>KMHC75LH4HU008626</th>\n",
       "      <td>NaN</td>\n",
       "      <td>Electric</td>\n",
       "    </tr>\n",
       "  </tbody>\n",
       "</table>\n",
       "</div>"
      ],
      "text/plain": [
       "                  fuel_tank_volume fuel_type\n",
       "vin                                         \n",
       "KNDJP3AE3H7024713              NaN  Electric\n",
       "KNDCC3LG4K5009935              NaN  Electric\n",
       "1G1FZ6S05L4121127              NaN  Electric\n",
       "1G1FZ6S06L4123999              NaN  Electric\n",
       "KMHC75LH4HU008626              NaN  Electric"
      ]
     },
     "execution_count": 54,
     "metadata": {},
     "output_type": "execute_result"
    }
   ],
   "source": [
    "# Suodatetaan rivit, joissa sarakkeen arvo on \"Electric\n",
    "car_df.loc[(car_df['fuel_type'] == \"Electric\"), ['fuel_tank_volume','fuel_type']].head()"
   ]
  },
  {
   "cell_type": "code",
   "execution_count": 55,
   "id": "62050f72",
   "metadata": {},
   "outputs": [],
   "source": [
    "# Otetaan vain lukuarvo talteen, täytetään tyhjät arvot, muutetaan floateiksi.\n",
    "car_df['fuel_tank_volume'] = car_df['fuel_tank_volume'].str.split(' ').str[0]\n",
    "car_df['fuel_tank_volume'].replace(\"--\", np.nan , inplace=True)\n",
    "car_df['fuel_tank_volume'] = pd.to_numeric(car_df['fuel_tank_volume'], downcast='float')"
   ]
  },
  {
   "cell_type": "code",
   "execution_count": 56,
   "id": "df70624d",
   "metadata": {},
   "outputs": [
    {
     "data": {
      "text/html": [
       "<div>\n",
       "<style scoped>\n",
       "    .dataframe tbody tr th:only-of-type {\n",
       "        vertical-align: middle;\n",
       "    }\n",
       "\n",
       "    .dataframe tbody tr th {\n",
       "        vertical-align: top;\n",
       "    }\n",
       "\n",
       "    .dataframe thead th {\n",
       "        text-align: right;\n",
       "    }\n",
       "</style>\n",
       "<table border=\"1\" class=\"dataframe\">\n",
       "  <thead>\n",
       "    <tr style=\"text-align: right;\">\n",
       "      <th></th>\n",
       "      <th>fuel_tank_volume</th>\n",
       "      <th>fuel_type</th>\n",
       "    </tr>\n",
       "    <tr>\n",
       "      <th>vin</th>\n",
       "      <th></th>\n",
       "      <th></th>\n",
       "    </tr>\n",
       "  </thead>\n",
       "  <tbody>\n",
       "    <tr>\n",
       "      <th>4S3GTAA67J3747545</th>\n",
       "      <td>NaN</td>\n",
       "      <td>NaN</td>\n",
       "    </tr>\n",
       "    <tr>\n",
       "      <th>WDDGF8BBXCR195380</th>\n",
       "      <td>NaN</td>\n",
       "      <td>Gasoline</td>\n",
       "    </tr>\n",
       "    <tr>\n",
       "      <th>3VW447AU9JM257055</th>\n",
       "      <td>NaN</td>\n",
       "      <td>Gasoline</td>\n",
       "    </tr>\n",
       "    <tr>\n",
       "      <th>1J4GR48K25C565853</th>\n",
       "      <td>NaN</td>\n",
       "      <td>NaN</td>\n",
       "    </tr>\n",
       "    <tr>\n",
       "      <th>1GTGG25VX51224016</th>\n",
       "      <td>NaN</td>\n",
       "      <td>Gasoline</td>\n",
       "    </tr>\n",
       "  </tbody>\n",
       "</table>\n",
       "</div>"
      ],
      "text/plain": [
       "                   fuel_tank_volume fuel_type\n",
       "vin                                          \n",
       "4S3GTAA67J3747545               NaN       NaN\n",
       "WDDGF8BBXCR195380               NaN  Gasoline\n",
       "3VW447AU9JM257055               NaN  Gasoline\n",
       "1J4GR48K25C565853               NaN       NaN\n",
       "1GTGG25VX51224016               NaN  Gasoline"
      ]
     },
     "execution_count": 56,
     "metadata": {},
     "output_type": "execute_result"
    }
   ],
   "source": [
    "# Nolla-arvojen täyttäminen arvolla 0 vain sähköautojen osalta.\n",
    "car_df.loc[(car_df['fuel_type'] == \"Electric\"), 'fuel_tank_volume'] = 0\n",
    "car_df[car_df['fuel_tank_volume'].isna()][['fuel_tank_volume','fuel_type']].head()"
   ]
  },
  {
   "cell_type": "code",
   "execution_count": 57,
   "id": "853f867d",
   "metadata": {},
   "outputs": [
    {
     "data": {
      "text/plain": [
       "50230"
      ]
     },
     "execution_count": 57,
     "metadata": {},
     "output_type": "execute_result"
    }
   ],
   "source": [
    "car_df['fuel_tank_volume'].fillna(car_df.groupby('fuel_type')['fuel_tank_volume'].transform('mean'), inplace=True)\n",
    "car_df['fuel_tank_volume'].isna().sum()"
   ]
  },
  {
   "cell_type": "markdown",
   "id": "98f79887",
   "metadata": {},
   "source": [
    "### Fuel type"
   ]
  },
  {
   "cell_type": "code",
   "execution_count": 58,
   "id": "4dcfcc2e",
   "metadata": {},
   "outputs": [
    {
     "name": "stdout",
     "output_type": "stream",
     "text": [
      "NaN: 82724\n"
     ]
    }
   ],
   "source": [
    "print(f\"NaN: {car_df['fuel_type'].isna().sum()}\")"
   ]
  },
  {
   "cell_type": "code",
   "execution_count": 59,
   "id": "9c901c58",
   "metadata": {},
   "outputs": [
    {
     "data": {
      "text/html": [
       "<div>\n",
       "<style scoped>\n",
       "    .dataframe tbody tr th:only-of-type {\n",
       "        vertical-align: middle;\n",
       "    }\n",
       "\n",
       "    .dataframe tbody tr th {\n",
       "        vertical-align: top;\n",
       "    }\n",
       "\n",
       "    .dataframe thead th {\n",
       "        text-align: right;\n",
       "    }\n",
       "</style>\n",
       "<table border=\"1\" class=\"dataframe\">\n",
       "  <thead>\n",
       "    <tr style=\"text-align: right;\">\n",
       "      <th></th>\n",
       "      <th>fuel_type</th>\n",
       "      <th>fuel_tank_volume</th>\n",
       "      <th>engine_type</th>\n",
       "      <th>make_name</th>\n",
       "      <th>model_name</th>\n",
       "    </tr>\n",
       "    <tr>\n",
       "      <th>vin</th>\n",
       "      <th></th>\n",
       "      <th></th>\n",
       "      <th></th>\n",
       "      <th></th>\n",
       "      <th></th>\n",
       "    </tr>\n",
       "  </thead>\n",
       "  <tbody>\n",
       "    <tr>\n",
       "      <th>ZACCJBBB9HPF62165</th>\n",
       "      <td>NaN</td>\n",
       "      <td>12.7</td>\n",
       "      <td>NaN</td>\n",
       "      <td>Jeep</td>\n",
       "      <td>Renegade</td>\n",
       "    </tr>\n",
       "    <tr>\n",
       "      <th>4S3GTAA67J3747545</th>\n",
       "      <td>NaN</td>\n",
       "      <td>NaN</td>\n",
       "      <td>NaN</td>\n",
       "      <td>Subaru</td>\n",
       "      <td>Impreza</td>\n",
       "    </tr>\n",
       "    <tr>\n",
       "      <th>1C3CCBBG6DN528083</th>\n",
       "      <td>NaN</td>\n",
       "      <td>16.9</td>\n",
       "      <td>NaN</td>\n",
       "      <td>Chrysler</td>\n",
       "      <td>200</td>\n",
       "    </tr>\n",
       "    <tr>\n",
       "      <th>1C4RJFLTXKC690774</th>\n",
       "      <td>NaN</td>\n",
       "      <td>24.6</td>\n",
       "      <td>NaN</td>\n",
       "      <td>Jeep</td>\n",
       "      <td>Grand Cherokee</td>\n",
       "    </tr>\n",
       "    <tr>\n",
       "      <th>1C6SRFKT8KN500431</th>\n",
       "      <td>NaN</td>\n",
       "      <td>26.0</td>\n",
       "      <td>NaN</td>\n",
       "      <td>RAM</td>\n",
       "      <td>1500</td>\n",
       "    </tr>\n",
       "  </tbody>\n",
       "</table>\n",
       "</div>"
      ],
      "text/plain": [
       "                  fuel_type  fuel_tank_volume engine_type make_name  \\\n",
       "vin                                                                   \n",
       "ZACCJBBB9HPF62165       NaN              12.7         NaN      Jeep   \n",
       "4S3GTAA67J3747545       NaN               NaN         NaN    Subaru   \n",
       "1C3CCBBG6DN528083       NaN              16.9         NaN  Chrysler   \n",
       "1C4RJFLTXKC690774       NaN              24.6         NaN      Jeep   \n",
       "1C6SRFKT8KN500431       NaN              26.0         NaN       RAM   \n",
       "\n",
       "                       model_name  \n",
       "vin                                \n",
       "ZACCJBBB9HPF62165        Renegade  \n",
       "4S3GTAA67J3747545         Impreza  \n",
       "1C3CCBBG6DN528083             200  \n",
       "1C4RJFLTXKC690774  Grand Cherokee  \n",
       "1C6SRFKT8KN500431            1500  "
      ]
     },
     "execution_count": 59,
     "metadata": {},
     "output_type": "execute_result"
    }
   ],
   "source": [
    "# Tarkastellaan rivejä, joissa NaN-arvot\n",
    "car_df[car_df['fuel_type'].isna()][['fuel_type','fuel_tank_volume','engine_type','make_name','model_name']].head()"
   ]
  },
  {
   "cell_type": "code",
   "execution_count": 60,
   "id": "a638c9fc",
   "metadata": {},
   "outputs": [
    {
     "data": {
      "text/plain": [
       "0"
      ]
     },
     "execution_count": 60,
     "metadata": {},
     "output_type": "execute_result"
    }
   ],
   "source": [
    "# Koska mallit ovat bensiiniautoja, täytetään NaNit 'Gasoline'lla\n",
    "car_df['fuel_type'].fillna('Gasoline', inplace=True)\n",
    "car_df['fuel_type'].isna().sum()"
   ]
  },
  {
   "cell_type": "code",
   "execution_count": 61,
   "id": "48283c16",
   "metadata": {},
   "outputs": [
    {
     "data": {
      "text/plain": [
       "0"
      ]
     },
     "execution_count": 61,
     "metadata": {},
     "output_type": "execute_result"
    }
   ],
   "source": [
    "# Tarkastetaan myäs 'fuel_tank_volumen' NaN-arvot\n",
    "car_df['fuel_tank_volume'].fillna(car_df.groupby('fuel_type')['fuel_tank_volume'].transform('mean'), inplace=True)\n",
    "car_df['fuel_tank_volume'].isna().sum()"
   ]
  },
  {
   "cell_type": "markdown",
   "id": "670e1670",
   "metadata": {},
   "source": [
    "### Engine type"
   ]
  },
  {
   "cell_type": "code",
   "execution_count": 62,
   "id": "7270aace",
   "metadata": {},
   "outputs": [
    {
     "data": {
      "text/plain": [
       "vin\n",
       "ZACNJABB5KPJ92081           I4\n",
       "SALCJ2FX1LH858117           I4\n",
       "JF1VA2M67G9829723           H4\n",
       "SALRR2RV0L2433391           V6\n",
       "SALCJ2FXXLH862327           I4\n",
       "                       ...    \n",
       "2GNAXJEV0J6261526           I4\n",
       "1GNERFKW0LJ225508           V6\n",
       "3FA6P0HD3GR134062          NaN\n",
       "SAJAJ4BNXHA968809    I4 Diesel\n",
       "JN8AT2MT1HW400805           I4\n",
       "Name: engine_type, Length: 3000040, dtype: object"
      ]
     },
     "execution_count": 62,
     "metadata": {},
     "output_type": "execute_result"
    }
   ],
   "source": [
    "car_df['engine_type']"
   ]
  },
  {
   "cell_type": "code",
   "execution_count": 63,
   "id": "a57c9749",
   "metadata": {},
   "outputs": [
    {
     "name": "stdout",
     "output_type": "stream",
     "text": [
      "count     2899459\n",
      "unique         39\n",
      "top            I4\n",
      "freq      1418291\n",
      "Name: engine_type, dtype: object\n",
      "['I4' 'H4' 'V6' 'I6' 'V6 Diesel' nan 'V8' 'V8 Biodiesel'\n",
      " 'V8 Flex Fuel Vehicle' 'V6 Flex Fuel Vehicle' 'I4 Hybrid' 'V6 Hybrid'\n",
      " 'I3' 'I5' 'I4 Flex Fuel Vehicle' 'I4 Diesel' 'I6 Diesel' 'V8 Diesel' 'R2'\n",
      " 'W12' 'V10' 'V12' 'V6 Biodiesel' 'H6' 'I2' 'W12 Flex Fuel Vehicle'\n",
      " 'I5 Biodiesel' 'V8 Hybrid' 'H4 Hybrid' 'V8 Compressed Natural Gas'\n",
      " 'I6 Hybrid' 'I5 Diesel' 'W8' 'I4 Compressed Natural Gas' 'V10 Diesel'\n",
      " 'W16' 'V8 Propane' 'I3 Hybrid' 'V6 Compressed Natural Gas' 'V12 Hybrid']\n"
     ]
    }
   ],
   "source": [
    "print(car_df['engine_type'].describe())\n",
    "print(car_df['engine_type'].unique())"
   ]
  },
  {
   "cell_type": "code",
   "execution_count": 64,
   "id": "549049a6",
   "metadata": {},
   "outputs": [
    {
     "name": "stdout",
     "output_type": "stream",
     "text": [
      "NaN: 100581\n"
     ]
    }
   ],
   "source": [
    "print(f\"NaN: {car_df['engine_type'].isna().sum()}\")"
   ]
  },
  {
   "cell_type": "code",
   "execution_count": 65,
   "id": "2a904b52",
   "metadata": {},
   "outputs": [
    {
     "data": {
      "text/plain": [
       "array(['I4', 'H4', 'V6', 'I6', nan, 'V8', 'I3', 'I5', 'R2', 'W12', 'V10',\n",
       "       'V12', 'H6', 'I2', 'W8', 'W16'], dtype=object)"
      ]
     },
     "execution_count": 65,
     "metadata": {},
     "output_type": "execute_result"
    }
   ],
   "source": [
    "# Poistetaan turha tietoa moottorimallin perästä.\n",
    "car_df['engine_type'] = car_df['engine_type'].str.split(' ').str[0]\n",
    "car_df['engine_type'].unique()"
   ]
  },
  {
   "cell_type": "code",
   "execution_count": 66,
   "id": "5c36898f",
   "metadata": {},
   "outputs": [
    {
     "data": {
      "text/html": [
       "<div>\n",
       "<style scoped>\n",
       "    .dataframe tbody tr th:only-of-type {\n",
       "        vertical-align: middle;\n",
       "    }\n",
       "\n",
       "    .dataframe tbody tr th {\n",
       "        vertical-align: top;\n",
       "    }\n",
       "\n",
       "    .dataframe thead th {\n",
       "        text-align: right;\n",
       "    }\n",
       "</style>\n",
       "<table border=\"1\" class=\"dataframe\">\n",
       "  <thead>\n",
       "    <tr style=\"text-align: right;\">\n",
       "      <th></th>\n",
       "      <th>make_name</th>\n",
       "      <th>model_name</th>\n",
       "      <th>engine_type</th>\n",
       "      <th>fuel_type</th>\n",
       "    </tr>\n",
       "    <tr>\n",
       "      <th>vin</th>\n",
       "      <th></th>\n",
       "      <th></th>\n",
       "      <th></th>\n",
       "      <th></th>\n",
       "    </tr>\n",
       "  </thead>\n",
       "  <tbody>\n",
       "    <tr>\n",
       "      <th>ZACCJBBB9HPF62165</th>\n",
       "      <td>Jeep</td>\n",
       "      <td>Renegade</td>\n",
       "      <td>NaN</td>\n",
       "      <td>Gasoline</td>\n",
       "    </tr>\n",
       "    <tr>\n",
       "      <th>4S3GTAA67J3747545</th>\n",
       "      <td>Subaru</td>\n",
       "      <td>Impreza</td>\n",
       "      <td>NaN</td>\n",
       "      <td>Gasoline</td>\n",
       "    </tr>\n",
       "    <tr>\n",
       "      <th>1C3CCBBG6DN528083</th>\n",
       "      <td>Chrysler</td>\n",
       "      <td>200</td>\n",
       "      <td>NaN</td>\n",
       "      <td>Gasoline</td>\n",
       "    </tr>\n",
       "    <tr>\n",
       "      <th>1C4RJFLTXKC690774</th>\n",
       "      <td>Jeep</td>\n",
       "      <td>Grand Cherokee</td>\n",
       "      <td>NaN</td>\n",
       "      <td>Gasoline</td>\n",
       "    </tr>\n",
       "    <tr>\n",
       "      <th>1C6SRFKT8KN500431</th>\n",
       "      <td>RAM</td>\n",
       "      <td>1500</td>\n",
       "      <td>NaN</td>\n",
       "      <td>Gasoline</td>\n",
       "    </tr>\n",
       "  </tbody>\n",
       "</table>\n",
       "</div>"
      ],
      "text/plain": [
       "                  make_name      model_name engine_type fuel_type\n",
       "vin                                                              \n",
       "ZACCJBBB9HPF62165      Jeep        Renegade         NaN  Gasoline\n",
       "4S3GTAA67J3747545    Subaru         Impreza         NaN  Gasoline\n",
       "1C3CCBBG6DN528083  Chrysler             200         NaN  Gasoline\n",
       "1C4RJFLTXKC690774      Jeep  Grand Cherokee         NaN  Gasoline\n",
       "1C6SRFKT8KN500431       RAM            1500         NaN  Gasoline"
      ]
     },
     "execution_count": 66,
     "metadata": {},
     "output_type": "execute_result"
    }
   ],
   "source": [
    "# Tarkastellaan, millä autoilla NaN-arvot\n",
    "car_df.loc[car_df['engine_type'].isna(), ['make_name', 'model_name', 'engine_type', 'fuel_type']].head()"
   ]
  },
  {
   "cell_type": "code",
   "execution_count": 67,
   "id": "94886e60",
   "metadata": {},
   "outputs": [],
   "source": [
    "# Täytetään \"Electric\" \"Electric Motor\":lla ja \"Gasoline\" \"Gasoline engine\":lla\n",
    "car_df.loc[(car_df['engine_type'].isna()) & (car_df['fuel_type'] == \"Electric\"), 'engine_type'] = \"Electric Motor\"\n",
    "car_df.loc[(car_df['engine_type'].isna()) & (car_df['fuel_type'] == \"Gasoline\"), 'engine_type'] = \"Gasoline engine\""
   ]
  },
  {
   "cell_type": "code",
   "execution_count": 68,
   "id": "22ead594",
   "metadata": {},
   "outputs": [
    {
     "name": "stdout",
     "output_type": "stream",
     "text": [
      "NaN: 830\n"
     ]
    }
   ],
   "source": [
    "print(f\"NaN: {car_df['engine_type'].isna().sum()}\")"
   ]
  },
  {
   "cell_type": "code",
   "execution_count": 69,
   "id": "15e8091c",
   "metadata": {},
   "outputs": [
    {
     "data": {
      "text/html": [
       "<div>\n",
       "<style scoped>\n",
       "    .dataframe tbody tr th:only-of-type {\n",
       "        vertical-align: middle;\n",
       "    }\n",
       "\n",
       "    .dataframe tbody tr th {\n",
       "        vertical-align: top;\n",
       "    }\n",
       "\n",
       "    .dataframe thead th {\n",
       "        text-align: right;\n",
       "    }\n",
       "</style>\n",
       "<table border=\"1\" class=\"dataframe\">\n",
       "  <thead>\n",
       "    <tr style=\"text-align: right;\">\n",
       "      <th></th>\n",
       "      <th>make_name</th>\n",
       "      <th>model_name</th>\n",
       "      <th>engine_type</th>\n",
       "      <th>fuel_type</th>\n",
       "    </tr>\n",
       "    <tr>\n",
       "      <th>vin</th>\n",
       "      <th></th>\n",
       "      <th></th>\n",
       "      <th></th>\n",
       "      <th></th>\n",
       "    </tr>\n",
       "  </thead>\n",
       "  <tbody>\n",
       "    <tr>\n",
       "      <th>1FDAW57R18EA08459</th>\n",
       "      <td>Ford</td>\n",
       "      <td>F-550 Super Duty Chassis</td>\n",
       "      <td>NaN</td>\n",
       "      <td>Diesel</td>\n",
       "    </tr>\n",
       "    <tr>\n",
       "      <th>1FDAF57R98EC86980</th>\n",
       "      <td>Ford</td>\n",
       "      <td>F-550 Super Duty Chassis</td>\n",
       "      <td>NaN</td>\n",
       "      <td>Diesel</td>\n",
       "    </tr>\n",
       "    <tr>\n",
       "      <th>3C7WRMDL2DG554902</th>\n",
       "      <td>RAM</td>\n",
       "      <td>5500 Chassis</td>\n",
       "      <td>NaN</td>\n",
       "      <td>Diesel</td>\n",
       "    </tr>\n",
       "    <tr>\n",
       "      <th>1FDUF5HT9KDA03658</th>\n",
       "      <td>Ford</td>\n",
       "      <td>F-550 Super Duty Chassis</td>\n",
       "      <td>NaN</td>\n",
       "      <td>Diesel</td>\n",
       "    </tr>\n",
       "    <tr>\n",
       "      <th>1FDUF5HT3KDA08497</th>\n",
       "      <td>Ford</td>\n",
       "      <td>F-550 Super Duty Chassis</td>\n",
       "      <td>NaN</td>\n",
       "      <td>Diesel</td>\n",
       "    </tr>\n",
       "  </tbody>\n",
       "</table>\n",
       "</div>"
      ],
      "text/plain": [
       "                  make_name                model_name engine_type fuel_type\n",
       "vin                                                                        \n",
       "1FDAW57R18EA08459      Ford  F-550 Super Duty Chassis         NaN    Diesel\n",
       "1FDAF57R98EC86980      Ford  F-550 Super Duty Chassis         NaN    Diesel\n",
       "3C7WRMDL2DG554902       RAM              5500 Chassis         NaN    Diesel\n",
       "1FDUF5HT9KDA03658      Ford  F-550 Super Duty Chassis         NaN    Diesel\n",
       "1FDUF5HT3KDA08497      Ford  F-550 Super Duty Chassis         NaN    Diesel"
      ]
     },
     "execution_count": 69,
     "metadata": {},
     "output_type": "execute_result"
    }
   ],
   "source": [
    "car_df.loc[car_df['engine_type'].isna(), ['make_name', 'model_name', 'engine_type', 'fuel_type']].head()"
   ]
  },
  {
   "cell_type": "code",
   "execution_count": 70,
   "id": "e69303b5",
   "metadata": {},
   "outputs": [
    {
     "name": "stdout",
     "output_type": "stream",
     "text": [
      "NaN: 0\n"
     ]
    }
   ],
   "source": [
    "# Täytetään tyhjän arvot 'Dieselillä', sillä näiden rivien 'fuel_type' on diesel\n",
    "car_df.loc[(car_df['engine_type'].isna()) & (car_df['fuel_type'] == \"Diesel\"), 'engine_type'] = \"Diesel engine\"\n",
    "print(f\"NaN: {car_df['engine_type'].isna().sum()}\")"
   ]
  },
  {
   "cell_type": "markdown",
   "id": "e8a965d0",
   "metadata": {},
   "source": [
    "### Height"
   ]
  },
  {
   "cell_type": "code",
   "execution_count": 71,
   "id": "b88ca9c6",
   "metadata": {},
   "outputs": [
    {
     "data": {
      "text/plain": [
       "vin\n",
       "ZACNJABB5KPJ92081    66.5 in\n",
       "SALCJ2FX1LH858117      68 in\n",
       "JF1VA2M67G9829723    58.1 in\n",
       "SALRR2RV0L2433391      73 in\n",
       "SALCJ2FXXLH862327      68 in\n",
       "                      ...   \n",
       "2GNAXJEV0J6261526    65.4 in\n",
       "1GNERFKW0LJ225508    70.7 in\n",
       "3FA6P0HD3GR134062    58.2 in\n",
       "SAJAJ4BNXHA968809    55.7 in\n",
       "JN8AT2MT1HW400805    68.1 in\n",
       "Name: height, Length: 3000040, dtype: object"
      ]
     },
     "execution_count": 71,
     "metadata": {},
     "output_type": "execute_result"
    }
   ],
   "source": [
    "car_df['height']"
   ]
  },
  {
   "cell_type": "code",
   "execution_count": 72,
   "id": "56365868",
   "metadata": {},
   "outputs": [
    {
     "name": "stdout",
     "output_type": "stream",
     "text": [
      "count     2840771\n",
      "unique        472\n",
      "top       66.1 in\n",
      "freq        85164\n",
      "Name: height, dtype: object\n",
      "NaN: 159269\n"
     ]
    }
   ],
   "source": [
    "print(car_df['height'].describe())\n",
    "print(f\"NaN: {car_df['height'].isna().sum()}\")"
   ]
  },
  {
   "cell_type": "code",
   "execution_count": 73,
   "id": "bde9cc56",
   "metadata": {},
   "outputs": [
    {
     "data": {
      "text/plain": [
       "vin\n",
       "ZACNJABB5KPJ92081    66.5\n",
       "SALCJ2FX1LH858117      68\n",
       "JF1VA2M67G9829723    58.1\n",
       "SALRR2RV0L2433391      73\n",
       "SALCJ2FXXLH862327      68\n",
       "                     ... \n",
       "2GNAXJEV0J6261526    65.4\n",
       "1GNERFKW0LJ225508    70.7\n",
       "3FA6P0HD3GR134062    58.2\n",
       "SAJAJ4BNXHA968809    55.7\n",
       "JN8AT2MT1HW400805    68.1\n",
       "Name: height, Length: 3000040, dtype: object"
      ]
     },
     "execution_count": 73,
     "metadata": {},
     "output_type": "execute_result"
    }
   ],
   "source": [
    "car_df['height'] = car_df['height'].str.split(' ').str[0]\n",
    "car_df['height']"
   ]
  },
  {
   "cell_type": "code",
   "execution_count": 74,
   "id": "29848819",
   "metadata": {},
   "outputs": [],
   "source": [
    "# Otetaan vain lukuarvo talteen, korvataat arvot \"--\", muutetaan floateiksi ja täytetään tyhjät arvot\n",
    "# keskiarvolla.\n",
    "car_df['height'].replace('--', np.nan, inplace=True)\n",
    "car_df['height'] = pd.to_numeric(car_df['height'], downcast='float')\n",
    "car_df['height'].fillna(car_df['height'].mean(), inplace=True)"
   ]
  },
  {
   "cell_type": "code",
   "execution_count": 75,
   "id": "5585a7c1",
   "metadata": {},
   "outputs": [],
   "source": [
    "car_df['height'].fillna(car_df['height'].mean(), inplace=True)"
   ]
  },
  {
   "cell_type": "code",
   "execution_count": 76,
   "id": "f7dd3c8c",
   "metadata": {},
   "outputs": [
    {
     "data": {
      "text/plain": [
       "0"
      ]
     },
     "execution_count": 76,
     "metadata": {},
     "output_type": "execute_result"
    }
   ],
   "source": [
    "car_df['height'].isna().sum()"
   ]
  },
  {
   "cell_type": "markdown",
   "id": "3cf1e55c",
   "metadata": {},
   "source": [
    "### Horsepower"
   ]
  },
  {
   "cell_type": "code",
   "execution_count": 77,
   "id": "31e296fd",
   "metadata": {},
   "outputs": [
    {
     "data": {
      "text/plain": [
       "vin\n",
       "ZACNJABB5KPJ92081    177.0\n",
       "SALCJ2FX1LH858117    246.0\n",
       "JF1VA2M67G9829723    305.0\n",
       "SALRR2RV0L2433391    340.0\n",
       "SALCJ2FXXLH862327    246.0\n",
       "                     ...  \n",
       "2GNAXJEV0J6261526    170.0\n",
       "1GNERFKW0LJ225508    310.0\n",
       "3FA6P0HD3GR134062    240.0\n",
       "SAJAJ4BNXHA968809    180.0\n",
       "JN8AT2MT1HW400805    170.0\n",
       "Name: horsepower, Length: 3000040, dtype: float64"
      ]
     },
     "execution_count": 77,
     "metadata": {},
     "output_type": "execute_result"
    }
   ],
   "source": [
    "car_df['horsepower']"
   ]
  },
  {
   "cell_type": "code",
   "execution_count": 78,
   "id": "633f7bdb",
   "metadata": {},
   "outputs": [
    {
     "name": "stdout",
     "output_type": "stream",
     "text": [
      "NaN: 172386\n",
      "count    2.827654e+06\n",
      "mean     2.479957e+02\n",
      "std      9.046639e+01\n",
      "min      5.500000e+01\n",
      "25%      1.750000e+02\n",
      "50%      2.440000e+02\n",
      "75%      3.000000e+02\n",
      "max      1.001000e+03\n",
      "Name: horsepower, dtype: float64\n"
     ]
    }
   ],
   "source": [
    "print(f\"NaN: {car_df['horsepower'].isna().sum()}\")\n",
    "print(car_df['horsepower'].describe())"
   ]
  },
  {
   "cell_type": "code",
   "execution_count": 79,
   "id": "062625f3",
   "metadata": {},
   "outputs": [
    {
     "data": {
      "text/plain": [
       "0"
      ]
     },
     "execution_count": 79,
     "metadata": {},
     "output_type": "execute_result"
    }
   ],
   "source": [
    "# Täytetään NaN-arvot yleisimmällä arvolla\n",
    "car_df['horsepower'].fillna(car_df['horsepower'].mode()[0], inplace=True)\n",
    "car_df['horsepower'].isna().sum()"
   ]
  },
  {
   "cell_type": "markdown",
   "id": "08e49c9e",
   "metadata": {},
   "source": [
    "### Interior color"
   ]
  },
  {
   "cell_type": "code",
   "execution_count": 80,
   "id": "2529585f",
   "metadata": {},
   "outputs": [
    {
     "data": {
      "text/plain": [
       "vin\n",
       "ZACNJABB5KPJ92081                       Black\n",
       "SALCJ2FX1LH858117               Black (Ebony)\n",
       "JF1VA2M67G9829723                        None\n",
       "SALRR2RV0L2433391    Gray (Ebony/Ebony/Ebony)\n",
       "SALCJ2FXXLH862327               Black (Ebony)\n",
       "                               ...           \n",
       "2GNAXJEV0J6261526                       Black\n",
       "1GNERFKW0LJ225508                   Jet Black\n",
       "3FA6P0HD3GR134062                        None\n",
       "SAJAJ4BNXHA968809                       Cream\n",
       "JN8AT2MT1HW400805                        None\n",
       "Name: interior_color, Length: 3000040, dtype: object"
      ]
     },
     "execution_count": 80,
     "metadata": {},
     "output_type": "execute_result"
    }
   ],
   "source": [
    "car_df['interior_color']"
   ]
  },
  {
   "cell_type": "code",
   "execution_count": 81,
   "id": "663d3a0a",
   "metadata": {},
   "outputs": [
    {
     "name": "stdout",
     "output_type": "stream",
     "text": [
      "NaN: 165\n",
      "['Black' 'Black (Ebony)' 'None' ... 'White (Jet Blk/kalahari Cloth)'\n",
      " 'Red (Jet Blk/kalahari Perf Leather)' 'White (Medium Pewter Custom)']\n",
      "count     2999875\n",
      "unique      45726\n",
      "top         Black\n",
      "freq       871393\n",
      "Name: interior_color, dtype: object\n"
     ]
    }
   ],
   "source": [
    "\n",
    "print(f\"NaN: {car_df['interior_color'].isna().sum()}\")\n",
    "\n",
    "print(car_df['interior_color'].unique())\n",
    "print(car_df['interior_color'].describe())"
   ]
  },
  {
   "cell_type": "code",
   "execution_count": 82,
   "id": "50eef6d6",
   "metadata": {},
   "outputs": [],
   "source": [
    "car_df['interior_color'].fillna('Black', inplace=True)"
   ]
  },
  {
   "cell_type": "code",
   "execution_count": 83,
   "id": "63ba2304",
   "metadata": {},
   "outputs": [
    {
     "data": {
      "text/plain": [
       "Black                 1572878\n",
       "                       643434\n",
       "Gray                   374044\n",
       "White                   91440\n",
       "Brown                   74539\n",
       "                       ...   \n",
       "Blue, Gray, Silver          1\n",
       "Purple, Green               1\n",
       "Gold, White                 1\n",
       "Silver, Green               1\n",
       "Orange, Brown               1\n",
       "Name: interior_color, Length: 80, dtype: int64"
      ]
     },
     "execution_count": 83,
     "metadata": {},
     "output_type": "execute_result"
    }
   ],
   "source": [
    "# Tehdään samaan tyyliin kuin exterior_colorin kanssa. Jaetaan data pienempiin ryhmiin.\n",
    "colors = ['White', 'Black', 'Gray', 'Silver', \n",
    "          'Red', 'Blue', 'Brown', 'Green', \n",
    "          'Beige', 'Orange', 'Gold', 'Yellow', 'Purple']\n",
    "\n",
    "car_df['interior_color'] = car_df['interior_color'].str.findall('|'.join(colors)).apply(set).str.join(', ')\n",
    "car_df['interior_color'].value_counts()"
   ]
  },
  {
   "cell_type": "code",
   "execution_count": 84,
   "id": "6ac0afd1",
   "metadata": {},
   "outputs": [
    {
     "data": {
      "text/plain": [
       "Black          1572878\n",
       "Other Color     643434\n",
       "Gray            374044\n",
       "Mixed Color     158338\n",
       "White            91440\n",
       "Brown            74539\n",
       "Red              33757\n",
       "Silver           24135\n",
       "Blue             22788\n",
       "Green             2056\n",
       "Gold              1191\n",
       "Orange            1117\n",
       "Yellow             156\n",
       "Purple             122\n",
       "Beige               45\n",
       "Name: interior_color, dtype: int64"
      ]
     },
     "execution_count": 84,
     "metadata": {},
     "output_type": "execute_result"
    }
   ],
   "source": [
    "car_df.loc[car_df['interior_color'].str.contains(','), 'interior_color'] = 'Mixed Color'\n",
    "car_df['interior_color'].replace(\"\", \"Other Color\", inplace=True)\n",
    "car_df['interior_color'].value_counts()"
   ]
  },
  {
   "cell_type": "markdown",
   "id": "76f522f1",
   "metadata": {},
   "source": [
    "### Lenght"
   ]
  },
  {
   "cell_type": "code",
   "execution_count": 85,
   "id": "9c8bb56f",
   "metadata": {},
   "outputs": [
    {
     "data": {
      "text/plain": [
       "vin\n",
       "ZACNJABB5KPJ92081    166.6 in\n",
       "SALCJ2FX1LH858117      181 in\n",
       "JF1VA2M67G9829723    180.9 in\n",
       "SALRR2RV0L2433391    195.1 in\n",
       "SALCJ2FXXLH862327      181 in\n",
       "                       ...   \n",
       "2GNAXJEV0J6261526    183.1 in\n",
       "1GNERFKW0LJ225508    204.3 in\n",
       "3FA6P0HD3GR134062    191.7 in\n",
       "SAJAJ4BNXHA968809    183.9 in\n",
       "JN8AT2MT1HW400805    184.5 in\n",
       "Name: length, Length: 3000040, dtype: object"
      ]
     },
     "execution_count": 85,
     "metadata": {},
     "output_type": "execute_result"
    }
   ],
   "source": [
    "car_df['length']"
   ]
  },
  {
   "cell_type": "code",
   "execution_count": 86,
   "id": "58d59399",
   "metadata": {},
   "outputs": [
    {
     "name": "stdout",
     "output_type": "stream",
     "text": [
      "NaN: 159269\n",
      "count      2840771\n",
      "unique         836\n",
      "top       231.9 in\n",
      "freq         97716\n",
      "Name: length, dtype: object\n"
     ]
    }
   ],
   "source": [
    "print(f\"NaN: {car_df['length'].isna().sum()}\")\n",
    "print(car_df['length'].describe())"
   ]
  },
  {
   "cell_type": "code",
   "execution_count": 87,
   "id": "1067f8d9",
   "metadata": {},
   "outputs": [
    {
     "data": {
      "text/plain": [
       "array(['166.6 in', '181 in', '180.9 in', '195.1 in', '188.9 in',\n",
       "       '183.5 in', '172.1 in', '157.5 in', '182.5 in', '168.3 in',\n",
       "       '179.1 in', '179.9 in', '193.8 in', '184.8 in', '204.3 in',\n",
       "       '203.7 in', '189.8 in', '175.1 in', nan, '166.9 in', '181.1 in',\n",
       "       '192.3 in', '191.7 in', '187.8 in', '192.1 in', '173.4 in',\n",
       "       '201.2 in', '188.4 in', '182.3 in', '183.1 in', '200.8 in',\n",
       "       '230 in', '183.3 in', '192.5 in', '191.1 in', '198.3 in', '210 in',\n",
       "       '189.9 in', '192.6 in', '203.9 in', '176.2 in', '174.7 in',\n",
       "       '203.6 in', '224.4 in', '188.3 in', '167.6 in', '183.9 in',\n",
       "       '175.3 in', '173 in', '184.9 in', '192.8 in', '182 in', '175.6 in',\n",
       "       '189.2 in', '174.5 in', '196.9 in', '191.5 in', '197.6 in',\n",
       "       '183.7 in', '250 in', '224.9 in', '198.5 in', '204 in', '198.4 in',\n",
       "       '224 in', '199.4 in', '191.4 in', '187.4 in', '190.3 in',\n",
       "       '232.9 in', '231.7 in', '197.5 in', '196.8 in', '201.3 in',\n",
       "       '190.8 in', '186.3 in', '178.2 in', '191 in', '229 in', '193.1 in',\n",
       "       '239.5 in', '184.4 in', '190.9 in', '212 in', '179.4 in',\n",
       "       '202.8 in', '192 in', '191.9 in', '203.8 in', '180.7 in', '183 in',\n",
       "       '179.3 in', '205.3 in', '184.5 in', '180.6 in', '172.4 in',\n",
       "       '178.3 in', '175 in', '195.6 in', '216.7 in', '187.6 in',\n",
       "       '173.8 in', '184.1 in', '200.6 in', '200 in', '192.9 in',\n",
       "       '175.4 in', '175.5 in', '194.5 in', '182.2 in', '188.2 in',\n",
       "       '239.6 in', '182.6 in', '186.1 in', '182.9 in', '212.4 in',\n",
       "       '192.4 in', '190.7 in', '200.4 in', '182.1 in', '177 in',\n",
       "       '212.3 in', '185.1 in', '185.2 in', '189.5 in', '224.2 in',\n",
       "       '190.6 in', '186.7 in', '187 in', '179.5 in', '193 in', '181.5 in',\n",
       "       '197 in', '224.3 in', '188 in', '196.2 in', '225.8 in', '174.8 in',\n",
       "       '189.6 in', '182.8 in', '173.9 in', '188.7 in', '172.2 in',\n",
       "       '176.9 in', '209 in', '206.5 in', '212.7 in', '183.6 in',\n",
       "       '185.5 in', '205 in', '197.9 in', '195.5 in', '188.8 in',\n",
       "       '175.2 in', '196.1 in', '191.3 in', '160.1 in', '176.4 in',\n",
       "       '178.1 in', '177.3 in', '201.4 in', '202.9 in', '194.4 in',\n",
       "       '181.8 in', '193.9 in', '209.3 in', '162.8 in', '202.5 in',\n",
       "       '159.6 in', '163 in', '165.2 in', '231.9 in', '194.6 in',\n",
       "       '178.7 in', '183.4 in', '197.2 in', '185.7 in', '185 in',\n",
       "       '171.5 in', '168 in', '182.7 in', '191.8 in', '190.4 in',\n",
       "       '185.6 in', '162.2 in', '171.6 in', '176.6 in', '202 in',\n",
       "       '229.5 in', '193.4 in', '160 in', '229.9 in', '--', '185.3 in',\n",
       "       '149.4 in', '189 in', '178.9 in', '155.5 in', '248.4 in',\n",
       "       '203.2 in', '176.8 in', '222.9 in', '175.8 in', '180 in',\n",
       "       '197.1 in', '189.1 in', '202.1 in', '195.7 in', '169.3 in',\n",
       "       '229.8 in', '169.1 in', '211.9 in', '181.9 in', '178.5 in',\n",
       "       '188.5 in', '201 in', '187.2 in', '200.9 in', '186.8 in',\n",
       "       '191.6 in', '152.8 in', '195.8 in', '171.7 in', '190.2 in',\n",
       "       '193.3 in', '179.2 in', '187.1 in', '176.7 in', '206.8 in',\n",
       "       '188.1 in', '213.7 in', '184.6 in', '161.6 in', '207.6 in',\n",
       "       '172 in', '194.2 in', '201.9 in', '173.6 in', '207.7 in',\n",
       "       '180.3 in', '166.8 in', '203.1 in', '263.9 in', '197.7 in',\n",
       "       '180.1 in', '200.2 in', '177.9 in', '187.9 in', '176 in',\n",
       "       '194.1 in', '189.3 in', '193.6 in', '203 in', '179.6 in',\n",
       "       '174.3 in', '186.4 in', '154.1 in', '232 in', '200.5 in',\n",
       "       '173.5 in', '178.4 in', '171.9 in', '172.6 in', '185.9 in',\n",
       "       '199.6 in', '228.9 in', '243.7 in', '198.6 in', '192.2 in',\n",
       "       '180.2 in', '168.8 in', '174.9 in', '190 in', '174.4 in',\n",
       "       '206.6 in', '189.7 in', '179.7 in', '218 in', '193.2 in',\n",
       "       '201.6 in', '169.4 in', '202.4 in', '238.8 in', '145.6 in',\n",
       "       '201.7 in', '186.9 in', '195.4 in', '206.9 in', '194.9 in',\n",
       "       '207.3 in', '210.7 in', '244.1 in', '260.8 in', '205.8 in',\n",
       "       '202.6 in', '224.5 in', '241.8 in', '174.2 in', '200.1 in',\n",
       "       '198 in', '208.9 in', '193.5 in', '184.3 in', '197.3 in',\n",
       "       '175.9 in', '194 in', '197.4 in', '174.6 in', '192.7 in',\n",
       "       '172.8 in', '184.2 in', '248.6 in', '222.4 in', '191.2 in',\n",
       "       '167.2 in', '164 in', '208.1 in', '168.4 in', '204.1 in',\n",
       "       '207.4 in', '199.8 in', '180.5 in', '202.2 in', '177.6 in',\n",
       "       '161.1 in', '170.1 in', '169.9 in', '173.2 in', '157.4 in',\n",
       "       '196.5 in', '190.5 in', '226.4 in', '177.8 in', '177.4 in',\n",
       "       '221.9 in', '198.8 in', '167.3 in', '204.9 in', '186.2 in',\n",
       "       '163.8 in', '208.3 in', '184.7 in', '235.8 in', '166.1 in',\n",
       "       '202.3 in', '196.3 in', '165 in', '183.8 in', '289.8 in', '162 in',\n",
       "       '168.7 in', '179 in', '205.6 in', '159 in', '161.3 in', '186.5 in',\n",
       "       '159.1 in', '159.3 in', '221.3 in', '156.7 in', '254.4 in',\n",
       "       '198.9 in', '170.9 in', '164.5 in', '139.6 in', '235.5 in',\n",
       "       '222.3 in', '200.7 in', '171.3 in', '194.3 in', '194.7 in',\n",
       "       '203.3 in', '187.3 in', '196.4 in', '199.9 in', '167 in',\n",
       "       '199.1 in', '171 in', '193.7 in', '181.3 in', '196.6 in',\n",
       "       '157.3 in', '214.7 in', '195 in', '224.1 in', '237.4 in',\n",
       "       '199.2 in', '205.5 in', '187.5 in', '201.8 in', '266.2 in',\n",
       "       '207.2 in', '176.5 in', '237.6 in', '196.7 in', '204.7 in',\n",
       "       '174 in', '215 in', '230.6 in', '161.8 in', '250.1 in', '237.9 in',\n",
       "       '169.5 in', '169.8 in', '199.3 in', '195.3 in', '166.7 in',\n",
       "       '219.9 in', '200.3 in', '230.2 in', '179.8 in', '168.5 in',\n",
       "       '227.7 in', '218.9 in', '243.2 in', '186 in', '170.3 in', '196 in',\n",
       "       '224.7 in', '177.1 in', '232.5 in', '178.8 in', '166 in', '263 in',\n",
       "       '164.6 in', '164.3 in', '106.1 in', '184 in', '171.2 in',\n",
       "       '215.4 in', '158.7 in', '170.5 in', '225.5 in', '246.8 in',\n",
       "       '161.5 in', '205.1 in', '210.8 in', '195.9 in', '246.2 in',\n",
       "       '190.1 in', '160.5 in', '162.4 in', '231.8 in', '229.7 in',\n",
       "       '236.7 in', '186.6 in', '146.2 in', '253.3 in', '180.4 in',\n",
       "       '207.1 in', '266.7 in', '247.5 in', '178.6 in', '262 in',\n",
       "       '261.9 in', '228.7 in', '254.8 in', '217.8 in', '237.3 in',\n",
       "       '172.5 in', '225 in', '240.2 in', '232.4 in', '261 in', '249.7 in',\n",
       "       '239.9 in', '157.8 in', '159.7 in', '144.7 in', '218.3 in',\n",
       "       '230.3 in', '226.7 in', '227.6 in', '144.4 in', '227 in',\n",
       "       '240.6 in', '222 in', '150.9 in', '208.4 in', '259.1 in',\n",
       "       '195.2 in', '176.3 in', '158.3 in', '167.5 in', '163.7 in',\n",
       "       '170.7 in', '194.8 in', '164.9 in', '224.6 in', '229.4 in',\n",
       "       '163.1 in', '182.4 in', '237.2 in', '218.8 in', '218.5 in',\n",
       "       '228.5 in', '230.1 in', '248.3 in', '236.4 in', '211.2 in',\n",
       "       '258.7 in', '210.2 in', '208.7 in', '219.5 in', '159.8 in',\n",
       "       '205.7 in', '154.7 in', '246.6 in', '202.7 in', '213.1 in',\n",
       "       '226.9 in', '266.1 in', '181.2 in', '258.4 in', '213.2 in',\n",
       "       '151.9 in', '166.5 in', '150.6 in', '154.3 in', '170.4 in',\n",
       "       '161.7 in', '168.2 in', '171.4 in', '248.8 in', '221.6 in',\n",
       "       '219.4 in', '212.6 in', '205.9 in', '249 in', '225.9 in',\n",
       "       '249.9 in', '189.4 in', '177.2 in', '171.1 in', '149 in',\n",
       "       '259.3 in', '120.1 in', '181.6 in', '231 in', '244 in', '247.6 in',\n",
       "       '250.3 in', '177.5 in', '160.4 in', '158 in', '198.1 in',\n",
       "       '177.7 in', '164.8 in', '221.7 in', '143.9 in', '226.2 in',\n",
       "       '236.2 in', '223.3 in', '231.2 in', '247.4 in', '168.9 in',\n",
       "       '173.7 in', '250.9 in', '236 in', '229.3 in', '206.2 in',\n",
       "       '155.4 in', '161.4 in', '248 in', '150.1 in', '206 in', '165.9 in',\n",
       "       '264.2 in', '208.5 in', '220.9 in', '227.2 in', '178 in',\n",
       "       '208.6 in', '207.9 in', '172.9 in', '169 in', '220.8 in',\n",
       "       '219.3 in', '163.3 in', '183.2 in', '165.4 in', '201.1 in',\n",
       "       '165.8 in', '237 in', '154.9 in', '245.8 in', '162.9 in',\n",
       "       '228.2 in', '205.2 in', '180.8 in', '228.1 in', '164.7 in',\n",
       "       '243.4 in', '169.6 in', '242.8 in', '227.9 in', '250.5 in',\n",
       "       '160.7 in', '167.7 in', '252.7 in', '143.1 in', '173.1 in',\n",
       "       '158.5 in', '203.4 in', '206.1 in', '181.7 in', '233.3 in',\n",
       "       '215.8 in', '211.4 in', '161.9 in', '273.2 in', '274.1 in',\n",
       "       '152.5 in', '233.5 in', '207.8 in', '207 in', '238.2 in', '290 in',\n",
       "       '188.6 in', '248.9 in', '174.1 in', '225.7 in', '217 in',\n",
       "       '155.8 in', '247.8 in', '148.8 in', '223.8 in', '164.2 in',\n",
       "       '204.4 in', '259.4 in', '231.4 in', '167.8 in', '226 in',\n",
       "       '220.3 in', '152.7 in', '240.5 in', '282.3 in', '239.8 in',\n",
       "       '225.3 in', '270.3 in', '206.7 in', '155 in', '286.5 in',\n",
       "       '241.1 in', '262.4 in', '263.6 in', '271.5 in', '226.5 in',\n",
       "       '234.3 in', '185.4 in', '225.2 in', '148 in', '269.5 in',\n",
       "       '167.4 in', '151.1 in', '165.3 in', '159.4 in', '217.5 in',\n",
       "       '211 in', '214.1 in', '187.7 in', '220.6 in', '147.7 in',\n",
       "       '265.2 in', '249.2 in', '185.8 in', '142.8 in', '225.1 in',\n",
       "       '172.3 in', '201.5 in', '249.5 in', '215.1 in', '215.3 in',\n",
       "       '226.6 in', '230.7 in', '274.3 in', '167.1 in', '289.2 in',\n",
       "       '247.2 in', '106.3 in', '229.6 in', '258.3 in', '176.1 in',\n",
       "       '168.1 in', '227.4 in', '261.1 in', '153.5 in', '230.4 in',\n",
       "       '235.3 in', '155.3 in', '172.7 in', '209.7 in', '220 in',\n",
       "       '227.5 in', '207.5 in', '209.1 in', '211.5 in', '211.8 in',\n",
       "       '169.7 in', '166.2 in', '274.2 in', '147 in', '153 in', '245.6 in',\n",
       "       '222.1 in', '163.2 in', '256.5 in', '157.1 in', '208 in', '266 in',\n",
       "       '225.6 in', '209.8 in', '221.4 in', '199 in', '204.6 in', '157 in',\n",
       "       '151.8 in', '203.5 in', '157.2 in', '222.2 in', '248.7 in',\n",
       "       '267.2 in', '163.5 in', '250.4 in', '206.4 in', '219 in',\n",
       "       '198.2 in', '211.1 in', '163.4 in', '158.1 in', '258.5 in',\n",
       "       '220.1 in', '156.1 in', '246.5 in', '239 in', '256.2 in',\n",
       "       '247.9 in', '239.7 in', '232.1 in', '162.6 in', '261.8 in',\n",
       "       '263.4 in', '246.7 in', '250.6 in', '214.8 in', '204.8 in',\n",
       "       '152.6 in', '234 in', '149.5 in', '247.7 in', '243.9 in',\n",
       "       '242.7 in', '256.1 in', '197.8 in', '212.2 in', '146.8 in',\n",
       "       '205.4 in', '165.7 in', '244.4 in', '243.6 in', '165.6 in',\n",
       "       '251.9 in', '220.2 in', '216 in', '167.9 in', '170.2 in',\n",
       "       '155.9 in', '213.3 in', '232.2 in', '247 in', '157.9 in',\n",
       "       '175.7 in', '217.7 in', '165.1 in', '154 in', '170 in', '274.5 in',\n",
       "       '171.8 in', '152 in', '164.4 in', '168.6 in', '230.5 in',\n",
       "       '244.2 in', '219.1 in', '206.3 in', '284.8 in', '162.1 in',\n",
       "       '241.4 in', '221 in', '249.4 in', '212.8 in', '155.7 in',\n",
       "       '214.2 in', '204.2 in', '263.2 in', '263.5 in', '285.9 in',\n",
       "       '244.3 in', '198.7 in', '248.5 in', '241.2 in', '238.9 in',\n",
       "       '254 in', '241.3 in', '199.7 in', '213.4 in', '210.6 in', '144 in',\n",
       "       '255.1 in', '156 in', '234.5 in', '257.6 in', '218.7 in',\n",
       "       '155.1 in', '166.3 in', '148.5 in', '156.4 in', '153.1 in',\n",
       "       '151.6 in', '160.2 in', '213 in', '254.3 in', '109.3 in',\n",
       "       '147.2 in', '287.2 in', '254.1 in', '246.9 in', '214 in',\n",
       "       '218.2 in', '215.7 in', '223 in', '142 in', '294.1 in', '231.3 in',\n",
       "       '160.9 in', '159.5 in', '235.1 in'], dtype=object)"
      ]
     },
     "execution_count": 87,
     "metadata": {},
     "output_type": "execute_result"
    }
   ],
   "source": [
    "car_df['length'].unique()"
   ]
  },
  {
   "cell_type": "code",
   "execution_count": 88,
   "id": "f6261661",
   "metadata": {},
   "outputs": [],
   "source": [
    "# Otetaan vain lukuarvo talteen, korvataat arvot \"--\", muutetaan floateiksi\n",
    "car_df['length'] = car_df['length'].str.split(\" \").str[0]\n",
    "car_df['length'].replace(\"--\", np.nan, inplace=True)\n",
    "car_df['length'] = pd.to_numeric(car_df['length'], downcast='float')"
   ]
  },
  {
   "cell_type": "code",
   "execution_count": 89,
   "id": "bf979cca",
   "metadata": {},
   "outputs": [
    {
     "data": {
      "text/plain": [
       "count    2.840314e+06\n",
       "mean     1.936891e+02\n",
       "std      2.022106e+01\n",
       "min      1.061000e+02\n",
       "25%      1.820000e+02\n",
       "50%      1.899000e+02\n",
       "75%      2.008000e+02\n",
       "max      2.941000e+02\n",
       "Name: length, dtype: float64"
      ]
     },
     "execution_count": 89,
     "metadata": {},
     "output_type": "execute_result"
    }
   ],
   "source": [
    "car_df['length'].describe()"
   ]
  },
  {
   "cell_type": "code",
   "execution_count": 90,
   "id": "822c378e",
   "metadata": {},
   "outputs": [],
   "source": [
    "# Täytetään tyhjät arvot mediaanilla\n",
    "car_df['length'].fillna(car_df['length'].median(), inplace=True)"
   ]
  },
  {
   "cell_type": "code",
   "execution_count": 91,
   "id": "5b214925",
   "metadata": {},
   "outputs": [
    {
     "data": {
      "text/plain": [
       "0"
      ]
     },
     "execution_count": 91,
     "metadata": {},
     "output_type": "execute_result"
    }
   ],
   "source": [
    "car_df['length'].isna().sum()"
   ]
  },
  {
   "cell_type": "markdown",
   "id": "ee361ecd",
   "metadata": {},
   "source": [
    "### Main picture Url"
   ]
  },
  {
   "cell_type": "code",
   "execution_count": 92,
   "id": "106e4e03",
   "metadata": {},
   "outputs": [
    {
     "data": {
      "text/plain": [
       "vin\n",
       "ZACNJABB5KPJ92081    https://static.cargurus.com/images/forsale/202...\n",
       "SALCJ2FX1LH858117    https://static.cargurus.com/images/forsale/202...\n",
       "JF1VA2M67G9829723                                                  NaN\n",
       "SALRR2RV0L2433391    https://static.cargurus.com/images/forsale/202...\n",
       "SALCJ2FXXLH862327    https://static.cargurus.com/images/forsale/202...\n",
       "Name: main_picture_url, dtype: object"
      ]
     },
     "execution_count": 92,
     "metadata": {},
     "output_type": "execute_result"
    }
   ],
   "source": [
    "car_df['main_picture_url'].head()"
   ]
  },
  {
   "cell_type": "code",
   "execution_count": 93,
   "id": "ae471857",
   "metadata": {},
   "outputs": [],
   "source": [
    "car_df.drop('main_picture_url', axis=1, inplace=True)"
   ]
  },
  {
   "cell_type": "markdown",
   "id": "4a323807",
   "metadata": {},
   "source": [
    "### Major options"
   ]
  },
  {
   "cell_type": "code",
   "execution_count": 94,
   "id": "8a0c3b9f",
   "metadata": {},
   "outputs": [
    {
     "data": {
      "text/plain": [
       "vin\n",
       "ZACNJABB5KPJ92081                              ['Quick Order Package']\n",
       "SALCJ2FX1LH858117                          ['Adaptive Cruise Control']\n",
       "JF1VA2M67G9829723    ['Alloy Wheels', 'Bluetooth', 'Backup Camera',...\n",
       "SALRR2RV0L2433391                                                  NaN\n",
       "SALCJ2FXXLH862327                          ['Adaptive Cruise Control']\n",
       "                                           ...                        \n",
       "2GNAXJEV0J6261526    ['Alloy Wheels', 'Bluetooth', 'Backup Camera',...\n",
       "1GNERFKW0LJ225508    ['Alloy Wheels', 'Third Row Seating', 'Bluetoo...\n",
       "3FA6P0HD3GR134062       ['Alloy Wheels', 'Bluetooth', 'Backup Camera']\n",
       "SAJAJ4BNXHA968809    ['Sunroof/Moonroof', 'Navigation System', 'All...\n",
       "JN8AT2MT1HW400805    ['Alloy Wheels', 'Bluetooth', 'Backup Camera',...\n",
       "Name: major_options, Length: 3000040, dtype: object"
      ]
     },
     "execution_count": 94,
     "metadata": {},
     "output_type": "execute_result"
    }
   ],
   "source": [
    "car_df['major_options']"
   ]
  },
  {
   "cell_type": "code",
   "execution_count": 95,
   "id": "5d8a56a1",
   "metadata": {},
   "outputs": [
    {
     "data": {
      "text/plain": [
       "200048"
      ]
     },
     "execution_count": 95,
     "metadata": {},
     "output_type": "execute_result"
    }
   ],
   "source": [
    "car_df['major_options'].isna().sum()"
   ]
  },
  {
   "cell_type": "code",
   "execution_count": 96,
   "id": "ea3e7151",
   "metadata": {},
   "outputs": [
    {
     "data": {
      "text/plain": [
       "4.0     340507\n",
       "3.0     314023\n",
       "5.0     307013\n",
       "6.0     282666\n",
       "7.0     249405\n",
       "8.0     225960\n",
       "2.0     224622\n",
       "1.0     183391\n",
       "9.0     183372\n",
       "10.0    150294\n",
       "11.0    115622\n",
       "12.0     80844\n",
       "13.0     51702\n",
       "14.0     32477\n",
       "15.0     18990\n",
       "16.0     12781\n",
       "17.0      8002\n",
       "18.0      5175\n",
       "19.0      3521\n",
       "20.0      2501\n",
       "21.0      1640\n",
       "22.0      1273\n",
       "23.0      1063\n",
       "24.0       746\n",
       "25.0       623\n",
       "26.0       492\n",
       "27.0       311\n",
       "28.0       222\n",
       "29.0       211\n",
       "30.0       125\n",
       "31.0        93\n",
       "32.0        89\n",
       "33.0        56\n",
       "34.0        48\n",
       "35.0        41\n",
       "36.0        24\n",
       "38.0        14\n",
       "37.0        12\n",
       "39.0         7\n",
       "40.0         6\n",
       "45.0         4\n",
       "41.0         4\n",
       "44.0         3\n",
       "48.0         3\n",
       "53.0         2\n",
       "49.0         2\n",
       "52.0         2\n",
       "50.0         2\n",
       "43.0         2\n",
       "42.0         1\n",
       "59.0         1\n",
       "57.0         1\n",
       "47.0         1\n",
       "Name: major_options_count, dtype: int64"
      ]
     },
     "execution_count": 96,
     "metadata": {},
     "output_type": "execute_result"
    }
   ],
   "source": [
    "car_df['major_options_count'] = car_df['major_options'].str.count(',') + 1\n",
    "\n",
    "car_df['major_options_count'].value_counts()"
   ]
  },
  {
   "cell_type": "code",
   "execution_count": null,
   "id": "98e9078f",
   "metadata": {},
   "outputs": [],
   "source": []
  },
  {
   "cell_type": "code",
   "execution_count": 97,
   "id": "4cc8bf7a",
   "metadata": {},
   "outputs": [
    {
     "data": {
      "text/plain": [
       "0"
      ]
     },
     "execution_count": 97,
     "metadata": {},
     "output_type": "execute_result"
    }
   ],
   "source": [
    "car_df['major_options_count'].fillna(car_df['major_options_count'].mean(), inplace=True)\n",
    "car_df['major_options_count'].isna().sum()"
   ]
  },
  {
   "cell_type": "markdown",
   "id": "160e629f",
   "metadata": {},
   "source": [
    "### Maximum seating"
   ]
  },
  {
   "cell_type": "code",
   "execution_count": 98,
   "id": "669b6843",
   "metadata": {},
   "outputs": [
    {
     "data": {
      "text/plain": [
       "vin\n",
       "ZACNJABB5KPJ92081    5 seats\n",
       "SALCJ2FX1LH858117    7 seats\n",
       "JF1VA2M67G9829723    5 seats\n",
       "SALRR2RV0L2433391    7 seats\n",
       "SALCJ2FXXLH862327    7 seats\n",
       "                      ...   \n",
       "2GNAXJEV0J6261526    5 seats\n",
       "1GNERFKW0LJ225508    8 seats\n",
       "3FA6P0HD3GR134062    5 seats\n",
       "SAJAJ4BNXHA968809    5 seats\n",
       "JN8AT2MT1HW400805    7 seats\n",
       "Name: maximum_seating, Length: 3000040, dtype: object"
      ]
     },
     "execution_count": 98,
     "metadata": {},
     "output_type": "execute_result"
    }
   ],
   "source": [
    "car_df['maximum_seating']"
   ]
  },
  {
   "cell_type": "code",
   "execution_count": 99,
   "id": "cc9840af",
   "metadata": {},
   "outputs": [
    {
     "name": "stdout",
     "output_type": "stream",
     "text": [
      "NaN: 159269\n",
      "['5 seats' '7 seats' '2 seats' '4 seats' '8 seats' nan '6 seats' '9 seats'\n",
      " '3 seats' '--' '15 seats' '12 seats' '10 seats']\n",
      "count     2840771\n",
      "unique         12\n",
      "top       5 seats\n",
      "freq      1875357\n",
      "Name: maximum_seating, dtype: object\n"
     ]
    }
   ],
   "source": [
    "print(f\"NaN: {car_df['maximum_seating'].isna().sum()}\")\n",
    "print(car_df['maximum_seating'].unique())\n",
    "print(car_df['maximum_seating'].describe())\n"
   ]
  },
  {
   "cell_type": "code",
   "execution_count": 100,
   "id": "2b8a6496",
   "metadata": {},
   "outputs": [],
   "source": [
    "# Poistetaan lukumäärän perästä \"seats\" ja korvataat arvot \"--\"\n",
    "car_df['maximum_seating'] = car_df['maximum_seating'].str.replace(\" seats\", \"\")\n",
    "car_df['maximum_seating'].replace(\"--\", np.nan, inplace=True)"
   ]
  },
  {
   "cell_type": "code",
   "execution_count": 101,
   "id": "2b5f422c",
   "metadata": {},
   "outputs": [
    {
     "data": {
      "text/plain": [
       "5     1875357\n",
       "7      305330\n",
       "6      301485\n",
       "8      200360\n",
       "4       81174\n",
       "2       35105\n",
       "3       29676\n",
       "15       5906\n",
       "9        3634\n",
       "12       1703\n",
       "10        540\n",
       "Name: maximum_seating, dtype: int64"
      ]
     },
     "execution_count": 101,
     "metadata": {},
     "output_type": "execute_result"
    }
   ],
   "source": [
    "car_df['maximum_seating'].value_counts()"
   ]
  },
  {
   "cell_type": "code",
   "execution_count": 102,
   "id": "7f331ba9",
   "metadata": {},
   "outputs": [
    {
     "name": "stdout",
     "output_type": "stream",
     "text": [
      "NaN: 0\n"
     ]
    }
   ],
   "source": [
    "# 5 esiintyy useiten, joten täytetään tällä tyhjät arvot. Muutetaan arvot kokonaisluvuiksi.\n",
    "car_df['maximum_seating'].fillna('5', inplace=True)\n",
    "car_df['maximum_seating'] = pd.to_numeric(car_df['maximum_seating'], downcast='integer')\n",
    "print(f\"NaN: {car_df['maximum_seating'].isna().sum()}\")"
   ]
  },
  {
   "cell_type": "markdown",
   "id": "76116130",
   "metadata": {},
   "source": [
    "### Mileage"
   ]
  },
  {
   "cell_type": "code",
   "execution_count": 103,
   "id": "9d111a10",
   "metadata": {},
   "outputs": [
    {
     "data": {
      "text/plain": [
       "vin\n",
       "ZACNJABB5KPJ92081        7.0\n",
       "SALCJ2FX1LH858117        8.0\n",
       "JF1VA2M67G9829723        NaN\n",
       "SALRR2RV0L2433391       11.0\n",
       "SALCJ2FXXLH862327        7.0\n",
       "                      ...   \n",
       "2GNAXJEV0J6261526    41897.0\n",
       "1GNERFKW0LJ225508        5.0\n",
       "3FA6P0HD3GR134062    57992.0\n",
       "SAJAJ4BNXHA968809    27857.0\n",
       "JN8AT2MT1HW400805    22600.0\n",
       "Name: mileage, Length: 3000040, dtype: float64"
      ]
     },
     "execution_count": 103,
     "metadata": {},
     "output_type": "execute_result"
    }
   ],
   "source": [
    "car_df['mileage']"
   ]
  },
  {
   "cell_type": "code",
   "execution_count": 104,
   "id": "d6909070",
   "metadata": {},
   "outputs": [
    {
     "name": "stdout",
     "output_type": "stream",
     "text": [
      "NaN: 144387\n",
      "count    2.855653e+06\n",
      "mean     3.114690e+04\n",
      "std      7.458675e+04\n",
      "min      0.000000e+00\n",
      "25%      6.000000e+00\n",
      "50%      8.267000e+03\n",
      "75%      4.366200e+04\n",
      "max      9.999999e+07\n",
      "Name: mileage, dtype: float64\n",
      "[7.00000e+00 8.00000e+00         nan ... 3.87347e+05 1.80525e+05\n",
      " 1.21932e+05]\n"
     ]
    }
   ],
   "source": [
    "print(f\"NaN: {car_df['mileage'].isna().sum()}\")\n",
    "print(car_df['mileage'].describe())\n",
    "print(car_df['mileage'].unique())"
   ]
  },
  {
   "cell_type": "code",
   "execution_count": 105,
   "id": "42986273",
   "metadata": {},
   "outputs": [
    {
     "data": {
      "image/png": "[encoded data removed]",
      "text/plain": [
       "<Figure size 1000x600 with 1 Axes>"
      ]
     },
     "metadata": {},
     "output_type": "display_data"
    }
   ],
   "source": [
    "# Plotataan mittarilukemat\n",
    "plt.figure(figsize=(10,6))\n",
    "plt.hist(car_df['mileage'], bins=20)\n",
    "plt.title('Mileage')\n",
    "\n",
    "plt.axvline(car_df['mileage'].mode()[0], color='r', linestyle='dashed', linewidth=2, label='Mode')\n",
    "plt.axvline(car_df['mileage'].median(), color='goldenrod', label='median')\n",
    "plt.axvline(car_df['mileage'].mean(), color='darkgreen', label='mean')\n",
    "\n",
    "plt.ticklabel_format(style='plain')\n",
    "plt.legend()\n",
    "plt.xlabel('Mileage')\n",
    "plt.ylabel('Frequency')\n",
    "plt.show()"
   ]
  },
  {
   "cell_type": "code",
   "execution_count": 106,
   "id": "a9c7c097",
   "metadata": {},
   "outputs": [],
   "source": [
    "# Poistetaan poikkeamat\n",
    "q1 = car_df['mileage'].quantile(0.25)\n",
    "q3 = car_df['mileage'].quantile(0.75)\n",
    "\n",
    "iqr = q3 - q1\n",
    "\n",
    "car_df = car_df[(car_df['mileage'] >= q1 - 1.5*iqr) &\n",
    "               (car_df['mileage'] <= q3 + 1.5*iqr)]"
   ]
  },
  {
   "cell_type": "code",
   "execution_count": 107,
   "id": "9a70e94a",
   "metadata": {},
   "outputs": [
    {
     "data": {
      "image/png": "[encoded data removed]",
      "text/plain": [
       "<Figure size 1000x600 with 1 Axes>"
      ]
     },
     "metadata": {},
     "output_type": "display_data"
    }
   ],
   "source": [
    "plt.figure(figsize=(10,6))\n",
    "plt.hist(car_df['mileage'], bins=20)\n",
    "plt.title('Mileage')\n",
    "\n",
    "plt.axvline(car_df['mileage'].mode()[0], color='r', linestyle='dashed', linewidth=2, label='Mode')\n",
    "plt.axvline(car_df['mileage'].median(), color='goldenrod', label='median')\n",
    "plt.axvline(car_df['mileage'].mean(), color='darkgreen', label='mean')\n",
    "\n",
    "plt.ticklabel_format(style='plain')\n",
    "plt.legend()\n",
    "plt.xlabel('Mileage')\n",
    "plt.ylabel('Frequency')\n",
    "plt.show()"
   ]
  },
  {
   "cell_type": "code",
   "execution_count": 108,
   "id": "d0668a0c",
   "metadata": {},
   "outputs": [
    {
     "data": {
      "text/plain": [
       "0"
      ]
     },
     "execution_count": 108,
     "metadata": {},
     "output_type": "execute_result"
    }
   ],
   "source": [
    "# Täyteetään tyhjät arvot keskiarvolla\n",
    "car_df['mileage'].fillna(car_df['mileage'].mean(), inplace=True)\n",
    "car_df['mileage'].isna().sum()"
   ]
  },
  {
   "cell_type": "markdown",
   "id": "5361f868",
   "metadata": {},
   "source": [
    "### Power"
   ]
  },
  {
   "cell_type": "code",
   "execution_count": 109,
   "id": "c1ea41f9",
   "metadata": {},
   "outputs": [
    {
     "data": {
      "text/plain": [
       "vin\n",
       "ZACNJABB5KPJ92081    177 hp @ 5,750 RPM\n",
       "SALCJ2FX1LH858117    246 hp @ 5,500 RPM\n",
       "SALRR2RV0L2433391    340 hp @ 6,500 RPM\n",
       "SALCJ2FXXLH862327    246 hp @ 5,500 RPM\n",
       "SALYK2EX1LA261711    247 hp @ 5,500 RPM\n",
       "                            ...        \n",
       "2GNAXJEV0J6261526                   NaN\n",
       "1GNERFKW0LJ225508    310 hp @ 6,800 RPM\n",
       "3FA6P0HD3GR134062    240 hp @ 5,500 RPM\n",
       "SAJAJ4BNXHA968809    180 hp @ 4,000 RPM\n",
       "JN8AT2MT1HW400805    170 hp @ 6,000 RPM\n",
       "Name: power, Length: 2625946, dtype: object"
      ]
     },
     "execution_count": 109,
     "metadata": {},
     "output_type": "execute_result"
    }
   ],
   "source": [
    "car_df['power']"
   ]
  },
  {
   "cell_type": "code",
   "execution_count": 110,
   "id": "fe2bfb22",
   "metadata": {},
   "outputs": [
    {
     "name": "stdout",
     "output_type": "stream",
     "text": [
      "NaN: 427758\n"
     ]
    }
   ],
   "source": [
    "print(f\"NaN: {car_df['power'].isna().sum()}\")"
   ]
  },
  {
   "cell_type": "code",
   "execution_count": 111,
   "id": "18bf8317",
   "metadata": {},
   "outputs": [],
   "source": [
    "car_df['power'] = car_df['power'].str.split(' ').str[0]"
   ]
  },
  {
   "cell_type": "code",
   "execution_count": 112,
   "id": "343f9aad",
   "metadata": {},
   "outputs": [
    {
     "data": {
      "text/plain": [
       "array(['177', '246', '340', '247', '186', '296', '237', '320', '148',\n",
       "       '254', '187', '201', '160', '311', '310', '180', '281', '295',\n",
       "       '172', nan, '147', '360', '283', '182', '355', '285', '270', '208',\n",
       "       '170', '300', '301', '158', '241', '707', '185', '365', '450',\n",
       "       '175', '385', '420', '380', '164', '248', '287', '335', '138',\n",
       "       '354', '395', '398', '153', '290', '271', '288', '286', '455',\n",
       "       '550', '200', '250', '181', '284', '518', '292', '305', '575',\n",
       "       '308', '435', '797', '268', '240', '205', '143', '555', '179',\n",
       "       '184', '315', '302', '141', '400', '276', '362', '228', '189',\n",
       "       '402', '188', '220', '252', '280', '211', '278', '323', '345',\n",
       "       '563', '272', '210', '449', '382', '330', '197', '176', '140',\n",
       "       '429', '577', '325', '390', '130', '155', '556', '260', '245',\n",
       "       '370', '580', '123', '192', '230', '251', '150', '120', '367',\n",
       "       '78', '350', '151', '403', '152', '132', '198', '173', '304',\n",
       "       '196', '202', '717', '259', '178', '279', '117', '275', '225',\n",
       "       '146', '221', '375', '317', '264', '215', '235', '372', '269',\n",
       "       '303', '293', '266', '485', '156', '291', '333', '212', '454',\n",
       "       '445', '329', '425', '404', '174', '118', '207', '456', '204',\n",
       "       '157', '261', '273', '424', '552', '560', '470', '396', '348',\n",
       "       '440', '124', '161', '236', '206', '136', '255', '567', '190',\n",
       "       '383', '134', '265', '328', '166', '483', '145', '109', '469',\n",
       "       '263', '191', '144', '433', '142', '238', '500', '121', '460',\n",
       "       '122', '193', '411', '542', '600', '168', '505', '532', '503',\n",
       "       '110', '316', '475', '131', '381', '415', '137', '603', '523',\n",
       "       '342', '617', '405', '203', '115', '510', '277', '128', '199',\n",
       "       '430', '494', '553', '363', '159', '571', '106', '397', '99',\n",
       "       '412', '416', '318', '256', '274', '165', '84', '227', '414',\n",
       "       '525', '306', '562', '341', '224', '471', '349', '242', '244',\n",
       "       '540', '401', '100', '312', '169', '92', '394', '194', '352',\n",
       "       '530', '453', '607', '630', '700', '626', '641', '624', '582',\n",
       "       '521', '167', '443', '126', '616', '377', '195', '592', '650',\n",
       "       '321', '102', '808', '101', '332', '463', '149', '282', '223',\n",
       "       '154', '322', '520', '467', '490', '294', '730', '731', '480',\n",
       "       '239', '219', '591', '789', '597', '660', '680', '620', '602',\n",
       "       '570', '344', '361', '473', '366', '171', '262', '541', '444',\n",
       "       '297', '119', '611', '93', '357', '103', '601', '457', '70', '218',\n",
       "       '621', '604', '74', '111', '386', '127', '258', '464', '434',\n",
       "       '108', '565', '368', '652', '410', '422', '715', '493', '217',\n",
       "       '590', '662', '162', '379', '249', '711', '740', '605', '107',\n",
       "       '583', '512', '528', '720', '526', '760', '135', '253', '369',\n",
       "       '710', '545', '633', '257', '612', '572', '666', '515', '393',\n",
       "       '234', '557', '544', '640', '451', '233', '222', '298', '232',\n",
       "       '88', '610', '331', '116', '112', '472', '903', '231', '229', '98',\n",
       "       '104', '94', '125', '243', '408', '378', '214', '337', '536',\n",
       "       '113', '343', '90', '495', '85', '133', '319', '638', '438', '645',\n",
       "       '507', '691', '632', '163', '568', '543', '442', '502', '105',\n",
       "       '96', '670', '389', '97', '338', '759', '1,001', '65', '72', '82',\n",
       "       '77', '183', '535', '114', '95', '313', '67', '63', '887', '73',\n",
       "       '949', '326'], dtype=object)"
      ]
     },
     "execution_count": 112,
     "metadata": {},
     "output_type": "execute_result"
    }
   ],
   "source": [
    "car_df['power'].unique()"
   ]
  },
  {
   "cell_type": "code",
   "execution_count": 113,
   "id": "888fdccf",
   "metadata": {},
   "outputs": [],
   "source": [
    "car_df['power'] = car_df['power'].str.replace(',', '.')\n",
    "car_df['power'] = pd.to_numeric(car_df['power'], downcast='integer')"
   ]
  },
  {
   "cell_type": "code",
   "execution_count": 114,
   "id": "94ea02eb",
   "metadata": {},
   "outputs": [
    {
     "data": {
      "text/plain": [
       "vin\n",
       "ZACNJABB5KPJ92081    177.0\n",
       "SALCJ2FX1LH858117    246.0\n",
       "SALRR2RV0L2433391    340.0\n",
       "SALCJ2FXXLH862327    246.0\n",
       "SALYK2EX1LA261711    247.0\n",
       "                     ...  \n",
       "2GNAXJEV0J6261526      NaN\n",
       "1GNERFKW0LJ225508    310.0\n",
       "3FA6P0HD3GR134062    240.0\n",
       "SAJAJ4BNXHA968809    180.0\n",
       "JN8AT2MT1HW400805    170.0\n",
       "Name: power, Length: 2625946, dtype: float64"
      ]
     },
     "execution_count": 114,
     "metadata": {},
     "output_type": "execute_result"
    }
   ],
   "source": [
    "car_df['power']"
   ]
  },
  {
   "cell_type": "code",
   "execution_count": 115,
   "id": "d2627df1",
   "metadata": {},
   "outputs": [
    {
     "data": {
      "image/png": "[encoded data removed]",
      "text/plain": [
       "<Figure size 1000x600 with 1 Axes>"
      ]
     },
     "metadata": {},
     "output_type": "display_data"
    }
   ],
   "source": [
    "plt.figure(figsize=(10,6))\n",
    "plt.hist(car_df['power'], bins=20)\n",
    "plt.title('Power HP')\n",
    "\n",
    "plt.axvline(car_df['power'].mode()[0], color='r', linestyle='dashed', linewidth=2, label='Mode')\n",
    "plt.axvline(car_df['power'].median(), color='goldenrod', label='median')\n",
    "plt.axvline(car_df['power'].mean(), color='darkgreen', label='mean')\n",
    "\n",
    "plt.ticklabel_format(style='plain')\n",
    "plt.legend()\n",
    "plt.xlabel('Power')\n",
    "plt.ylabel('Count')\n",
    "plt.show()"
   ]
  },
  {
   "cell_type": "code",
   "execution_count": 116,
   "id": "39beb613",
   "metadata": {},
   "outputs": [],
   "source": [
    "# Plotin perusteella täytetään tyhjät arvot mediaanilla.\n",
    "car_df['power'].fillna(car_df['power'].median(), inplace=True)\n",
    "car_df.rename(columns={'power' : 'power_hp'}, inplace=True)"
   ]
  },
  {
   "cell_type": "code",
   "execution_count": 117,
   "id": "80a8767c",
   "metadata": {},
   "outputs": [
    {
     "data": {
      "text/plain": [
       "0"
      ]
     },
     "execution_count": 117,
     "metadata": {},
     "output_type": "execute_result"
    }
   ],
   "source": [
    "car_df['power_hp'].isna().sum()"
   ]
  },
  {
   "cell_type": "markdown",
   "id": "326019d6",
   "metadata": {},
   "source": [
    "### Seller rating"
   ]
  },
  {
   "cell_type": "code",
   "execution_count": 118,
   "id": "bc8af486",
   "metadata": {},
   "outputs": [
    {
     "data": {
      "text/plain": [
       "vin\n",
       "ZACNJABB5KPJ92081    2.800000\n",
       "SALCJ2FX1LH858117    3.000000\n",
       "SALRR2RV0L2433391    3.000000\n",
       "SALCJ2FXXLH862327    3.000000\n",
       "SALYK2EX1LA261711    3.000000\n",
       "                       ...   \n",
       "2GNAXJEV0J6261526    4.272727\n",
       "1GNERFKW0LJ225508    4.533333\n",
       "3FA6P0HD3GR134062    4.142857\n",
       "SAJAJ4BNXHA968809    4.272727\n",
       "JN8AT2MT1HW400805    4.333333\n",
       "Name: seller_rating, Length: 2625946, dtype: float64"
      ]
     },
     "execution_count": 118,
     "metadata": {},
     "output_type": "execute_result"
    }
   ],
   "source": [
    "car_df['seller_rating']"
   ]
  },
  {
   "cell_type": "code",
   "execution_count": 119,
   "id": "2b515ade",
   "metadata": {},
   "outputs": [
    {
     "name": "stdout",
     "output_type": "stream",
     "text": [
      "NaN: 31152\n",
      "count    2.594794e+06\n",
      "mean     4.268910e+00\n",
      "std      5.107202e-01\n",
      "min      1.000000e+00\n",
      "25%      4.000000e+00\n",
      "50%      4.333333e+00\n",
      "75%      4.600000e+00\n",
      "max      5.000000e+00\n",
      "Name: seller_rating, dtype: float64\n",
      " Seller rating mode: 0    5.0\n",
      "Name: seller_rating, dtype: float64\n"
     ]
    }
   ],
   "source": [
    "print(f\"NaN: {car_df['seller_rating'].isna().sum()}\")\n",
    "print(car_df['seller_rating'].describe())\n",
    "print(f\" Seller rating mode: {car_df['seller_rating'].mode()}\")"
   ]
  },
  {
   "cell_type": "code",
   "execution_count": 120,
   "id": "f1513230",
   "metadata": {},
   "outputs": [],
   "source": [
    "# Täytetään tyhjät arvot useiten esiintyvät arvon mukaan\n",
    "car_df['seller_rating'].fillna('5', inplace=True)"
   ]
  },
  {
   "cell_type": "code",
   "execution_count": 121,
   "id": "a6322ae3",
   "metadata": {},
   "outputs": [
    {
     "name": "stdout",
     "output_type": "stream",
     "text": [
      "NaN: 0\n"
     ]
    }
   ],
   "source": [
    "print(f\"NaN: {car_df['seller_rating'].isna().sum()}\")"
   ]
  },
  {
   "cell_type": "code",
   "execution_count": 122,
   "id": "71548541",
   "metadata": {},
   "outputs": [],
   "source": [
    "car_df['seller_rating'] = car_df['seller_rating'].astype(int)"
   ]
  },
  {
   "cell_type": "markdown",
   "id": "8d3d913f",
   "metadata": {},
   "source": [
    "### Sp id"
   ]
  },
  {
   "cell_type": "code",
   "execution_count": 123,
   "id": "a86a68c9",
   "metadata": {},
   "outputs": [
    {
     "data": {
      "text/plain": [
       "vin\n",
       "ZACNJABB5KPJ92081    370599.0\n",
       "SALCJ2FX1LH858117    389227.0\n",
       "SALRR2RV0L2433391    389227.0\n",
       "SALCJ2FXXLH862327    389227.0\n",
       "SALYK2EX1LA261711    389227.0\n",
       "                       ...   \n",
       "2GNAXJEV0J6261526    341247.0\n",
       "1GNERFKW0LJ225508    310674.0\n",
       "3FA6P0HD3GR134062    389479.0\n",
       "SAJAJ4BNXHA968809    341247.0\n",
       "JN8AT2MT1HW400805     64910.0\n",
       "Name: sp_id, Length: 2625946, dtype: float64"
      ]
     },
     "execution_count": 123,
     "metadata": {},
     "output_type": "execute_result"
    }
   ],
   "source": [
    "car_df['sp_id']"
   ]
  },
  {
   "cell_type": "code",
   "execution_count": 124,
   "id": "7dc2b0c9",
   "metadata": {},
   "outputs": [],
   "source": [
    "car_df.drop(['sp_id'], axis=1, inplace=True)"
   ]
  },
  {
   "cell_type": "markdown",
   "id": "3342778f",
   "metadata": {},
   "source": [
    "### Torque"
   ]
  },
  {
   "cell_type": "code",
   "execution_count": 125,
   "id": "4c5f8d0b",
   "metadata": {},
   "outputs": [
    {
     "data": {
      "text/plain": [
       "vin\n",
       "ZACNJABB5KPJ92081    200 lb-ft @ 1,750 RPM\n",
       "SALCJ2FX1LH858117    269 lb-ft @ 1,400 RPM\n",
       "SALRR2RV0L2433391    332 lb-ft @ 3,500 RPM\n",
       "SALCJ2FXXLH862327    269 lb-ft @ 1,400 RPM\n",
       "SALYK2EX1LA261711    269 lb-ft @ 1,200 RPM\n",
       "                             ...          \n",
       "2GNAXJEV0J6261526                      NaN\n",
       "1GNERFKW0LJ225508    266 lb-ft @ 2,800 RPM\n",
       "3FA6P0HD3GR134062    270 lb-ft @ 1,750 RPM\n",
       "SAJAJ4BNXHA968809    318 lb-ft @ 1,750 RPM\n",
       "JN8AT2MT1HW400805    175 lb-ft @ 4,400 RPM\n",
       "Name: torque, Length: 2625946, dtype: object"
      ]
     },
     "execution_count": 125,
     "metadata": {},
     "output_type": "execute_result"
    }
   ],
   "source": [
    "car_df['torque']"
   ]
  },
  {
   "cell_type": "code",
   "execution_count": 126,
   "id": "41d101c4",
   "metadata": {},
   "outputs": [
    {
     "name": "stdout",
     "output_type": "stream",
     "text": [
      "NaN: 460039\n",
      "count                   2165907\n",
      "unique                     1925\n",
      "top       383 lb-ft @ 4,100 RPM\n",
      "freq                      81277\n",
      "Name: torque, dtype: object\n"
     ]
    }
   ],
   "source": [
    "print(f\"NaN: {car_df['torque'].isna().sum()}\")\n",
    "print(car_df['torque'].describe())"
   ]
  },
  {
   "cell_type": "code",
   "execution_count": 127,
   "id": "b02c1856",
   "metadata": {},
   "outputs": [
    {
     "data": {
      "text/plain": [
       "vin\n",
       "ZACNJABB5KPJ92081    200.0\n",
       "SALCJ2FX1LH858117    269.0\n",
       "SALRR2RV0L2433391    332.0\n",
       "SALCJ2FXXLH862327    269.0\n",
       "SALYK2EX1LA261711    269.0\n",
       "                     ...  \n",
       "2GNAXJEV0J6261526      NaN\n",
       "1GNERFKW0LJ225508    266.0\n",
       "3FA6P0HD3GR134062    270.0\n",
       "SAJAJ4BNXHA968809    318.0\n",
       "JN8AT2MT1HW400805    175.0\n",
       "Name: torque, Length: 2625946, dtype: float64"
      ]
     },
     "execution_count": 127,
     "metadata": {},
     "output_type": "execute_result"
    }
   ],
   "source": [
    "# Otetaan vain ensimmäinen lukuarvo talteen, muutetaan floateiksi\n",
    "car_df['torque'] = car_df['torque'].str.split(\" \").str[0]\n",
    "car_df['torque'] = car_df['torque'].astype(float)\n",
    "car_df['torque']"
   ]
  },
  {
   "cell_type": "code",
   "execution_count": 128,
   "id": "3b2e3593",
   "metadata": {},
   "outputs": [
    {
     "data": {
      "image/png": "[encoded data removed]",
      "text/plain": [
       "<Figure size 1000x600 with 1 Axes>"
      ]
     },
     "metadata": {},
     "output_type": "display_data"
    }
   ],
   "source": [
    "plt.figure(figsize=(10,6))\n",
    "plt.hist(car_df['torque'], bins=20)\n",
    "plt.title('Torque')\n",
    "\n",
    "plt.axvline(car_df['torque'].mode()[0], color='r', linestyle='dashed', linewidth=2, label='Mode')\n",
    "plt.axvline(car_df['torque'].median(), color='goldenrod', label='median')\n",
    "plt.axvline(car_df['torque'].mean(), color='darkgreen', label='mean')\n",
    "\n",
    "plt.legend()\n",
    "plt.xlabel('Torque')\n",
    "plt.ylabel('Frequency')\n",
    "plt.show()"
   ]
  },
  {
   "cell_type": "code",
   "execution_count": 129,
   "id": "089cb6d1",
   "metadata": {},
   "outputs": [
    {
     "data": {
      "text/plain": [
       "0"
      ]
     },
     "execution_count": 129,
     "metadata": {},
     "output_type": "execute_result"
    }
   ],
   "source": [
    "# Plotin perusteella voidaan paikata tyhjät arvot keskiarvolla\n",
    "car_df['torque'].fillna(car_df['torque'].mean(), inplace=True)\n",
    "car_df['torque'].isna().sum()"
   ]
  },
  {
   "cell_type": "markdown",
   "id": "b81bec3c",
   "metadata": {},
   "source": [
    "### Transmission"
   ]
  },
  {
   "cell_type": "code",
   "execution_count": 130,
   "id": "c8ac60ec",
   "metadata": {},
   "outputs": [
    {
     "data": {
      "text/plain": [
       "vin\n",
       "ZACNJABB5KPJ92081    A\n",
       "SALCJ2FX1LH858117    A\n",
       "SALRR2RV0L2433391    A\n",
       "SALCJ2FXXLH862327    A\n",
       "SALYK2EX1LA261711    A\n",
       "                    ..\n",
       "2GNAXJEV0J6261526    A\n",
       "1GNERFKW0LJ225508    A\n",
       "3FA6P0HD3GR134062    A\n",
       "SAJAJ4BNXHA968809    A\n",
       "JN8AT2MT1HW400805    A\n",
       "Name: transmission, Length: 2625946, dtype: object"
      ]
     },
     "execution_count": 130,
     "metadata": {},
     "output_type": "execute_result"
    }
   ],
   "source": [
    "car_df['transmission']"
   ]
  },
  {
   "cell_type": "code",
   "execution_count": 131,
   "id": "d35c1b7b",
   "metadata": {},
   "outputs": [
    {
     "name": "stdout",
     "output_type": "stream",
     "text": [
      "NaN: 54933\n",
      "count     2571013\n",
      "unique          4\n",
      "top             A\n",
      "freq      2102484\n",
      "Name: transmission, dtype: object\n",
      "['A' 'CVT' 'M' nan 'Dual Clutch']\n"
     ]
    }
   ],
   "source": [
    "print(f\"NaN: {car_df['transmission'].isna().sum()}\")\n",
    "\n",
    "print(car_df['transmission'].describe())\n",
    "print(car_df['transmission'].unique())\n"
   ]
  },
  {
   "cell_type": "code",
   "execution_count": 132,
   "id": "64624a31",
   "metadata": {},
   "outputs": [],
   "source": [
    "car_df['transmission'].fillna(\"A\", inplace=True)"
   ]
  },
  {
   "cell_type": "code",
   "execution_count": 133,
   "id": "fed52e4c",
   "metadata": {},
   "outputs": [
    {
     "data": {
      "text/plain": [
       "0"
      ]
     },
     "execution_count": 133,
     "metadata": {},
     "output_type": "execute_result"
    }
   ],
   "source": [
    "car_df['transmission'].isna().sum()"
   ]
  },
  {
   "cell_type": "markdown",
   "id": "6a509ef9",
   "metadata": {},
   "source": [
    "### Transmission display"
   ]
  },
  {
   "cell_type": "code",
   "execution_count": 134,
   "id": "0b8fc1a0",
   "metadata": {},
   "outputs": [
    {
     "data": {
      "text/plain": [
       "vin\n",
       "ZACNJABB5KPJ92081    9-Speed Automatic Overdrive\n",
       "SALCJ2FX1LH858117    9-Speed Automatic Overdrive\n",
       "SALRR2RV0L2433391    8-Speed Automatic Overdrive\n",
       "SALCJ2FXXLH862327    9-Speed Automatic Overdrive\n",
       "SALYK2EX1LA261711    8-Speed Automatic Overdrive\n",
       "                                ...             \n",
       "2GNAXJEV0J6261526                      Automatic\n",
       "1GNERFKW0LJ225508                      Automatic\n",
       "3FA6P0HD3GR134062    6-Speed Automatic Overdrive\n",
       "SAJAJ4BNXHA968809                      Automatic\n",
       "JN8AT2MT1HW400805                      Automatic\n",
       "Name: transmission_display, Length: 2625946, dtype: object"
      ]
     },
     "execution_count": 134,
     "metadata": {},
     "output_type": "execute_result"
    }
   ],
   "source": [
    "car_df['transmission_display']"
   ]
  },
  {
   "cell_type": "code",
   "execution_count": 135,
   "id": "185b86ce",
   "metadata": {},
   "outputs": [],
   "source": [
    "car_df.drop(['transmission_display'], axis=1, inplace=True)"
   ]
  },
  {
   "cell_type": "markdown",
   "id": "d9c9dd8e",
   "metadata": {},
   "source": [
    "### Trim id"
   ]
  },
  {
   "cell_type": "code",
   "execution_count": 136,
   "id": "008cfe73",
   "metadata": {},
   "outputs": [],
   "source": [
    "car_df.drop(['trimId'], axis=1, inplace=True)"
   ]
  },
  {
   "cell_type": "markdown",
   "id": "edf7aa3d",
   "metadata": {},
   "source": [
    "### Trim name"
   ]
  },
  {
   "cell_type": "code",
   "execution_count": 137,
   "id": "470480d7",
   "metadata": {},
   "outputs": [],
   "source": [
    "car_df.drop(['trim_name'], axis=1, inplace=True)"
   ]
  },
  {
   "cell_type": "markdown",
   "id": "7a547363",
   "metadata": {},
   "source": [
    "### Wheel system"
   ]
  },
  {
   "cell_type": "code",
   "execution_count": 138,
   "id": "6e9690d2",
   "metadata": {},
   "outputs": [
    {
     "data": {
      "text/plain": [
       "vin\n",
       "ZACNJABB5KPJ92081    FWD\n",
       "SALCJ2FX1LH858117    AWD\n",
       "SALRR2RV0L2433391    AWD\n",
       "SALCJ2FXXLH862327    AWD\n",
       "SALYK2EX1LA261711    AWD\n",
       "                    ... \n",
       "2GNAXJEV0J6261526    FWD\n",
       "1GNERFKW0LJ225508    FWD\n",
       "3FA6P0HD3GR134062    FWD\n",
       "SAJAJ4BNXHA968809    AWD\n",
       "JN8AT2MT1HW400805    FWD\n",
       "Name: wheel_system, Length: 2625946, dtype: object"
      ]
     },
     "execution_count": 138,
     "metadata": {},
     "output_type": "execute_result"
    }
   ],
   "source": [
    "car_df['wheel_system']"
   ]
  },
  {
   "cell_type": "code",
   "execution_count": 139,
   "id": "f168fef0",
   "metadata": {},
   "outputs": [
    {
     "data": {
      "text/plain": [
       "124322"
      ]
     },
     "execution_count": 139,
     "metadata": {},
     "output_type": "execute_result"
    }
   ],
   "source": [
    "car_df['wheel_system'].isna().sum()"
   ]
  },
  {
   "cell_type": "code",
   "execution_count": 140,
   "id": "861853c5",
   "metadata": {},
   "outputs": [
    {
     "data": {
      "text/plain": [
       "array(['FWD', 'AWD', 'RWD', '4WD', nan, '4X2'], dtype=object)"
      ]
     },
     "execution_count": 140,
     "metadata": {},
     "output_type": "execute_result"
    }
   ],
   "source": [
    "car_df['wheel_system'].unique()"
   ]
  },
  {
   "cell_type": "code",
   "execution_count": 141,
   "id": "da9f6e69",
   "metadata": {},
   "outputs": [
    {
     "data": {
      "text/plain": [
       "count     2501624\n",
       "unique          5\n",
       "top           FWD\n",
       "freq      1112034\n",
       "Name: wheel_system, dtype: object"
      ]
     },
     "execution_count": 141,
     "metadata": {},
     "output_type": "execute_result"
    }
   ],
   "source": [
    "car_df['wheel_system'].describe()"
   ]
  },
  {
   "cell_type": "code",
   "execution_count": 142,
   "id": "c21f5506",
   "metadata": {},
   "outputs": [
    {
     "data": {
      "text/plain": [
       "FWD    42.347939\n",
       "AWD    23.759590\n",
       "4WD    19.034131\n",
       "RWD     6.197843\n",
       "4X2     3.926128\n",
       "Name: wheel_system, dtype: float64"
      ]
     },
     "execution_count": 142,
     "metadata": {},
     "output_type": "execute_result"
    }
   ],
   "source": [
    "car_df['wheel_system'].value_counts()/car_df.shape[0]*100"
   ]
  },
  {
   "cell_type": "code",
   "execution_count": 143,
   "id": "fa04c0ec",
   "metadata": {},
   "outputs": [],
   "source": [
    "car_df['wheel_system'].fillna('FWD', inplace=True)"
   ]
  },
  {
   "cell_type": "code",
   "execution_count": 144,
   "id": "3890a191",
   "metadata": {},
   "outputs": [
    {
     "data": {
      "text/plain": [
       "0"
      ]
     },
     "execution_count": 144,
     "metadata": {},
     "output_type": "execute_result"
    }
   ],
   "source": [
    "car_df['wheel_system'].isna().sum()"
   ]
  },
  {
   "cell_type": "markdown",
   "id": "0e922ce5",
   "metadata": {},
   "source": [
    "### Wheel system display"
   ]
  },
  {
   "cell_type": "code",
   "execution_count": 145,
   "id": "79dec567",
   "metadata": {},
   "outputs": [],
   "source": [
    "car_df.drop(['wheel_system_display'], axis=1, inplace=True)"
   ]
  },
  {
   "cell_type": "markdown",
   "id": "618557c2",
   "metadata": {},
   "source": [
    "### Wheelbase"
   ]
  },
  {
   "cell_type": "code",
   "execution_count": 146,
   "id": "c8002903",
   "metadata": {},
   "outputs": [
    {
     "data": {
      "text/plain": [
       "vin\n",
       "ZACNJABB5KPJ92081    101.2 in\n",
       "SALCJ2FX1LH858117    107.9 in\n",
       "SALRR2RV0L2433391      115 in\n",
       "SALCJ2FXXLH862327    107.9 in\n",
       "SALYK2EX1LA261711    113.1 in\n",
       "                       ...   \n",
       "2GNAXJEV0J6261526    107.3 in\n",
       "1GNERFKW0LJ225508    120.9 in\n",
       "3FA6P0HD3GR134062    112.2 in\n",
       "SAJAJ4BNXHA968809    111.6 in\n",
       "JN8AT2MT1HW400805    106.5 in\n",
       "Name: wheelbase, Length: 2625946, dtype: object"
      ]
     },
     "execution_count": 146,
     "metadata": {},
     "output_type": "execute_result"
    }
   ],
   "source": [
    "car_df['wheelbase']"
   ]
  },
  {
   "cell_type": "code",
   "execution_count": 147,
   "id": "0bf3057a",
   "metadata": {},
   "outputs": [
    {
     "data": {
      "text/plain": [
       "131063"
      ]
     },
     "execution_count": 147,
     "metadata": {},
     "output_type": "execute_result"
    }
   ],
   "source": [
    "car_df['wheelbase'].isna().sum()"
   ]
  },
  {
   "cell_type": "code",
   "execution_count": 148,
   "id": "2998a946",
   "metadata": {},
   "outputs": [],
   "source": [
    "car_df['wheelbase'] = car_df['wheelbase'].str.split(\" \").str[0]\n",
    "car_df['wheelbase'].replace(\"--\", np.nan, inplace=True)\n",
    "car_df['wheelbase'] = car_df['wheelbase'].astype(float)"
   ]
  },
  {
   "cell_type": "code",
   "execution_count": 149,
   "id": "0e959471",
   "metadata": {},
   "outputs": [
    {
     "data": {
      "image/png": "[encoded data removed]",
      "text/plain": [
       "<Figure size 1000x600 with 1 Axes>"
      ]
     },
     "metadata": {},
     "output_type": "display_data"
    }
   ],
   "source": [
    "plt.figure(figsize=(10,6))\n",
    "plt.hist(car_df['wheelbase'], bins=20)\n",
    "plt.title('Wheelbase')\n",
    "\n",
    "plt.axvline(car_df['wheelbase'].mode()[0], color='r', linestyle='dashed', linewidth=2, label='Mode')\n",
    "plt.axvline(car_df['wheelbase'].median(), color='goldenrod', label='median')\n",
    "\n",
    "plt.axvline(car_df['wheelbase'].mean(), color='darkgreen', label='mean')\n",
    "plt.legend()\n",
    "plt.xlabel('Wheelbase')\n",
    "plt.ylabel('Frequency')\n",
    "plt.show()"
   ]
  },
  {
   "cell_type": "code",
   "execution_count": 150,
   "id": "b174db0e",
   "metadata": {},
   "outputs": [
    {
     "data": {
      "text/plain": [
       "0"
      ]
     },
     "execution_count": 150,
     "metadata": {},
     "output_type": "execute_result"
    }
   ],
   "source": [
    "car_df['wheelbase'].fillna(car_df['wheelbase'].median(), inplace=True)\n",
    "car_df['wheelbase'].isna().sum()"
   ]
  },
  {
   "cell_type": "markdown",
   "id": "ebd1681d",
   "metadata": {},
   "source": [
    "### Width"
   ]
  },
  {
   "cell_type": "code",
   "execution_count": 151,
   "id": "c9ce5952",
   "metadata": {},
   "outputs": [
    {
     "data": {
      "text/plain": [
       "vin\n",
       "ZACNJABB5KPJ92081    79.6 in\n",
       "SALCJ2FX1LH858117    85.6 in\n",
       "SALRR2RV0L2433391    87.4 in\n",
       "SALCJ2FXXLH862327    85.6 in\n",
       "SALYK2EX1LA261711    84.4 in\n",
       "                      ...   \n",
       "2GNAXJEV0J6261526    72.6 in\n",
       "1GNERFKW0LJ225508    78.6 in\n",
       "3FA6P0HD3GR134062    83.5 in\n",
       "SAJAJ4BNXHA968809    81.7 in\n",
       "JN8AT2MT1HW400805    72.4 in\n",
       "Name: width, Length: 2625946, dtype: object"
      ]
     },
     "execution_count": 151,
     "metadata": {},
     "output_type": "execute_result"
    }
   ],
   "source": [
    "car_df['width']"
   ]
  },
  {
   "cell_type": "code",
   "execution_count": 152,
   "id": "96932043",
   "metadata": {},
   "outputs": [
    {
     "data": {
      "text/plain": [
       "131063"
      ]
     },
     "execution_count": 152,
     "metadata": {},
     "output_type": "execute_result"
    }
   ],
   "source": [
    "car_df['width'].isna().sum()"
   ]
  },
  {
   "cell_type": "code",
   "execution_count": 153,
   "id": "85988d8b",
   "metadata": {},
   "outputs": [
    {
     "data": {
      "text/plain": [
       "count     2494883\n",
       "unique        280\n",
       "top       72.4 in\n",
       "freq       122625\n",
       "Name: width, dtype: object"
      ]
     },
     "execution_count": 153,
     "metadata": {},
     "output_type": "execute_result"
    }
   ],
   "source": [
    "car_df['width'].describe()"
   ]
  },
  {
   "cell_type": "code",
   "execution_count": 154,
   "id": "bc7b284f",
   "metadata": {},
   "outputs": [
    {
     "data": {
      "text/plain": [
       "vin\n",
       "ZACNJABB5KPJ92081    79.6 in\n",
       "SALCJ2FX1LH858117    85.6 in\n",
       "SALRR2RV0L2433391    87.4 in\n",
       "SALCJ2FXXLH862327    85.6 in\n",
       "SALYK2EX1LA261711    84.4 in\n",
       "                      ...   \n",
       "2GNAXJEV0J6261526    72.6 in\n",
       "1GNERFKW0LJ225508    78.6 in\n",
       "3FA6P0HD3GR134062    83.5 in\n",
       "SAJAJ4BNXHA968809    81.7 in\n",
       "JN8AT2MT1HW400805    72.4 in\n",
       "Name: width, Length: 2625946, dtype: object"
      ]
     },
     "execution_count": 154,
     "metadata": {},
     "output_type": "execute_result"
    }
   ],
   "source": [
    "car_df['width']"
   ]
  },
  {
   "cell_type": "code",
   "execution_count": 155,
   "id": "2c90e757",
   "metadata": {},
   "outputs": [],
   "source": [
    "car_df['width'] = car_df['width'].str.split(\" \").str[0]\n",
    "car_df['width'].replace(\"--\", np.nan, inplace=True)\n",
    "car_df['width'] = pd.to_numeric(car_df['width'], downcast='float')"
   ]
  },
  {
   "cell_type": "code",
   "execution_count": 156,
   "id": "b8d1696c",
   "metadata": {},
   "outputs": [
    {
     "data": {
      "text/plain": [
       "vin\n",
       "ZACNJABB5KPJ92081    79.599998\n",
       "SALCJ2FX1LH858117    85.599998\n",
       "SALRR2RV0L2433391    87.400002\n",
       "SALCJ2FXXLH862327    85.599998\n",
       "SALYK2EX1LA261711    84.400002\n",
       "                       ...    \n",
       "2GNAXJEV0J6261526    72.599998\n",
       "1GNERFKW0LJ225508    78.599998\n",
       "3FA6P0HD3GR134062    83.500000\n",
       "SAJAJ4BNXHA968809    81.699997\n",
       "JN8AT2MT1HW400805    72.400002\n",
       "Name: width, Length: 2625946, dtype: float32"
      ]
     },
     "execution_count": 156,
     "metadata": {},
     "output_type": "execute_result"
    }
   ],
   "source": [
    "car_df['width']"
   ]
  },
  {
   "cell_type": "code",
   "execution_count": 157,
   "id": "b833e083",
   "metadata": {},
   "outputs": [
    {
     "data": {
      "text/plain": [
       "count    2.494462e+06\n",
       "mean     7.834861e+01\n",
       "std      7.635361e+00\n",
       "min      4.250000e+01\n",
       "25%      7.240000e+01\n",
       "50%      7.730000e+01\n",
       "75%      8.330000e+01\n",
       "max      1.090000e+02\n",
       "Name: width, dtype: float64"
      ]
     },
     "execution_count": 157,
     "metadata": {},
     "output_type": "execute_result"
    }
   ],
   "source": [
    "car_df['width'].describe()"
   ]
  },
  {
   "cell_type": "code",
   "execution_count": 158,
   "id": "47aaeb5a",
   "metadata": {},
   "outputs": [],
   "source": [
    "car_df['width'].fillna(car_df['width'].mode()[0], inplace=True)"
   ]
  },
  {
   "cell_type": "code",
   "execution_count": 159,
   "id": "5bea391f",
   "metadata": {},
   "outputs": [
    {
     "data": {
      "text/plain": [
       "0"
      ]
     },
     "execution_count": 159,
     "metadata": {},
     "output_type": "execute_result"
    }
   ],
   "source": [
    "car_df['width'].isna().sum()"
   ]
  },
  {
   "cell_type": "markdown",
   "id": "5b63c797",
   "metadata": {},
   "source": [
    "### Jäljellä olevat NaN"
   ]
  },
  {
   "cell_type": "code",
   "execution_count": 160,
   "id": "e9e00ed3",
   "metadata": {},
   "outputs": [
    {
     "data": {
      "text/plain": [
       "body_type                     0\n",
       "city                          0\n",
       "daysonmarket                  0\n",
       "dealer_zip                    0\n",
       "engine_displacement           0\n",
       "engine_type                   0\n",
       "exterior_color                0\n",
       "fleet                         0\n",
       "franchise_dealer              0\n",
       "fuel_tank_volume              0\n",
       "fuel_type                     0\n",
       "height                        0\n",
       "horsepower                    0\n",
       "interior_color                0\n",
       "is_new                        0\n",
       "latitude                      0\n",
       "length                        0\n",
       "listed_date                   0\n",
       "listing_color                 0\n",
       "listing_id                    0\n",
       "longitude                     0\n",
       "major_options            163365\n",
       "make_name                     0\n",
       "maximum_seating               0\n",
       "mileage                       0\n",
       "model_name                    0\n",
       "power_hp                      0\n",
       "price                         0\n",
       "savings_amount                0\n",
       "seller_rating                 0\n",
       "sp_name                       0\n",
       "torque                        0\n",
       "transmission                  0\n",
       "wheel_system                  0\n",
       "wheelbase                     0\n",
       "width                         0\n",
       "year                          0\n",
       "combined_fuel_economy         0\n",
       "legroom                       0\n",
       "major_options_count           0\n",
       "dtype: int64"
      ]
     },
     "execution_count": 160,
     "metadata": {},
     "output_type": "execute_result"
    }
   ],
   "source": [
    "car_df.isna().sum()"
   ]
  },
  {
   "cell_type": "code",
   "execution_count": 161,
   "id": "95977437",
   "metadata": {},
   "outputs": [
    {
     "data": {
      "text/plain": [
       "Index(['body_type', 'city', 'dealer_zip', 'engine_type', 'exterior_color',\n",
       "       'fleet', 'franchise_dealer', 'fuel_type', 'interior_color', 'is_new',\n",
       "       'listed_date', 'listing_color', 'major_options', 'make_name',\n",
       "       'model_name', 'sp_name', 'transmission', 'wheel_system'],\n",
       "      dtype='object')"
      ]
     },
     "execution_count": 161,
     "metadata": {},
     "output_type": "execute_result"
    }
   ],
   "source": [
    "car_df.select_dtypes(exclude=np.number).columns"
   ]
  },
  {
   "cell_type": "code",
   "execution_count": 162,
   "id": "bbcebc85",
   "metadata": {},
   "outputs": [],
   "source": [
    "car_df.drop(['franchise_dealer'], axis=1, inplace=True)"
   ]
  },
  {
   "cell_type": "code",
   "execution_count": 163,
   "id": "34c793ba",
   "metadata": {},
   "outputs": [
    {
     "data": {
      "text/html": [
       "<div>\n",
       "<style scoped>\n",
       "    .dataframe tbody tr th:only-of-type {\n",
       "        vertical-align: middle;\n",
       "    }\n",
       "\n",
       "    .dataframe tbody tr th {\n",
       "        vertical-align: top;\n",
       "    }\n",
       "\n",
       "    .dataframe thead th {\n",
       "        text-align: right;\n",
       "    }\n",
       "</style>\n",
       "<table border=\"1\" class=\"dataframe\">\n",
       "  <thead>\n",
       "    <tr style=\"text-align: right;\">\n",
       "      <th></th>\n",
       "      <th>body_type</th>\n",
       "      <th>city</th>\n",
       "      <th>daysonmarket</th>\n",
       "      <th>dealer_zip</th>\n",
       "      <th>engine_displacement</th>\n",
       "      <th>engine_type</th>\n",
       "      <th>exterior_color</th>\n",
       "      <th>fleet</th>\n",
       "      <th>fuel_tank_volume</th>\n",
       "      <th>fuel_type</th>\n",
       "      <th>...</th>\n",
       "      <th>sp_name</th>\n",
       "      <th>torque</th>\n",
       "      <th>transmission</th>\n",
       "      <th>wheel_system</th>\n",
       "      <th>wheelbase</th>\n",
       "      <th>width</th>\n",
       "      <th>year</th>\n",
       "      <th>combined_fuel_economy</th>\n",
       "      <th>legroom</th>\n",
       "      <th>major_options_count</th>\n",
       "    </tr>\n",
       "    <tr>\n",
       "      <th>vin</th>\n",
       "      <th></th>\n",
       "      <th></th>\n",
       "      <th></th>\n",
       "      <th></th>\n",
       "      <th></th>\n",
       "      <th></th>\n",
       "      <th></th>\n",
       "      <th></th>\n",
       "      <th></th>\n",
       "      <th></th>\n",
       "      <th></th>\n",
       "      <th></th>\n",
       "      <th></th>\n",
       "      <th></th>\n",
       "      <th></th>\n",
       "      <th></th>\n",
       "      <th></th>\n",
       "      <th></th>\n",
       "      <th></th>\n",
       "      <th></th>\n",
       "      <th></th>\n",
       "    </tr>\n",
       "  </thead>\n",
       "  <tbody>\n",
       "    <tr>\n",
       "      <th>ZACNJABB5KPJ92081</th>\n",
       "      <td>SUV / Crossover</td>\n",
       "      <td>Bayamon</td>\n",
       "      <td>522</td>\n",
       "      <td>960</td>\n",
       "      <td>1300.0</td>\n",
       "      <td>I4</td>\n",
       "      <td>Yellow</td>\n",
       "      <td>False</td>\n",
       "      <td>12.700000</td>\n",
       "      <td>Gasoline</td>\n",
       "      <td>...</td>\n",
       "      <td>Flagship Chrysler</td>\n",
       "      <td>200.0</td>\n",
       "      <td>A</td>\n",
       "      <td>FWD</td>\n",
       "      <td>101.2</td>\n",
       "      <td>79.599998</td>\n",
       "      <td>2019</td>\n",
       "      <td>26.08331</td>\n",
       "      <td>76.300003</td>\n",
       "      <td>1.000000</td>\n",
       "    </tr>\n",
       "    <tr>\n",
       "      <th>SALCJ2FX1LH858117</th>\n",
       "      <td>SUV / Crossover</td>\n",
       "      <td>San Juan</td>\n",
       "      <td>207</td>\n",
       "      <td>922</td>\n",
       "      <td>2000.0</td>\n",
       "      <td>I4</td>\n",
       "      <td>Black</td>\n",
       "      <td>False</td>\n",
       "      <td>17.700001</td>\n",
       "      <td>Gasoline</td>\n",
       "      <td>...</td>\n",
       "      <td>Land Rover San Juan</td>\n",
       "      <td>269.0</td>\n",
       "      <td>A</td>\n",
       "      <td>AWD</td>\n",
       "      <td>107.9</td>\n",
       "      <td>85.599998</td>\n",
       "      <td>2020</td>\n",
       "      <td>26.08331</td>\n",
       "      <td>77.199997</td>\n",
       "      <td>1.000000</td>\n",
       "    </tr>\n",
       "    <tr>\n",
       "      <th>SALRR2RV0L2433391</th>\n",
       "      <td>SUV / Crossover</td>\n",
       "      <td>San Juan</td>\n",
       "      <td>196</td>\n",
       "      <td>922</td>\n",
       "      <td>3000.0</td>\n",
       "      <td>V6</td>\n",
       "      <td>Gray</td>\n",
       "      <td>False</td>\n",
       "      <td>23.500000</td>\n",
       "      <td>Gasoline</td>\n",
       "      <td>...</td>\n",
       "      <td>Land Rover San Juan</td>\n",
       "      <td>332.0</td>\n",
       "      <td>A</td>\n",
       "      <td>AWD</td>\n",
       "      <td>115.0</td>\n",
       "      <td>87.400002</td>\n",
       "      <td>2020</td>\n",
       "      <td>26.08331</td>\n",
       "      <td>76.599998</td>\n",
       "      <td>6.161012</td>\n",
       "    </tr>\n",
       "    <tr>\n",
       "      <th>SALCJ2FXXLH862327</th>\n",
       "      <td>SUV / Crossover</td>\n",
       "      <td>San Juan</td>\n",
       "      <td>137</td>\n",
       "      <td>922</td>\n",
       "      <td>2000.0</td>\n",
       "      <td>I4</td>\n",
       "      <td>Black</td>\n",
       "      <td>False</td>\n",
       "      <td>17.700001</td>\n",
       "      <td>Gasoline</td>\n",
       "      <td>...</td>\n",
       "      <td>Land Rover San Juan</td>\n",
       "      <td>269.0</td>\n",
       "      <td>A</td>\n",
       "      <td>AWD</td>\n",
       "      <td>107.9</td>\n",
       "      <td>85.599998</td>\n",
       "      <td>2020</td>\n",
       "      <td>26.08331</td>\n",
       "      <td>77.199997</td>\n",
       "      <td>1.000000</td>\n",
       "    </tr>\n",
       "    <tr>\n",
       "      <th>SALYK2EX1LA261711</th>\n",
       "      <td>SUV / Crossover</td>\n",
       "      <td>San Juan</td>\n",
       "      <td>242</td>\n",
       "      <td>922</td>\n",
       "      <td>2000.0</td>\n",
       "      <td>I4</td>\n",
       "      <td>Other Color</td>\n",
       "      <td>False</td>\n",
       "      <td>16.600000</td>\n",
       "      <td>Gasoline</td>\n",
       "      <td>...</td>\n",
       "      <td>Land Rover San Juan</td>\n",
       "      <td>269.0</td>\n",
       "      <td>A</td>\n",
       "      <td>AWD</td>\n",
       "      <td>113.1</td>\n",
       "      <td>84.400002</td>\n",
       "      <td>2020</td>\n",
       "      <td>26.08331</td>\n",
       "      <td>77.300003</td>\n",
       "      <td>8.000000</td>\n",
       "    </tr>\n",
       "  </tbody>\n",
       "</table>\n",
       "<p>5 rows × 39 columns</p>\n",
       "</div>"
      ],
      "text/plain": [
       "                         body_type      city  daysonmarket dealer_zip  \\\n",
       "vin                                                                     \n",
       "ZACNJABB5KPJ92081  SUV / Crossover   Bayamon           522        960   \n",
       "SALCJ2FX1LH858117  SUV / Crossover  San Juan           207        922   \n",
       "SALRR2RV0L2433391  SUV / Crossover  San Juan           196        922   \n",
       "SALCJ2FXXLH862327  SUV / Crossover  San Juan           137        922   \n",
       "SALYK2EX1LA261711  SUV / Crossover  San Juan           242        922   \n",
       "\n",
       "                   engine_displacement engine_type exterior_color  fleet  \\\n",
       "vin                                                                        \n",
       "ZACNJABB5KPJ92081               1300.0          I4         Yellow  False   \n",
       "SALCJ2FX1LH858117               2000.0          I4          Black  False   \n",
       "SALRR2RV0L2433391               3000.0          V6           Gray  False   \n",
       "SALCJ2FXXLH862327               2000.0          I4          Black  False   \n",
       "SALYK2EX1LA261711               2000.0          I4    Other Color  False   \n",
       "\n",
       "                   fuel_tank_volume fuel_type  ...              sp_name  \\\n",
       "vin                                            ...                        \n",
       "ZACNJABB5KPJ92081         12.700000  Gasoline  ...    Flagship Chrysler   \n",
       "SALCJ2FX1LH858117         17.700001  Gasoline  ...  Land Rover San Juan   \n",
       "SALRR2RV0L2433391         23.500000  Gasoline  ...  Land Rover San Juan   \n",
       "SALCJ2FXXLH862327         17.700001  Gasoline  ...  Land Rover San Juan   \n",
       "SALYK2EX1LA261711         16.600000  Gasoline  ...  Land Rover San Juan   \n",
       "\n",
       "                   torque transmission  wheel_system  wheelbase      width  \\\n",
       "vin                                                                          \n",
       "ZACNJABB5KPJ92081   200.0            A           FWD      101.2  79.599998   \n",
       "SALCJ2FX1LH858117   269.0            A           AWD      107.9  85.599998   \n",
       "SALRR2RV0L2433391   332.0            A           AWD      115.0  87.400002   \n",
       "SALCJ2FXXLH862327   269.0            A           AWD      107.9  85.599998   \n",
       "SALYK2EX1LA261711   269.0            A           AWD      113.1  84.400002   \n",
       "\n",
       "                   year combined_fuel_economy    legroom  major_options_count  \n",
       "vin                                                                            \n",
       "ZACNJABB5KPJ92081  2019              26.08331  76.300003             1.000000  \n",
       "SALCJ2FX1LH858117  2020              26.08331  77.199997             1.000000  \n",
       "SALRR2RV0L2433391  2020              26.08331  76.599998             6.161012  \n",
       "SALCJ2FXXLH862327  2020              26.08331  77.199997             1.000000  \n",
       "SALYK2EX1LA261711  2020              26.08331  77.300003             8.000000  \n",
       "\n",
       "[5 rows x 39 columns]"
      ]
     },
     "execution_count": 163,
     "metadata": {},
     "output_type": "execute_result"
    }
   ],
   "source": [
    "car_df.head()"
   ]
  }
 ],
 "metadata": {
  "kernelspec": {
   "display_name": "Python 3 (ipykernel)",
   "language": "python",
   "name": "python3"
  },
  "language_info": {
   "codemirror_mode": {
    "name": "ipython",
    "version": 3
   },
   "file_extension": ".py",
   "mimetype": "text/x-python",
   "name": "python",
   "nbconvert_exporter": "python",
   "pygments_lexer": "ipython3",
   "version": "3.9.13"
  }
 },
 "nbformat": 4,
 "nbformat_minor": 5
}
